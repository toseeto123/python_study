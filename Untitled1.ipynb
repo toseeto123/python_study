{
 "cells": [
  {
   "cell_type": "code",
   "execution_count": 1,
   "id": "9e8593fd",
   "metadata": {},
   "outputs": [
    {
     "name": "stdout",
     "output_type": "stream",
     "text": [
      "{'name': 'foo bar'}\n"
     ]
    }
   ],
   "source": [
    "dict1 = {\"name\":\"foo bar\"}\n",
    "print(dict1)"
   ]
  },
  {
   "cell_type": "code",
   "execution_count": 2,
   "id": "e49c4f55",
   "metadata": {},
   "outputs": [
    {
     "name": "stdout",
     "output_type": "stream",
     "text": [
      "{'korean': 95, 'math': 100, 'science': [80, 70, 90, 60]}\n"
     ]
    }
   ],
   "source": [
    "dict1= {\"korean\":95,\"math\":100,\"science\":[80,70,90,60]}\n",
    "print(dict1)"
   ]
  },
  {
   "cell_type": "code",
   "execution_count": 3,
   "id": "03a020bb",
   "metadata": {},
   "outputs": [],
   "source": [
    "dict1['english'] = \"pass\""
   ]
  },
  {
   "cell_type": "code",
   "execution_count": 5,
   "id": "c1a8e05d",
   "metadata": {},
   "outputs": [
    {
     "name": "stdout",
     "output_type": "stream",
     "text": [
      "{'korean': 95, 'math': 100, 'science': [80, 70, 90, 60], 'english': 'pass'}\n"
     ]
    }
   ],
   "source": [
    "print(dict1)"
   ]
  },
  {
   "cell_type": "code",
   "execution_count": null,
   "id": "16fc9c0c",
   "metadata": {},
   "outputs": [],
   "source": []
  }
 ],
 "metadata": {
  "kernelspec": {
   "display_name": "Python 3 (ipykernel)",
   "language": "python",
   "name": "python3"
  },
  "language_info": {
   "codemirror_mode": {
    "name": "ipython",
    "version": 3
   },
   "file_extension": ".py",
   "mimetype": "text/x-python",
   "name": "python",
   "nbconvert_exporter": "python",
   "pygments_lexer": "ipython3",
   "version": "3.9.13"
  }
 },
 "nbformat": 4,
 "nbformat_minor": 5
}
