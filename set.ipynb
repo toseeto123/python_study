{
 "cells": [
  {
   "cell_type": "code",
   "execution_count": null,
   "id": "998030a3",
   "metadata": {},
   "outputs": [],
   "source": [
    "# 집합 또는 set\n",
    "```\n",
    "    수학 집합 연산을 쉽게 하기 위해 만든 자료형\n",
    "    - 순서없음 , 중복 없음\n",
    "    \n",
    " * 선언 + 입력: 변수명 = set(), 변수명 = {데이터1,데이터2,...} , 변수명 = set(데이터1), 변수명 = set({ 데이터1 , 데이터2, ...})\n",
    " * 읽기: 인덱스번호를 지원하지않음, for 문을 통한 각각의 데이터 출력은 가능하다.\n",
    " * 추기: \n",
    " * 삭제:\n",
    " * 수정: \n",
    "```"
   ]
  },
  {
   "cell_type": "code",
   "execution_count": 1,
   "id": "92a88f27",
   "metadata": {},
   "outputs": [],
   "source": [
    "data_list = list() #[]\n",
    "data_tuple = tuple() #()\n",
    "data_dict = dict() #{}\n",
    "data_set = set() #{}"
   ]
  },
  {
   "cell_type": "code",
   "execution_count": 2,
   "id": "22b85b4f",
   "metadata": {},
   "outputs": [
    {
     "data": {
      "text/plain": [
       "set"
      ]
     },
     "execution_count": 2,
     "metadata": {},
     "output_type": "execute_result"
    }
   ],
   "source": [
    "data_set = set()\n",
    "type(data_set)"
   ]
  },
  {
   "cell_type": "code",
   "execution_count": 4,
   "id": "915b619c",
   "metadata": {},
   "outputs": [
    {
     "data": {
      "text/plain": [
       "set"
      ]
     },
     "execution_count": 4,
     "metadata": {},
     "output_type": "execute_result"
    }
   ],
   "source": [
    "data_set = {'apple','dell','samsung','lg'} #집합자료형\n",
    "type(data_set)"
   ]
  },
  {
   "cell_type": "code",
   "execution_count": 5,
   "id": "d200ebc7",
   "metadata": {},
   "outputs": [
    {
     "data": {
      "text/plain": [
       "set"
      ]
     },
     "execution_count": 5,
     "metadata": {},
     "output_type": "execute_result"
    }
   ],
   "source": [
    "data_set=set('apple') #2개 이상은 소괄호로 표현할수없다.\n",
    "type(data_set)"
   ]
  },
  {
   "cell_type": "code",
   "execution_count": 6,
   "id": "e29fee87",
   "metadata": {},
   "outputs": [],
   "source": [
    "data_set=set({'apple','banana'}) # 굳이 소괄호로 묶고싶다면 해당문법으로 표현해야함"
   ]
  },
  {
   "cell_type": "code",
   "execution_count": 7,
   "id": "4cce6030",
   "metadata": {},
   "outputs": [
    {
     "data": {
      "text/plain": [
       "set"
      ]
     },
     "execution_count": 7,
     "metadata": {},
     "output_type": "execute_result"
    }
   ],
   "source": [
    "type(data_set)"
   ]
  },
  {
   "cell_type": "code",
   "execution_count": 8,
   "id": "32b26ee6",
   "metadata": {},
   "outputs": [],
   "source": [
    "data_set = {'apple','dell','samsung','lg'}"
   ]
  },
  {
   "cell_type": "code",
   "execution_count": 9,
   "id": "ceb80935",
   "metadata": {},
   "outputs": [
    {
     "data": {
      "text/plain": [
       "False"
      ]
     },
     "execution_count": 9,
     "metadata": {},
     "output_type": "execute_result"
    }
   ],
   "source": [
    "'motorola' in data_set #if문처럼 data_set안에 'motorola'라는 데이터가 있는지 물어보는 역할 => boolean으로 판단"
   ]
  },
  {
   "cell_type": "code",
   "execution_count": 10,
   "id": "d8ef3a78",
   "metadata": {},
   "outputs": [
    {
     "name": "stdout",
     "output_type": "stream",
     "text": [
      "{'apple', 'lg', 'samsung', 'dell'}\n"
     ]
    }
   ],
   "source": [
    "if 'apple' in data_set:\n",
    "    print(data_set)"
   ]
  },
  {
   "cell_type": "code",
   "execution_count": 11,
   "id": "7cf6ae21",
   "metadata": {},
   "outputs": [],
   "source": [
    "data1 = {'apple','samsung','lg'} #휴대폰업체\n",
    "data2 = {'xaomi','samsung','lg'} #TV업체"
   ]
  },
  {
   "cell_type": "code",
   "execution_count": 12,
   "id": "e70e7711",
   "metadata": {},
   "outputs": [
    {
     "data": {
      "text/plain": [
       "{'lg', 'samsung'}"
      ]
     },
     "execution_count": 12,
     "metadata": {},
     "output_type": "execute_result"
    }
   ],
   "source": [
    "#휴대폰과 tv업체의 교집합\n",
    "data1 & data2"
   ]
  },
  {
   "cell_type": "code",
   "execution_count": 13,
   "id": "2414c845",
   "metadata": {},
   "outputs": [
    {
     "data": {
      "text/plain": [
       "{'apple', 'lg', 'samsung', 'xaomi'}"
      ]
     },
     "execution_count": 13,
     "metadata": {},
     "output_type": "execute_result"
    }
   ],
   "source": [
    "#휴대폰과 tv업체 합집합\n",
    "data1 | data2"
   ]
  },
  {
   "cell_type": "code",
   "execution_count": 14,
   "id": "d300294f",
   "metadata": {},
   "outputs": [
    {
     "data": {
      "text/plain": [
       "{'apple'}"
      ]
     },
     "execution_count": 14,
     "metadata": {},
     "output_type": "execute_result"
    }
   ],
   "source": [
    "#차집합 -> 휴대폰만 생산하는업체\n",
    "data1 - data2"
   ]
  },
  {
   "cell_type": "code",
   "execution_count": 15,
   "id": "d4a0a772",
   "metadata": {},
   "outputs": [
    {
     "data": {
      "text/plain": [
       "{'apple', 'xaomi'}"
      ]
     },
     "execution_count": 15,
     "metadata": {},
     "output_type": "execute_result"
    }
   ],
   "source": [
    "#교집합을 제외한 나머지\n",
    "data1 ^ data2"
   ]
  },
  {
   "cell_type": "code",
   "execution_count": 16,
   "id": "02872318",
   "metadata": {},
   "outputs": [],
   "source": [
    "data_list = {'apple','dell','samsung','lg','apple','dell','samsung','lg','apple','dell','samsung','lg'}"
   ]
  },
  {
   "cell_type": "code",
   "execution_count": 19,
   "id": "ac64110e",
   "metadata": {},
   "outputs": [],
   "source": [
    "data = set(data_list) #set() 자료형으로 담아서 중복된데이터가 삭제된다"
   ]
  },
  {
   "cell_type": "code",
   "execution_count": 20,
   "id": "0873e68c",
   "metadata": {},
   "outputs": [
    {
     "data": {
      "text/plain": [
       "['apple', 'lg', 'samsung', 'dell']"
      ]
     },
     "execution_count": 20,
     "metadata": {},
     "output_type": "execute_result"
    }
   ],
   "source": [
    "list(data)"
   ]
  },
  {
   "cell_type": "code",
   "execution_count": null,
   "id": "ed155799",
   "metadata": {},
   "outputs": [],
   "source": []
  }
 ],
 "metadata": {
  "kernelspec": {
   "display_name": "Python 3 (ipykernel)",
   "language": "python",
   "name": "python3"
  },
  "language_info": {
   "codemirror_mode": {
    "name": "ipython",
    "version": 3
   },
   "file_extension": ".py",
   "mimetype": "text/x-python",
   "name": "python",
   "nbconvert_exporter": "python",
   "pygments_lexer": "ipython3",
   "version": "3.9.13"
  }
 },
 "nbformat": 4,
 "nbformat_minor": 5
}
