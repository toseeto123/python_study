{
 "cells": [
  {
   "cell_type": "markdown",
   "metadata": {},
   "source": [
    "<div class=\"alert alert-block\" style=\"border: 1px solid #455A64;background-color:#ECEFF1;padding:5px;font-size:0.9em;\">\n",
    "  본 자료와 관련 영상 컨텐츠는 저작권법 제25조 2항에 의해 보호를 받습니다. <br>본 컨텐츠 및 컨텐츠 일부 문구 등을 외부에 공개하거나, 요약해서 게시하지 말아주세요.<br>Copyright <a href=\"https://www.fun-coding.org\">잔재미코딩</a> Dave Lee\n",
    "</div>"
   ]
  },
  {
   "cell_type": "markdown",
   "metadata": {},
   "source": [
    "# 0. 빅데이터\n",
    "* 기존: 관계형 데이터베이스(RDBMS)\n",
    "  - SQL 언어로 사용 가능\n",
    "  - SQL 데이터베이스\n",
    "* 빅데이터: NoSQL 데이터베이스\n",
    "  "
   ]
  },
  {
   "cell_type": "markdown",
   "metadata": {},
   "source": [
    "## 1. NoSQL 이해\n",
    "  - Not only SQL(NoSQL)\n",
    "  - RDBMS의 한계를 극복하기 위해 만들어진 새로운 형태의 데이터저장소\n",
    "  - RDBMS처럼 고정된 **스키마가 존재하지 않음**"
   ]
  },
  {
   "cell_type": "markdown",
   "metadata": {},
   "source": [
    "### 1.1. Why NoSQL?\n",
    "- RDBMS를 기본으로 사용하지만,\n",
    "- 초당 데이터가 수십만개씩 쌓이는 서비스가 많아지면서(쇼셜, 온라인 서비스등), NoSQL을 사용하는 경우가 많아지고 있음\n",
    "- 경험적 수치\n",
    "   - 95% read, 5% write 경우는 RDBMS 가 성능이 나쁘지 않음\n",
    "   - 50% write > 인 경우 RDBMS는 성능 저하 또는 불안정\n",
    "   - NoSQL (분산 환경) + redis (In memory cache) 등을 고려하게 됨\n",
    "- 관계형 데이터베이스 종류\n",
    "   - MySQL, Oracle, PostgreSQL, SQLlite\n",
    "- NoSQL 데이터베이스는 각 데이터베이스마다 기반으로 하는 데이터 모델이 다르므로, 데이터 모델별로 대표적인 데이터베이스를 알아둘 필요가 있음\n",
    "  - 각기 데이터베이스 다루는 인터페이스가 다름\n",
    "    - Key/Value Store\n",
    "    - Wide Column Store\n",
    "    - Document Store\n",
    "    - Graph Store\n",
    "\n",
    "<center>\n",
    "    <img src=\"https://davelee-fun.github.io/fixeddata/nosqltypes.png\">\n",
    "    출처: https://supaerodatascience.github.io/OBD/0_3_project.html\n",
    "</center>    "
   ]
  },
  {
   "cell_type": "markdown",
   "metadata": {},
   "source": [
    "### 1.2. MongoDB 란?\n",
    "* MongoDB는 document 기반 NoSQL 데이터베이스\n",
    "  - MongoDB는 BSON(Binary JSON) 기반의 Document 로 데이터 관리\n",
    "  - JSON 보다 대용량 데이터를 처리할 때 유용하며,\n",
    "  - BSON의 이진 형식은 데이터를 빠르게 스캔하고 처리할 수 있음 \n",
    "\n",
    "> JSON 데이터를 0 과 1 형식으로 변환하여 내부에서 저장하면, 성능상 이점이 있음\n",
    "\n",
    "### JSON 예제\n",
    "```json\n",
    "document  = {\n",
    "    \"id\":\"01\",\n",
    "    \"languange\":\"java\",\n",
    "    \"edition\":{\n",
    "        \"first\":\"1st\",\n",
    "        \"second\":\"2nd\",\n",
    "        \"third\":\"third\"\n",
    "    }\n",
    "}\n",
    "```\n",
    "\n",
    "### MongoDB Document 예제\n",
    "\n",
    "```json\n",
    "{\n",
    "    \"_id\": ObjectId(\"5099803df3f42312312391\"),\n",
    "    \"username\": \"davelee\",\n",
    "    \"name\": { \"first\": \"Dave\", \"last\": \"Lee\" }\n",
    "}\n",
    "```"
   ]
  },
  {
   "cell_type": "markdown",
   "metadata": {},
   "source": [
    "### 1.3. MongoDB 데이터 구조\n",
    " * MongoDB: Database - Collection(table 대체) - Document(Row 대체)\n",
    " * RDBMS: Database - Table - data\n",
    "   - RDBMS의 table이 아니라, Collection 에 JSON 형태의 Document를 넣습니다.\n",
    "   - Document 하나가 하나의 Row(레코드)임\n",
    "<img src=\"https://davelee-fun.github.io/fixeddata/rdbms_nosql.png\" /> "
   ]
  },
  {
   "cell_type": "markdown",
   "metadata": {},
   "source": [
    "### MongoDB Database\n",
    "* Database는 Collection의 집합\n",
    "\n",
    "### MongoDB Collection\n",
    "* Collection은 MongoDB Document의 집합\n",
    "* RDBMS Table과 유사한 개념, 단 정규화된 데이터 구조, 즉 Schema가 정의되어 있지 않음\n",
    "\n",
    "<img src=\"https://davelee-fun.github.io/fixeddata/rdbms_mongodb.png\" /> "
   ]
  },
  {
   "cell_type": "markdown",
   "metadata": {},
   "source": [
    "## 2. MongoDB 설치 및 환경 구축 \n",
    "\n",
    "### 2.1. MongoDB  설치 방법 (맥/윈도우/리눅스 환경)\n",
    "\n",
    "<div class=\"alert alert-block\" style=\"border: 2px solid #E65100;background-color:#FFF3E0;padding:10px\">\n",
    "<font size=\"4em\" style=\"color:#BF360C;\">MongoDB 설치 방법이 수시로 변경되고, 설치가 단순하지 않아지고 있습니다.</font><br>\n",
    "    <font size=\"4em\" style=\"color:#BF360C;\">그래서, 구글에서 mongdb linux install 또는 mongdb windows install 또는 mongodb mac install 로 검색하여, mongodb 공식 페이지의 가이드를 따르시는 것을 추천드립니다</font><br>\n",
    "    - 예: https://www.mongodb.com/docs/manual/administration/install-on-linux/\n",
    "</div>\n",
    "   "
   ]
  },
  {
   "cell_type": "markdown",
   "metadata": {},
   "source": [
    "### 2.2. EC2(AWS 서버)에 MongoDB  설정시 참고 사항 (ubuntu 리눅스)\n",
    "\n",
    "* AWS Management Console -> EC2 -> Security Groups -> EC2's Security Group -> Add Custom TCP Rule, 27017, AnyWhere\n",
    "\n",
    "* 외부 접속 허용\n",
    "  - sudo vi /etc/mongod.conf\n",
    "    - bindIp: 0.0.0.0   으로 변경\n",
    "  - sudo systemctl restart mongod\n",
    "\n",
    "* 계정 추가\n",
    "  - EC2 에서 다음 명령 실행\n",
    "  > 서버 상에서 MongoDB 계정을 추가하지 않으면, 외부에서 해당 포트/주소로 아무나 접속 가능 (해킹 위험)\n",
    "  - 계정 추가 참고 명령\n",
    "```bash\n",
    "> mongosh\n",
    "> use admin\n",
    "> db.createUser(\n",
    "  {\n",
    "    user: \"davelee\",\n",
    "    pwd: \"funcoding\",\n",
    "    roles: [\n",
    "      { role: \"userAdminAnyDatabase\", db: \"admin\" },\n",
    "      { role: \"readWriteAnyDatabase\", db: \"admin\" }\n",
    "    ]\n",
    "  }\n",
    ")\n",
    "> exit\n",
    "> sudo vi /etc/mongod.conf\n",
    "security:\n",
    "    authorization: enabled   # mongodb.conf 에서 해당 설정 변경\n",
    "```\n",
    "```bash\n",
    "> sudo systemctl restart mongod\n",
    "```"
   ]
  },
  {
   "cell_type": "markdown",
   "metadata": {},
   "source": [
    "## 3. MongoDB 바로 다뤄보기\n",
    "\n",
    "### 3.1. Studio 3T Free 설치 (MongoDB 관리 GUI 툴)\n",
    "<div class=\"alert alert-block\" style=\"border: 2px solid #E65100;background-color:#FFF3E0;padding:10px\">\n",
    "<font size=\"4em\" style=\"color:#BF360C;\">기존에는 robomongo 라는 무료 툴이 있었습니다만, 해당 툴이 Studio 3T 라는 이름으로 변경이 되었습니다</font><br>\n",
    "    <font size=\"4em\" style=\"color:#BF360C;\">기본 사용법은 동일하지만, 영상에서 robomongo 라는 용어를 사용할 수 있으므로, 이 부분만 인지하시면 좋을 것 같습니다</font>\n",
    "</div>\n",
    "\n",
    "### 기본 접속 설정\n",
    "- Server\n",
    "  - 사용할 mongodb PC(또는 서버) 주소\n",
    "- Authentication (ID 설정시)\n",
    "  - Authentication Mode: Basic(SCRAM-SHA-256) \n",
    "  - User Name: 사용자 ID\n",
    "  - Password: 사용자 암호\n",
    "  - Authentication DB: admin"
   ]
  },
  {
   "cell_type": "markdown",
   "metadata": {},
   "source": [
    "### 3.2 기본 명령 이해하기\n",
    "\n",
    "### UI 로 데이터베이스/collection 생성 테스트\n",
    "- Add Database 메뉴로 funcoding 데이터베이스 생성\n",
    "- Add Collection 메뉴로 test collection 생성\n",
    "\n",
    "### 기본 명령 테스트해보며 이해하기\n",
    " - IntelliShell 으로 명령창 오픈\n",
    "\n",
    "<div class=\"alert alert-block\" style=\"border: 2px solid #1565C0;background-color:#E3F2FD;padding:10px\">\n",
    "\n",
    "<font size=\"4em\" style=\"font-weight:bold;color:#0D47A1;\">1. 전체 데이터베이스 확인</font>\n",
    "\n",
    "```bash\n",
    "show dbs \n",
    "```\n",
    "\n",
    "<font size=\"4em\" style=\"font-weight:bold;color:#0D47A1;\">2. 데이터베이스 선택과 생성</font>\n",
    " \n",
    "- 해당 데이터베이스가 없으면 **데이터베이스 자동 생성**\n",
    "\n",
    "```bash\n",
    "use [DB 이름]\n",
    "```\n",
    "\n",
    "<font size=\"4em\" style=\"font-weight:bold;color:#0D47A1;\">3. 선택된 데이터베이스의 collection 확인</font>\n",
    "\n",
    "```bash\n",
    "show collections\n",
    "```\n",
    "\n",
    "<font size=\"4em\" style=\"font-weight:bold;color:#0D47A1;\">3. collection 다루기</font>\n",
    "\n",
    "* 예) db.test.find() - test 컬렉션에서 전체 Document 검색\n",
    "    \n",
    "```bash\n",
    " db.[Collection 이름].함수()\n",
    "```\n",
    "\n",
    "<font size=\"4em\" style=\"font-weight:bold;color:#0D47A1;\">3. 데이터베이스 상세 정보 확인</font>\n",
    "\n",
    "```bash\n",
    "db.stats()\n",
    "```\n",
    "\n",
    "<font size=\"4em\" style=\"font-weight:bold;color:#0D47A1;\">4. 데이터베이스/collection 삭제</font>\n",
    "    \n",
    "```bash\n",
    "db.dropDatabase()\n",
    "db.[collection이름].drop()\n",
    "```\n",
    "\n",
    "<font size=\"4em\" style=\"font-weight:bold;color:#0D47A1;\">5. collection 생성</font>\n",
    "\n",
    "```bash\n",
    "db.createCollection(name, options)\n",
    "```\n",
    "    - name: 생성할 컬렉션의 이름을 나타냄\n",
    "    - options: 선택적 매개변수로 컬렉션의 동작을 설정하는데 사용\n",
    "    - options 매개변수에는 다음과 같은 필드가 사용될 수 있음\n",
    "       - capped: 이 값이 true로 설정되면, capped 컬렉션을 생성, Capped 컬렉션은 고정된 크기를 가지며, 그 크기가 꽉 차면 가장 오래된 데이터부터 자동으로 삭제 기본값은 false\n",
    "       - autoIndexId: 이 값이 true로 설정되면, _id 필드에 대한 인덱스를 자동으로 생성, 기본값은 false\n",
    "       - size: capped 컬렉션의 최대 바이트 크기를 지정합니다. capped 옵션이 true일 때만 사용\n",
    "       - max: capped 컬렉션에 저장할 수 있는 문서의 최대 개수를 지정\n",
    "    - collection 의 capped 설정 확인 명령\n",
    "    \n",
    "```bash\n",
    "db.[collection이름].isCapped()\n",
    "```\n",
    "\n",
    "* collection 생성 예1\n",
    "```bash\n",
    "db.createCollection(\"users\")\n",
    "```\n",
    "\n",
    "* collection 생성 예2\n",
    "```bash\n",
    "db.createCollection(\"log\", { capped : true, size : 5242880, max : 5000 } )\n",
    "```\n",
    "\n",
    "<font size=\"4em\" style=\"font-weight:bold;color:#0D47A1;\">6. collection 이름 변경</font>\n",
    "\n",
    "```bash\n",
    "db.[collection이름].renameCollection([변경할collection이름])\n",
    "```"
   ]
  },
  {
   "cell_type": "markdown",
   "metadata": {},
   "source": [
    "### 3.2 MongoDB 의 주요 데이터 타입\n",
    "\n",
    "\n",
    "#### String\n",
    "- 문자열 데이터 타입은 유니코드 문자열을 저장\n",
    "- 예: name: \"John Doe\"와 같이 사용\n",
    "\n",
    "#### Integer\n",
    "- 정수 데이터 타입은 숫자를 저장. 32비트와 64비트 두 가지 형태가 있음\n",
    "- 예: age: 25와 같이 사용\n",
    "\n",
    "#### Boolean\n",
    "- 불리언 데이터 타입은 참(true) 또는 거짓(false) 값을 저장\n",
    "- 예: isStudent: true와 같이 사용\n",
    "\n",
    "#### Double\n",
    "- 부동 소수점 값(즉, 소수)을 저장하는 데이터 타입\n",
    "- 예: rating: 4.5와 같이 사용\n",
    "\n",
    "#### Arrays\n",
    "- 배열 데이터 타입은 값의 리스트를 저장\n",
    "- 예: hobbies: [\"reading\", \"music\", \"travelling\"]와 같이 사용\n",
    "\n",
    "#### Object\n",
    "- 객체 데이터 타입은 임베디드 문서를 저장하는데 사용\n",
    "- 예: address: { city: \"Seoul\", country: \"South Korea\" }와 같이 사용\n",
    "\n",
    "#### Null\n",
    "- null 데이터 타입은 null 값을 저장하는데 사용\n",
    "- 예: middleName: null과 같이 사용\n",
    "\n",
    "#### ObjectId\n",
    "- 문서 ID를 저장하는데 사용되는 데이터 타입\n",
    "- 예: _id: ObjectId(\"507f1f77bcf86cd799439011\")와 같이 사용\n",
    "\n",
    "#### Date\n",
    "- 날짜 데이터 타입은 시간 정보를 저장\n",
    "- 예: createdAt: new Date()와 같이 사용"
   ]
  },
  {
   "cell_type": "markdown",
   "metadata": {},
   "source": [
    "## 4. MongoDB 데이터 입력/수정/검색/삭제 (CRUD)"
   ]
  },
  {
   "cell_type": "markdown",
   "metadata": {},
   "source": [
    "### 4.1. Document 입력 - insertOne, insertMany\n",
    "  - insertOne : 한개의 document 생성\n",
    "  - insertMany : list of document 생성"
   ]
  },
  {
   "cell_type": "markdown",
   "metadata": {},
   "source": [
    "### Document 입력 문법"
   ]
  },
  {
   "cell_type": "markdown",
   "metadata": {},
   "source": [
    "<img src=\"https://davelee-fun.github.io/fixeddata/mongodb_insert_structure.png\" /> "
   ]
  },
  {
   "cell_type": "markdown",
   "metadata": {},
   "source": [
    "### SQL INSERT 문법과 비교"
   ]
  },
  {
   "cell_type": "markdown",
   "metadata": {},
   "source": [
    "<img src=\"https://davelee-fun.github.io/fixeddata/mongodb_insert.png\" /> "
   ]
  },
  {
   "cell_type": "markdown",
   "metadata": {},
   "source": [
    "### insertOne 예제\n",
    "\n",
    "```bash\n",
    "db.users.insertOne(\n",
    "     { subject: \"coding\", author: \"funcoding\", views: 50 }\n",
    ")\n",
    "```\n",
    "\n",
    "### insertMany 예제\n",
    "```bash\n",
    "db.users.insertMany(\n",
    "   [\n",
    "     { subject: \"coffee\", author: \"xyz\", views: 50 },\n",
    "     { subject: \"Coffee Shopping\", author: \"efg\", views: 5 },\n",
    "     { subject: \"Baking a cake\", author: \"abc\", views: 90  },\n",
    "     { subject: \"baking\", author: \"xyz\", views: 100 },\n",
    "     { subject: \"Café Con Leche\", author: \"abc\", views: 200 },\n",
    "     { subject: \"Сырники\", author: \"jkl\", views: 80 },\n",
    "     { subject: \"coffee and cream\", author: \"efg\", views: 10 },\n",
    "     { subject: \"Cafe con Leche\", author: \"xyz\", views: 10 },\n",
    "     { subject: \"coffees\", author: \"xyz\", views: 10 },\n",
    "     { subject: \"coffee1\", author: \"xyz\", views: 10 }\n",
    "   ]\n",
    ")\n",
    "```"
   ]
  },
  {
   "cell_type": "markdown",
   "metadata": {},
   "source": [
    "<div class=\"alert alert-block\" style=\"border: 2px solid #1565C0;background-color:#E3F2FD;padding:10px\">\n",
    "<font size=\"4em\" style=\"font-weight:bold;color:#0D47A1;\">연습문제</font><br>\n",
    "1. users Collection 생성 (Capped Collection, size는 100000 으로 생성)<br>\n",
    "2. 다음 Document 데이터 넣기<br>\n",
    "\n",
    "```json\n",
    "    \t{ name:\"David\", age:45, address:\"서울\" }\n",
    "\t\t{ name:\"DaveLee\", age:25, address:\"경기도\" }\n",
    "\t\t{ name:\"Andy\", age:50, hobby:\"골프\", address:\"경기도\" }\n",
    "\t\t{ name:\"Kate\", age:35, address:\"수원시\" }\n",
    "\t\t{ name:\"Brown\", age:8 }\n",
    "```\n",
    "    \n",
    "</div>"
   ]
  },
  {
   "cell_type": "markdown",
   "metadata": {},
   "source": [
    "### 4.2. Document 읽기(검색) - findOne, find\n",
    "  - findOne : 매칭되는 한개의 document 검색\n",
    "  - find : 매칭되는 list of document 검색\n",
    "  \n",
    "  > db.[collection이름].find() 명령으로 전체 데이터 출력 가능"
   ]
  },
  {
   "cell_type": "markdown",
   "metadata": {},
   "source": [
    "### Document 읽기(검색) 문법\n",
    "- query criteria: 조건\n",
    "- projection: 결과값에서 보여질 field 선택\n",
    "<img src=\"https://davelee-fun.github.io/fixeddata/mongodb_find_structure.png\" /> "
   ]
  },
  {
   "cell_type": "markdown",
   "metadata": {
    "collapsed": true
   },
   "source": [
    "### find() 명령과 - SQL 문 비교\n",
    "\n",
    "```sql\n",
    "- db.users.find() \n",
    "- SELECT * FROM users\n",
    "\n",
    "- db.users.find({ }, { name: 1, address: 1 }) \n",
    "- SELECT _id, name, address FROM users\n",
    "\n",
    "- db.users.find({ },{ name: 1, address: 1, _id: 0 })\n",
    "- SELECT name, address FROM users\n",
    "\n",
    "- db.users.find({ address: \"서울\" })\n",
    "- SELECT * FROM users WHERE address = \"서울\"\n",
    "```"
   ]
  },
  {
   "cell_type": "markdown",
   "metadata": {},
   "source": [
    "<div class=\"alert alert-block\" style=\"border: 2px solid #1565C0;background-color:#E3F2FD;padding:10px\">\n",
    "<font size=\"4em\" style=\"font-weight:bold;color:#0D47A1;\">연습문제</font><br>\n",
    "1. users Collection 에서 name 이 DaveLee 인 Document의 name, age, address, _id 출력<br>\n",
    "2. users Collection 에서 name 가 Kate 인 Document의 name, age, address 출력<br>\n",
    "</div>"
   ]
  },
  {
   "cell_type": "markdown",
   "metadata": {},
   "source": [
    "### 비교 문법\n",
    "<pre>\n",
    "$eq     =    Matches values that are equal to a specified value.\n",
    "$gt     >    Matches values that are greater than a specified value.\n",
    "$gte    >=   Matches values that are greater than or equal to a specified value.\n",
    "$in          Matches any of the values specified in an array.\n",
    "$lt     <    Matches values that are less than a specified value.\n",
    "$lte    <=   Matches values that are less than or equal to a specified value.\n",
    "$ne     !=   Matches all values that are not equal to a specified value.\n",
    "$nin         Matches none of the values specified in an array.\n",
    "</pre>"
   ]
  },
  {
   "cell_type": "markdown",
   "metadata": {},
   "source": [
    "### 비교 문법 코드 예제\n",
    "```bash\n",
    "- db.users.find({ age: { $gt: 25 } })\n",
    "- SELECT * FROM users WHERE age > 25\n",
    "\n",
    "- db.users.find({ age: { $lt: 25 } })\n",
    "- SELECT * FROM users WHERE age < 25\n",
    "\n",
    "- db.users.find({ age: { $gt: 25, $lte: 50 } })\n",
    "- SELECT * FROM users WHERE age > 25 AND age <= 50\n",
    "```"
   ]
  },
  {
   "cell_type": "markdown",
   "metadata": {},
   "source": [
    "<div class=\"alert alert-block\" style=\"border: 2px solid #1565C0;background-color:#E3F2FD;padding:10px\">\n",
    "<font size=\"4em\" style=\"font-weight:bold;color:#0D47A1;\">연습문제</font><br>\n",
    "1. 다음 Document 데이터 넣기<br>\n",
    "   - age 가 20 보다 큰 Document 의 name 만 출력하기<br>\n",
    "   - age 가 50 이고 address 가 경기도 인 Document 의 name 만 출력하기<br>\n",
    "   - age 가 30 보다 작은 Document 의 name 과 age 출력하기<br>\n",
    "</div>"
   ]
  },
  {
   "cell_type": "markdown",
   "metadata": {},
   "source": [
    "### 논리 연산 문법\n",
    "<pre>\n",
    "$or           OR 조건\n",
    "$and          AND 조건\n",
    "$not          NOT 조건\n",
    "</pre>"
   ]
  },
  {
   "cell_type": "markdown",
   "metadata": {},
   "source": [
    "### 논리 연산 문법 코드 예제\n",
    "\n",
    "```bash\n",
    "- db.users.find({ address: \"서울\", age: 45 })\n",
    "- db.users.find({ $and: [ {address: \"서울\"}, {age: 45} ] })\n",
    "- SELECT * FROM users WHERE address = \"서울\" AND age = 45\n",
    "\n",
    "- db.users.find({ $or: [ { address: \"경기도\" } , { age: 45 } ] })\n",
    "- SELECT * FROM users WHERE address = \"경기도\" OR age = 45\n",
    "\n",
    "- db.users.find({ age: { $not: { $eq: 45 } } })\n",
    "- SELECT * FROM users WHERE age != 45\n",
    "```"
   ]
  },
  {
   "cell_type": "markdown",
   "metadata": {},
   "source": [
    "<div class=\"alert alert-block\" style=\"border: 2px solid #1565C0;background-color:#E3F2FD;padding:10px\">\n",
    "<font size=\"4em\" style=\"font-weight:bold;color:#0D47A1;\">연습문제</font><br>\n",
    "1. users Collection 에서 name 가 Brown 이거나, age가 35인 Document 의 모든 필드 출력\n",
    "</div>"
   ]
  },
  {
   "cell_type": "markdown",
   "metadata": {},
   "source": [
    "### 예제로 좀더 이해하는 논리 연산 문법\n",
    "\n",
    "- users Collection 에서 name 가 Brown 이 아니고, age 가 45 가 아닌 모든 필드 출력\n",
    "\n",
    "```bash\n",
    "db.users.find({\n",
    "  name: {\n",
    "    $not: {\n",
    "      $eq: \"Brown\"\n",
    "    }\n",
    "  },\n",
    "  age: {\n",
    "    $not: {\n",
    "      $eq: 45\n",
    "    }\n",
    "  }\n",
    "})\n",
    "\n",
    "```\n",
    "\n",
    "> 단 mongodb 는 명시적으로 \\$and 를 넣지 않아도, 모든 조건을 AND 조건으로 처리함\n",
    "\n",
    "```bash\n",
    "db.users.find({\n",
    "  $and: [\n",
    "    {\n",
    "      name: {\n",
    "        $not: {\n",
    "          $eq: \"Brown\"\n",
    "        }\n",
    "      }\n",
    "    },\n",
    "    {\n",
    "      age: {\n",
    "        $not: {\n",
    "          $eq: 45\n",
    "        }\n",
    "      }\n",
    "    }\n",
    "  ]\n",
    "})\n",
    "```\n",
    "\n",
    "- users Collection 에서 name 가 Brown 이 아니거나, age 가 45 가 아닌 모든 필드 출력\n",
    "\n",
    "```bash\n",
    "db.users.find({\n",
    "  $or: [\n",
    "    {\n",
    "      name: {\n",
    "        $not: {\n",
    "          $eq: \"Brown\"\n",
    "        }\n",
    "      }\n",
    "    },\n",
    "    {\n",
    "      age: {\n",
    "        $not: {\n",
    "          $eq: 45\n",
    "        }\n",
    "      }\n",
    "    }\n",
    "  ]\n",
    "})\n",
    "```"
   ]
  },
  {
   "cell_type": "markdown",
   "metadata": {},
   "source": [
    "### 유용한 추가 문법\n",
    "\n",
    "**정규 표현식을 이용한 검색($regex)**\n",
    "\n",
    "- \"Lee\"라는 문자열을 이름 필드에서 찾는 명령: \n",
    "    - MongoDB: `db.users.find( { name: /Lee/ } )`\n",
    "    - MongoDB: `db.users.find( { name: { $regex: /Lee/ } } )`\n",
    "    - SQL에서는 `SELECT * FROM users WHERE name like \"%Lee%\"`와 동일    \n",
    "- 이름 필드가 \"Da\"로 시작하는 모든 문서를 찾는 명령: \n",
    "    - MongoDB: `db.users.find( { name: /^Da/ } )`\n",
    "    - MongoDB: `db.users.find( { name: { $regex: /^Da/ } } )`\n",
    "    - SQL에서는 `SELECT * FROM users WHERE name like \"Da%\"`와 동일\n",
    "\n",
    "**정렬(sort)**\n",
    "\n",
    "- 주소가 \"경기도\"인 모든 문서를 찾아서, 나이 순으로 오름차순 정렬하는 명령: \n",
    "    - MongoDB: `db.users.find( { address: \"경기도\" } ).sort( { age: 1 } )`\n",
    "    - SQL에서는 `SELECT * FROM users WHERE address = \"경기도\" ORDER BY age ASC`와 동일\n",
    "    \n",
    "- 주소가 \"경기도\"인 모든 문서를 찾아서, 나이 순으로 내림차순 정렬하는 명령: \n",
    "    - MongoDB: `db.users.find( { address: \"경기도\" } ).sort( { age: -1 } )`\n",
    "    - SQL에서는 `SELECT * FROM users WHERE address = \"경기도\" ORDER BY age DESC`와 동일\n",
    "\n",
    "**문서 개수 세기(count)**\n",
    "\n",
    "- 사용자 컬렉션의 문서 수를 세는 명령:\n",
    "    - MongoDB: `db.users.count()`, `db.users.find().count()`\n",
    "    - SQL에서는 `SELECT COUNT(*) FROM users`와 동일\n",
    "\n",
    "**필드 존재 여부로 개수 세기($exists)**\n",
    "\n",
    "- 주소 필드가 존재하는 문서 수를 세는 명령:\n",
    "    - MongoDB: `db.users.count( { address: { $exists: true } } )`, `db.users.find( { address: { $exists: true } } ).count()`\n",
    "    - SQL에서는 `SELECT COUNT(address) FROM users`와 비슷, MongoDB는 주소 필드가 존재하지 않는 문서는 제외\n",
    "    \n",
    "**중복 제거(distinct)**\n",
    "\n",
    "- 모든 사용자의 주소를 중복 없이 가져오는 명령: \n",
    "    - MongoDB: `db.users.distinct( \"address\" )`\n",
    "    - SQL에서는 `SELECT DISTINCT(address) FROM people`과 동일\n",
    "\n",
    "**한 개만 가져오기(findOne, limit)**\n",
    "\n",
    "- 사용자 컬렉션에서 한 개의 문서만 가져오는 명령: \n",
    "    - MongoDB: `db.users.findOne()`, `db.users.find().limit(1)`\n",
    "    - SQL에서는 `SELECT * FROM users LIMIT 1`과 동일"
   ]
  },
  {
   "cell_type": "markdown",
   "metadata": {},
   "source": [
    "### 배열과 $all\n",
    "- 배열(array)을 사용하여 여러 값을 하나의 필드에 저장 가능\n",
    "- 배열은 대괄호([])로 묶인 값들의 리스트로 표현\n",
    "- 예\n",
    "```bash\n",
    "db.users.insertMany([\n",
    "   { name: \"유진\", age: 25, hobbies: [\"독서\", \"영화\", \"요리\"] },\n",
    "   { name: \"동현\", age: 30, hobbies: [\"축구\", \"음악\", \"영화\"] },\n",
    "   { name: \"혜진\", age: 35, hobbies: [\"요리\", \"여행\", \"독서\"] }\n",
    "])\n",
    "```\n",
    "\n",
    "**배열 필드가 주어진 모든 값을 포함하는 문서 찾기($all)**\n",
    "\n",
    "- 취미 필드가 \"축구\"와 \"요리\"를 모두 포함하는 모든 문서를 찾는 명령:\n",
    "    - MongoDB: `db.users.find( { hobbies: { $all: [ \"축구\", \"음악\" ] } } )`\n",
    "    - SQL에서는 이와 동일한 기능을 직접적으로 지원하지 않으나, `SELECT * FROM users WHERE hobbies LIKE \"%축구%\" AND hobbies LIKE \"%음악%\"`와 유사하나, SQL의 경우 \"hobbies\" 필드가 문자열 타입이어야 함\n",
    "    \n",
    "**여러 값 중 하나와 일치하는 문서 찾기($in)**\n",
    "\n",
    "- 나이가 20세, 30세, 40세 중 하나인 모든 문서를 찾는 명령: \n",
    "    - MongoDB: `db.users.find( { hobbies: { $in: [ \"축구\", \"요리\" ] } } )`\n",
    "    - SQL에서는 `SELECT * \n",
    "FROM users \n",
    "WHERE hobbies LIKE '%축구%' OR hobbies LIKE '%요리%'\n",
    "`과 동일\n",
    "\n",
    "**여러 값 중 어떤 것과도 일치하지 않는 문서 찾기($nin)**\n",
    "\n",
    "- 나이가 20세, 30세, 40세 중 어떤 것도 아닌 모든 문서를 찾는 명령: \n",
    "    - MongoDB: `db.users.find( { hobbies: { $nin: [ \"축구\", \"요리\" ] } } )`\n",
    "    - SQL에서는 `SELECT * \n",
    "FROM users \n",
    "WHERE hobbies NOT LIKE '%축구%' AND hobbies NOT LIKE '%요리%'\n",
    "`과 동일"
   ]
  },
  {
   "cell_type": "markdown",
   "metadata": {},
   "source": [
    "### Document 수정 - updateOne, updateMany\n",
    "  - updateOne - 매칭되는 한개의 document 업데이트\n",
    "  - updateMany - 매칭되는 list of document 업데이트\n",
    "  \n",
    "> 업데이트해야 하는 데이터(Key:Value) 가 없으면, 해당 데이터가 해당 Document 에 추가됨"
   ]
  },
  {
   "cell_type": "markdown",
   "metadata": {},
   "source": [
    "### 4.3. Document 수정 문법"
   ]
  },
  {
   "cell_type": "markdown",
   "metadata": {},
   "source": [
    "<img src=\"https://davelee-fun.github.io/fixeddata/mongodb_update_structure.png\" /> "
   ]
  },
  {
   "cell_type": "markdown",
   "metadata": {
    "collapsed": true
   },
   "source": [
    "### Document 수정 코드 예제\n",
    "\n",
    "> 조건에 매칭이 되는 최초 데이터만 변경시에는 updateOne, 전체 데이터 변경시는 updateMany (통상적으로 updateMany 사용)\n",
    "\n",
    "```bash\n",
    "- db.users.updateMany( { age: { $gt: 25 } }, { $set: { address: \"서울\" } } )\n",
    "- UPDATE users SET address = \"서울\" WHERE age > 25\n",
    "\n",
    "- db.users.updateMany( { address: \"서울\" } , { $inc: { age: 3 } } )\n",
    "- UPDATE users SET age = age + 3 WHERE status = \"서울\"\n",
    "```"
   ]
  },
  {
   "cell_type": "markdown",
   "metadata": {},
   "source": [
    "<div class=\"alert alert-block\" style=\"border: 2px solid #1565C0;background-color:#E3F2FD;padding:10px\">\n",
    "<font size=\"4em\" style=\"font-weight:bold;color:#0D47A1;\">연습문제</font><br>\n",
    "1. 다음 Document 데이터 수정하기<br>\n",
    "   - age 가 40 보다 큰 Document 의 address 를 수원시 로 변환하기\n",
    "</div>"
   ]
  },
  {
   "cell_type": "markdown",
   "metadata": {},
   "source": [
    "### Document 수정 관련 유용한 문법\n",
    "\n",
    "**특정 필드 업데이트하기**\n",
    "\n",
    "- 이름이 '유진'인 문서에서 'age' 필드를 26으로 업데이트하는 명령:\n",
    "    - MongoDB: `db.users.updateOne( { name: \"유진\" }, { $set: { age: 26 } } )`\n",
    "    - SQL에서는 `UPDATE users SET age = 26 WHERE name = '유진'`과 동일\n",
    "\n",
    "**문서를 replace 하기**\n",
    "\n",
    "- 이름이 '동현'인 문서를 새로운 문서로 대체하는 명령:\n",
    "    - MongoDB: `db.users.updateOne(\n",
    "    { name: \"동현\" }, \n",
    "    { $set: {\"name\": \"동현2세\", age: 31, hobbies: [\"축구\", \"음악\", \"영화\"]}}\n",
    ")`\n",
    "    - SQL에서는 이런 직접적인 대체는 지원하지 않으므로, 동등한 SQL 구문이 없음\n",
    "\n",
    "**특정 필드를 제거하기**\n",
    "\n",
    "- 이름이 '유진'인 문서에서 'age' 필드를 제거하는 명령:\n",
    "    - MongoDB: `db.users.updateOne( { name: \"유진\" }, { $unset: { age: 1 } } )`\n",
    "    - SQL에서는 `UPDATE users SET age = NULL WHERE name = '유진'`과 유사\n",
    "\n",
    "**특정 조건을 만족하는 문서가 없을 경우 새로 추가하기**\n",
    "\n",
    "- 이름이 '민준'인 문서가 없을 경우 새로운 문서를 추가하는 명령:\n",
    "    - MongoDB: `db.users.updateOne(\n",
    "    { name: \"민준\" }, \n",
    "    { $set: { name: \"민준\", age: 22, hobbies: [\"음악\", \"여행\"] }}, \n",
    "    { upsert: true }\n",
    ")\n",
    "`\n",
    "    - SQL에서는 이런 직접적인 기능은 지원하지 않음\n",
    "\n",
    "**여러 문서의 특정 필드를 수정하기**\n",
    "\n",
    "- 나이가 20 이하인 모든 문서에서 'hobbies' 필드를 '독서'로 업데이트하는 명령:\n",
    "    - MongoDB: `db.users.updateMany( { age: { $lte: 20 } }, { $set: { hobbies: [\"독서\"] } } )`\n",
    "    - SQL에서는 `UPDATE users SET hobbies = '독서' WHERE age <= 20`과 동일\n",
    "\n",
    "**배열에 값 추가하기**\n",
    "\n",
    "- 이름이 '유진'인 문서의 'hobbies' 배열에 '운동'을 추가하는 명령:\n",
    "    - MongoDB: `db.users.updateOne( { name: \"유진\" }, { $push: { hobbies: \"운동\" } } )`\n",
    "    - SQL에서는 이런 배열 추가 기능을 지원하지 않음\n",
    "\n",
    "**배열에서 값 제거하기**\n",
    "\n",
    "- 이름이 '유진'인 문서의 'hobbies' 배열에서 '운동'을 제거하는 명령:\n",
    "    - MongoDB: `db.users.updateOne( { name: \"유진\" }, { $pull: { hobbies: \"운동\" } } )`\n",
    "    - SQL에서는 이런 배열 제거 기능을 지원하지 않음\n",
    "\n",
    "**참고**\n",
    "MongoDB의 update() 함수는 기본적으로 첫 번째로 일치하는 문서만 업데이트합니다. 모든 일치하는 문서를 업데이트하려면 updateMany() 함수를 사용해야 합니다."
   ]
  },
  {
   "cell_type": "markdown",
   "metadata": {},
   "source": [
    "### 4.4. Document 삭제 - removeOne, removeMany\n",
    "  - removeOne - 매칭되는 한개의 document 삭제\n",
    "  - removeMany - 매칭되는 list of document 삭제\n"
   ]
  },
  {
   "cell_type": "markdown",
   "metadata": {},
   "source": [
    "### Document 삭제 문법"
   ]
  },
  {
   "cell_type": "markdown",
   "metadata": {},
   "source": [
    "<img src=\"https://davelee-fun.github.io/fixeddata/mongodb_delete_structure.png\" /> "
   ]
  },
  {
   "cell_type": "markdown",
   "metadata": {
    "collapsed": true
   },
   "source": [
    "### Document 삭제 코드 예제\n",
    "\n",
    "```bash\n",
    "- db.users.deleteMany( { address: \"서울\" } )\n",
    "- DELETE FROM users WHERE status = \"서울\"\n",
    "\n",
    "- db.people.deleteMany({})\n",
    "- DELETE FROM people\n",
    "```"
   ]
  },
  {
   "cell_type": "markdown",
   "metadata": {},
   "source": [
    "<div class=\"alert alert-block\" style=\"border: 2px solid #1565C0;background-color:#E3F2FD;padding:10px\">\n",
    "<font size=\"4em\" style=\"font-weight:bold;color:#0D47A1;\">연습문제</font><br>\n",
    "1. 다음 Document 데이터 삭제하기<br>\n",
    "   - age 가 30 보다 작은 Document 삭제하기\n",
    "</div>"
   ]
  }
 ],
 "metadata": {
  "kernelspec": {
   "display_name": "Python 3 (ipykernel)",
   "language": "python",
   "name": "python3"
  },
  "language_info": {
   "codemirror_mode": {
    "name": "ipython",
    "version": 3
   },
   "file_extension": ".py",
   "mimetype": "text/x-python",
   "name": "python",
   "nbconvert_exporter": "python",
   "pygments_lexer": "ipython3",
   "version": "3.9.13"
  },
  "nbTranslate": {
   "displayLangs": [
    "*"
   ],
   "hotkey": "alt-t",
   "langInMainMenu": true,
   "sourceLang": "en",
   "targetLang": "fr",
   "useGoogleTranslate": true
  }
 },
 "nbformat": 4,
 "nbformat_minor": 1
}
