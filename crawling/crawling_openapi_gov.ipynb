{
 "cells": [
  {
   "cell_type": "markdown",
   "metadata": {
    "pycharm": {
     "name": "#%% md\n"
    }
   },
   "source": [
    "## 다양한 Open API 사용하기\n",
    "\n",
    "### 정부3.0 공공 데이터 포털 API 사용하기\n",
    "\n",
    "* 공공 데이터 포털 가입하기\n",
    "  - https://www.data.go.kr\n",
    "  - 회원가입 -> 로그인 -> '한국환경공단_대기오염정보' 으로 검색 후, 해당 Open API 페이지로 이동\n",
    "     > 공공 데이터 포털은 공인된 기관임에도 아쉽게도, 메뉴와 Open API 가 링크 등이 수시로 바뀌고 있습니다. \n",
    "  - 해당 API 에서 활용신청을 통해 인증키를 발급받은 후, 샘플코드 또는 페이지에 링크되어 있는 문서 또는 가이드를 기반으로 테스트 진행\n",
    "  \n",
    "   <img src=\"https://www.fun-coding.org/00_Images/governapi.png\" />  \n",
    "    "
   ]
  },
  {
   "cell_type": "markdown",
   "metadata": {
    "pycharm": {
     "name": "#%% md\n"
    }
   },
   "source": [
    "- JSON 이외에 XML 포멧으로 데이터를 다루는 경우도 많음\n",
    "  - XML 관련 내용은 '다양한 데이터 읽기 - XML 파일' 참조"
   ]
  },
  {
   "cell_type": "code",
   "execution_count": 35,
   "metadata": {},
   "outputs": [
    {
     "name": "stdout",
     "output_type": "stream",
     "text": [
      "<?xml version=\"1.0\" encoding=\"UTF-8\"?>\r\n",
      "<response>\n",
      "  <header>\n",
      "    <resultCode>00</resultCode>\n",
      "    <resultMsg>NORMAL_CODE</resultMsg>\n",
      "  </header>\n",
      "  <body>\n",
      "    <items>\n",
      "      <item>\n",
      "        <informCode>PM25</informCode>\n",
      "        <dataTime>2023-06-19</dataTime>\n",
      "      </item>\n",
      "      <item>\n",
      "        <informCode>PM10</informCode>\n",
      "        <dataTime>2023-06-19</dataTime>\n",
      "      </item>\n",
      "      <item>\n",
      "        <informCode>O3</informCode>\n",
      "        <dataTime>2023-06-19</dataTime>\n",
      "      </item>\n",
      "      <item>\n",
      "        <informCode>O3</informCode>\n",
      "        <dataTime>2023-06-19</dataTime>\n",
      "      </item>\n",
      "      <item>\n",
      "        <informCode>PM10</informCode>\n",
      "        <dataTime>2023-06-19</dataTime>\n",
      "      </item>\n",
      "      <item>\n",
      "        <informCode>PM10</informCode>\n",
      "        <dataTime>2023-06-19</dataTime>\n",
      "      </item>\n",
      "      <item>\n",
      "        <informCode>PM25</informCode>\n",
      "        <dataTime>2023-06-19</dataTime>\n",
      "      </item>\n",
      "      <item>\n",
      "        <informCode>PM25</informCode>\n",
      "        <dataTime>2023-06-19</dataTime>\n",
      "      </item>\n",
      "      <item>\n",
      "        <informCode>O3</informCode>\n",
      "        <dataTime>2023-06-19</dataTime>\n",
      "      </item>\n",
      "      <item>\n",
      "        <informCode>O3</informCode>\n",
      "        <dataTime>2023-06-19</dataTime>\n",
      "      </item>\n",
      "    </items>\n",
      "    <numOfRows>10</numOfRows>\n",
      "    <pageNo>1</pageNo>\n",
      "    <totalCount>860</totalCount>\n",
      "  </body>\n",
      "</response>\n"
     ]
    }
   ],
   "source": [
    "import requests\n",
    "\n",
    "service_key = '0pffggW2NFCK%2Bgjv2V4N%2FyaKM5jRAtcdiFzPE9wmk8nIJ3fTzAdftlDPak72I2eclJQcNEp0v4SyAg53pz4NJQ%3D%3D'\n",
    "params = '&numOfRows=10&pageNo=1&sidoName=서울&searchCondition=DAILY'\n",
    "open_api = 'http://apis.data.go.kr/B552584/ArpltnInforInqireSvc/getMinuDustFrcstDspth?serviceKey=' + service_key + params\n",
    "\n",
    "res = requests.get(open_api) # naver api와는 다르게 querystring전송\n",
    "\n",
    "print(res.text)"
   ]
  },
  {
   "cell_type": "code",
   "execution_count": 1,
   "metadata": {
    "pycharm": {
     "name": "#%%\n"
    }
   },
   "outputs": [
    {
     "name": "stdout",
     "output_type": "stream",
     "text": [
      "<?xml version=\"1.0\" encoding=\"UTF-8\"?>\r\n",
      "\r\n",
      "\r\n",
      "\r\n",
      "\r\n",
      "<response>\r\n",
      "\t<header>\r\n",
      "\t\t<resultCode>30</resultCode>\r\n",
      "\t\t<resultMsg>SERVICE KEY IS NOT REGISTERED ERROR.</resultMsg>\r\n",
      "\t</header>\r\n",
      "</response>\r\n",
      "\n"
     ]
    }
   ],
   "source": [
    "import requests\n",
    "\n",
    "service_key = '0pffggW2NFCK%2Bgjv2V4N%2FyaKM5jRAtcdiFzPE9wmk8nIJ3fTzAdftlDPak72I2eclJQcNEp0v4SyAg53pz4NJQ%3D%3D'\n",
    "params = '&numOfRows=10&pageNo=1&sidoName=서울&searchCondition=DAILY'\n",
    "open_api = 'http://openapi.airkorea.or.kr/openapi/services/rest/ArpltnInforInqireSvc/getCtprvnRltmMesureDnsty?ServiceKey=' + service_key + params\n",
    "\n",
    "res = requests.get(open_api)\n",
    "\n",
    "print(res.text)"
   ]
  },
  {
   "cell_type": "markdown",
   "metadata": {
    "pycharm": {
     "name": "#%% md\n"
    }
   },
   "source": [
    "### 공공데이터포털 Open API 예제\n",
    "- https://www.data.go.kr/data/15000581/openapi.do"
   ]
  },
  {
   "cell_type": "code",
   "execution_count": 24,
   "metadata": {},
   "outputs": [
    {
     "name": "stdout",
     "output_type": "stream",
     "text": [
      "b'<OpenAPI_ServiceResponse>\\n\\t<cmmMsgHeader>\\n\\t\\t<errMsg>SERVICE ERROR</errMsg>\\n\\t\\t<returnAuthMsg>SERVICE_KEY_IS_NOT_REGISTERED_ERROR</returnAuthMsg>\\n\\t\\t<returnReasonCode>30</returnReasonCode>\\n\\t</cmmMsgHeader>\\n</OpenAPI_ServiceResponse>'\n"
     ]
    }
   ],
   "source": [
    "# Python3 샘플 코드 #\n",
    "\n",
    "\n",
    "import requests\n",
    "\n",
    "url = 'http://apis.data.go.kr/B552584/ArpltnInforInqireSvc/getMinuDustFrcstDspth'\n",
    "params ={'serviceKey' : '0pffggW2NFCK%2Bgjv2V4N%2FyaKM5jRAtcdiFzPE9wmk8nIJ3fTzAdftlDPak72I2eclJQcNEp0v4SyAg53pz4NJQ%3D%3D', 'returnType' : 'xml', 'numOfRows' : '100', 'pageNo' : '1', 'searchDate' : '2020-11-14', 'InformCode' : 'PM10' }\n",
    "\n",
    "response = requests.get(url, params=params)\n",
    "print(response.content)"
   ]
  },
  {
   "cell_type": "markdown",
   "metadata": {
    "pycharm": {
     "name": "#%% md\n"
    }
   },
   "source": [
    "## 다양한 데이터 읽기 - XML"
   ]
  },
  {
   "cell_type": "markdown",
   "metadata": {
    "pycharm": {
     "name": "#%% md\n"
    }
   },
   "source": [
    "* XML(Extensible Markup Language)\n",
    "  - 특정 목적에 따라 데이터를 태그로 감싸서 마크업하는 범용적인 포멧\n",
    "  - 마크업 언어는 태그 등을 이용하여 데이터의 구조를 기술하는 언어의 한 가지\n",
    "  - 가장 친숙한 마크업 언어가 HTML\n",
    "  - XML은 HTML과 마찬가지로 데이터를 계층 구조로 표현\n",
    "  - XML 기본 구조\n",
    "  <pre>\n",
    "  <태그 속성=\"속성값\">내용</태그>\n",
    "  </pre>"
   ]
  },
  {
   "cell_type": "markdown",
   "metadata": {
    "pycharm": {
     "name": "#%% md\n"
    }
   },
   "source": [
    "    - 태그와 속성은 특정 목적에 따라 임의로 이름을 정해서 사용"
   ]
  },
  {
   "cell_type": "raw",
   "metadata": {
    "pycharm": {
     "name": "#%% raw\n"
    }
   },
   "source": [
    "  <product id=\"M001\" price=\"300000\">32인치 LCD 모니터</product>"
   ]
  },
  {
   "cell_type": "markdown",
   "metadata": {
    "pycharm": {
     "name": "#%% md\n"
    }
   },
   "source": [
    "    - 다른 요소와 그룹으로 묶을 수도 있음"
   ]
  },
  {
   "cell_type": "raw",
   "metadata": {
    "pycharm": {
     "name": "#%% raw\n"
    }
   },
   "source": [
    "  <products type=\"전자제품?>\n",
    "      <product id=\"M001\" price=\"300000\">32인치 LCD 모니터</product>\n",
    "      <product id=\"M002\" price=\"210000\">24인치 LCD 모니터</product>\n",
    "  </products>"
   ]
  },
  {
   "cell_type": "markdown",
   "metadata": {},
   "source": [
    "<div class=\"alert alert-block\" style=\"border: 2px solid #E65100;background-color:#FFF3E0;padding:10px\">\n",
    "<font size=\"4em\" style=\"font-weight:bold;color:#BF360C;\">공공데이터포털 Open API 변경 관련 (2022년 업데이트)</font><br><br>\n",
    "<font size=\"3em\" style=\"color:#BF360C;\">공공데이터포털은 정부 관련 기관으로, 공식적으로 Open API 를 제공합니다</font><br>\n",
    "<font size=\"3em\" style=\"color:#BF360C;\">하지만, 예상치 못하게, 관련 Open API 가 완전히 주소가 바뀌었습니다</font><br>\n",
    "<font size=\"3em\" style=\"color:#BF360C;\">이에 다음 코드와 같이 테스트가 가능하여, 코드를 업데이트하였습니다</font><br>\n",
    "<font size=\"3em\" style=\"color:#BF360C;\">관련 코드는 https://www.data.go.kr/data/15073861/openapi.do 에서 변경된 가이드( (4) 대기질 예보통보 조회 상세기능명세 ) 그대로 따른 것이며, 상세 정보도 해당 사이트에서 확인이 가능합니다</font><br>\n",
    "<br>\n",
    "</div>"
   ]
  },
  {
   "cell_type": "markdown",
   "metadata": {},
   "source": [
    "<div class=\"alert alert-block\" style=\"border: 2px solid #E65100;background-color:#FFF3E0;padding:10px\">\n",
    "<font size=\"3em\" style=\"color:#BF360C;\">Open API 는 향후에도 데이터를 기술적으로 공유하는 가장 일반적인 방법이 될 수 있습니다<br> 그래서, 본 강의를 통해 이런 부분도 꼭 경험하시고, 또 찾고자 하시는 데이터가 있으면, 관련 Open API 를 검색하고, <br> 각 Open API 마다 사용법을 가이드하고 있으므로, 이를 이해하고 테스트하실 수 있는 역량도 갖추시는데 도움이 되었으면 좋겠습니다</font><br>\n",
    "</div>"
   ]
  },
  {
   "cell_type": "code",
   "execution_count": 37,
   "metadata": {},
   "outputs": [
    {
     "name": "stdout",
     "output_type": "stream",
     "text": [
      "PM25 2023-06-19\n",
      "PM10 2023-06-19\n",
      "O3 2023-06-19\n",
      "O3 2023-06-19\n",
      "PM10 2023-06-19\n",
      "PM10 2023-06-19\n",
      "PM25 2023-06-19\n",
      "PM25 2023-06-19\n",
      "O3 2023-06-19\n",
      "O3 2023-06-19\n"
     ]
    }
   ],
   "source": [
    "import requests\n",
    "from bs4 import BeautifulSoup\n",
    "\n",
    "service_key = '0pffggW2NFCK%2Bgjv2V4N%2FyaKM5jRAtcdiFzPE9wmk8nIJ3fTzAdftlDPak72I2eclJQcNEp0v4SyAg53pz4NJQ%3D%3D'\n",
    "params = '&numOfRows=10&pageNo=1&sidoName=서울&searchCondition=DAILY'\n",
    "open_api = 'http://apis.data.go.kr/B552584/ArpltnInforInqireSvc/getMinuDustFrcstDspth?serviceKey=' + service_key + params\n",
    "\n",
    "res = requests.get(open_api) # naver api와는 다르게 querystring전송\n",
    "soup = BeautifulSoup(res.content, 'html.parser') \n",
    "\n",
    "data = soup.find_all('item')\n",
    "for item in data:\n",
    "    inform_code = item.find('informcode') #대소문자 구별하지않고 소문자로써야함 위에서 xml데이터로 가져올때 caemelcase로 자동변경된듯함\n",
    "    data_time = item.find('datatime')\n",
    "    print(inform_code.get_text(),data_time.get_text())"
   ]
  },
  {
   "cell_type": "code",
   "execution_count": 7,
   "metadata": {
    "pycharm": {
     "name": "#%%\n"
    }
   },
   "outputs": [
    {
     "name": "stdout",
     "output_type": "stream",
     "text": [
      "2022-08-20 O3\n",
      "2022-08-20 PM10\n",
      "2022-08-20 PM10\n",
      "2022-08-20 PM25\n",
      "2022-08-20 PM25\n",
      "2022-08-20 O3\n",
      "2022-08-20 PM10\n",
      "2022-08-20 PM10\n",
      "2022-08-20 PM25\n",
      "2022-08-20 PM25\n"
     ]
    }
   ],
   "source": [
    "import requests\n",
    "from bs4 import BeautifulSoup\n",
    "\n",
    "service_key = '자신이 발급받은 서비스키를 넣으시면 됩니다'\n",
    "params = '&numOfRows=10&pageNo=1'\n",
    "open_api = 'http://apis.data.go.kr/B552584/ArpltnInforInqireSvc/getMinuDustFrcstDspth?ServiceKey=' + service_key + params\n",
    "\n",
    "res = requests.get(open_api)\n",
    "soup = BeautifulSoup(res.content, 'html.parser')\n",
    "\n",
    "data = soup.find_all('item')\n",
    "for item in data:\n",
    "    datatime = item.find('datatime')\n",
    "    pm10grade = item.find('informcode')\n",
    "    print (datatime.get_text(), pm10grade.get_text())"
   ]
  }
 ],
 "metadata": {
  "kernelspec": {
   "display_name": "Python 3 (ipykernel)",
   "language": "python",
   "name": "python3"
  },
  "language_info": {
   "codemirror_mode": {
    "name": "ipython",
    "version": 3
   },
   "file_extension": ".py",
   "mimetype": "text/x-python",
   "name": "python",
   "nbconvert_exporter": "python",
   "pygments_lexer": "ipython3",
   "version": "3.9.13"
  },
  "nbTranslate": {
   "displayLangs": [
    "*"
   ],
   "hotkey": "alt-t",
   "langInMainMenu": true,
   "sourceLang": "en",
   "targetLang": "fr",
   "useGoogleTranslate": true
  }
 },
 "nbformat": 4,
 "nbformat_minor": 2
}
