{
 "cells": [
  {
   "cell_type": "markdown",
   "metadata": {},
   "source": [
    "## Open API(Rest API)를 활용한 크롤링\n",
    "\n",
    "### Open API(Rest API)란?\n",
    " - **API:** Application Programming Interface의 약자로, 특정 프로그램을 만들기 위해 제공되는 모듈(함수 등)을 의미\n",
    " - **Open API:** 공개 API라고도 불리우며, 누구나 사용할 수 있도록 공개된 API (주로 Rest API 기술을 많이 사용함)\n",
    " - **Rest API:** Representational State Transfer API의 약자로, HTTP프로토콜을 통해 서버 제공 기능을 사용할 수 있는 함수를 의미\n",
    "   - 일반적으로 XML, JSON의 형태로 응답을 전달(원하는 데이터 추출이 수월)\n",
    "   - [참고 - RestAPI란](http://hyunalee.tistory.com/1)"
   ]
  },
  {
   "cell_type": "markdown",
   "metadata": {},
   "source": [
    "### JSON 이란?\n",
    " - JavaScript Object Notation 줄임말\n",
    " - 웹환경에서 서버와 클라이언트 사이에 데이터를 주고 받을때 많이 사용\n",
    "   - Rest API가 주요한 예제\n",
    " - JSON 포멧 예 <br>\n",
    " { \"id\":\"01\", \"language\": \"Java\", \"edition\": \"third\", \"author\": \"Herbert Schildt\" }\n",
    " <br>\n",
    " <br>\n",
    " \n",
    " - 참고 (https://books.google.co.kr/books?id=euSiAwAAQBAJ&pg=PT1755&lpg=PT1755&dq=json+%EC%9E%A5%EC%A0%90&source=bl&ots=VjTIoOjbTK&sig=3t7MXA7g2CvEi8SyD0-GQVywzw0&hl=ko&sa=X&ved=0ahUKEwiwo8OvxJfWAhXDsJQKHYaBDpI4ChDoAQhVMAg#v=onepage&q=json%20%EC%9E%A5%EC%A0%90&f=false)\n",
    "\n",
    " 출처: http://dpug.tistory.com/67#.WbycWshJaUk [퍼그의 전초기지]"
   ]
  },
  {
   "cell_type": "code",
   "execution_count": 10,
   "metadata": {
    "scrolled": true
   },
   "outputs": [
    {
     "name": "stdout",
     "output_type": "stream",
     "text": [
      "{'title': '현대모비스 &apos;SW에 眞心&apos; 23 알고리즘 경진대회로 숨은 인재 찾아', 'originallink': 'http://www.kdfnews.com/news/articleView.html?idxno=112067', 'link': 'http://www.kdfnews.com/news/articleView.html?idxno=112067', 'description': '총 4종류의 프로그래밍 언어(C, C++, JAVA, <b>Python</b>) 사용이 가능하고, 제한된 시간 내에 문제를 풀고 소스코드를 제출하는 방식이다. 현대모비스의 사업 특성을 고려한 임베디드(내장형 시스템) 개발에 초점을 맞춰 메모리... ', 'pubDate': 'Fri, 16 Jun 2023 12:24:00 +0900'}\n"
     ]
    },
    {
     "ename": "TypeError",
     "evalue": "list indices must be integers or slices, not str",
     "output_type": "error",
     "traceback": [
      "\u001b[0;31m---------------------------------------------------------------------------\u001b[0m",
      "\u001b[0;31mTypeError\u001b[0m                                 Traceback (most recent call last)",
      "\u001b[0;32m/var/folders/3w/3fgbsfvd3vz0f0ybpdxgm0f40000gn/T/ipykernel_4302/2688586701.py\u001b[0m in \u001b[0;36m<module>\u001b[0;34m\u001b[0m\n\u001b[1;32m     84\u001b[0m \u001b[0mjson_data\u001b[0m \u001b[0;34m=\u001b[0m \u001b[0mjson\u001b[0m\u001b[0;34m.\u001b[0m\u001b[0mloads\u001b[0m\u001b[0;34m(\u001b[0m\u001b[0mdata\u001b[0m\u001b[0;34m)\u001b[0m\u001b[0;34m\u001b[0m\u001b[0;34m\u001b[0m\u001b[0m\n\u001b[1;32m     85\u001b[0m \u001b[0mprint\u001b[0m\u001b[0;34m(\u001b[0m\u001b[0mjson_data\u001b[0m\u001b[0;34m[\u001b[0m\u001b[0;34m'items'\u001b[0m\u001b[0;34m]\u001b[0m\u001b[0;34m[\u001b[0m\u001b[0;36m0\u001b[0m\u001b[0;34m]\u001b[0m\u001b[0;34m)\u001b[0m\u001b[0;34m\u001b[0m\u001b[0;34m\u001b[0m\u001b[0m\n\u001b[0;32m---> 86\u001b[0;31m \u001b[0mprint\u001b[0m\u001b[0;34m(\u001b[0m\u001b[0mjson_data\u001b[0m\u001b[0;34m[\u001b[0m\u001b[0;34m'items'\u001b[0m\u001b[0;34m]\u001b[0m\u001b[0;34m[\u001b[0m\u001b[0;34m'title'\u001b[0m\u001b[0;34m]\u001b[0m\u001b[0;34m)\u001b[0m\u001b[0;34m\u001b[0m\u001b[0;34m\u001b[0m\u001b[0m\n\u001b[0m",
      "\u001b[0;31mTypeError\u001b[0m: list indices must be integers or slices, not str"
     ]
    }
   ],
   "source": [
    "import json\n",
    "\n",
    "data = \"\"\"\n",
    "    {\n",
    "    \"lastBuildDate\": \"Fri, 16 Jun 2023 12:48:34 +0900\",\n",
    "    \"total\": 7703,\n",
    "    \"start\": 1,\n",
    "    \"display\": 10,\n",
    "    \"items\": [\n",
    "        {\n",
    "            \"title\": \"현대모비스 &apos;SW에 眞心&apos; 23 알고리즘 경진대회로 숨은 인재 찾아\",\n",
    "            \"originallink\": \"http://www.kdfnews.com/news/articleView.html?idxno=112067\",\n",
    "            \"link\": \"http://www.kdfnews.com/news/articleView.html?idxno=112067\",\n",
    "            \"description\": \"총 4종류의 프로그래밍 언어(C, C++, JAVA, <b>Python</b>) 사용이 가능하고, 제한된 시간 내에 문제를 풀고 소스코드를 제출하는 방식이다. 현대모비스의 사업 특성을 고려한 임베디드(내장형 시스템) 개발에 초점을 맞춰 메모리... \",\n",
    "            \"pubDate\": \"Fri, 16 Jun 2023 12:24:00 +0900\"\n",
    "        },\n",
    "        {\n",
    "            \"title\": \"“1등상은 스포티지”…현대모비스, ‘2023 알고리즘 경진대회’ 개최\",\n",
    "            \"originallink\": \"https://www.mk.co.kr/article/10761609\",\n",
    "            \"link\": \"https://n.news.naver.com/mnews/article/009/0005144938?sid=103\",\n",
    "            \"description\": \"총 4종류의 프로그래밍 언어(C, C++, JAVA, <b>Python</b>) 사용이 가능하며, 제한 시간 내에 문제를 풀고 소스코드를 제출하는 방식이다. 현대모비스의 사업 특성을 고려한 임베디드(내장형 시스템) 개발에 초점을 맞춰 메모리... \",\n",
    "            \"pubDate\": \"Fri, 16 Jun 2023 12:24:00 +0900\"\n",
    "        },\n",
    "        {\n",
    "            \"title\": \"현대모비스, 알고리즘 경진대회 개최…숨은 SW인재 찾는다\",\n",
    "            \"originallink\": \"https://www.dnews.co.kr/uhtml/view.jsp?idxno=202306161211154130365\",\n",
    "            \"link\": \"https://www.dnews.co.kr/uhtml/view.jsp?idxno=202306161211154130365\",\n",
    "            \"description\": \"총 4종류의 프로그래밍 언어(C, C++, JAVA, <b>Python</b>) 사용이 가능하며, 제한된 시간 내에 문제를 풀고 소스코드를 제출하는 방식이다. 현대모비스의 사업 특성을 고려한 임베디드(내장형 시스템) 개발에 초점을 맞춰... \",\n",
    "            \"pubDate\": \"Fri, 16 Jun 2023 12:22:00 +0900\"\n",
    "        },\n",
    "        {\n",
    "            \"title\": \"현대모비스, 2023 알고리즘 경진대회 진행\",\n",
    "            \"originallink\": \"http://autotimes.hankyung.com/apps/news.sub_view?popup=0&nid=03&c1=03&c2=03&c3=00&nkey=202306161200191\",\n",
    "            \"link\": \"http://autotimes.hankyung.com/apps/news.sub_view?popup=0&nid=03&c1=03&c2=03&c3=00&nkey=202306161200191\",\n",
    "            \"description\": \"총 4종류의 프로그래밍 언어(C, C++, JAVA, <b>Python</b>) 사용이 가능하며 제한된 시간 내에 문제를 풀고 소스코드를 제출하는 방식이다. 현대모비스의 사업 특성을 고려한 임베디드(내장형 시스템) 개발에 초점을 맞춰 메모리... \",\n",
    "            \"pubDate\": \"Fri, 16 Jun 2023 12:02:00 +0900\"\n",
    "        },\n",
    "        {\n",
    "            \"title\": \"현대모비스, 알고리즘 경진대회 개최…상위권 서류면접 면제\",\n",
    "            \"originallink\": \"https://www.viva100.com/main/view.php?key=20230616010004611\",\n",
    "            \"link\": \"https://www.viva100.com/main/view.php?key=20230616010004611\",\n",
    "            \"description\": \"총 4종류의 프로그래밍 언어(C, C++, JAVA, <b>Python</b>) 사용이 가능하며, 제한시간 안에 문제를 풀고 소스코드를 제출하는 방식이다. 부문별 1등에게는 기아의 최신형 스포티지 하이브리드 차량을 상품으로 주는 등 입상자에게... \",\n",
    "            \"pubDate\": \"Fri, 16 Jun 2023 11:44:00 +0900\"\n",
    "        },\n",
    "        {\n",
    "            \"title\": \"현대모비스 &apos;알고리즘 경진대회&apos; 개최…&quot;SW 우수인재 발굴&quot;\",\n",
    "            \"originallink\": \"http://www.newsworks.co.kr/news/articleView.html?idxno=718131\",\n",
    "            \"link\": \"http://www.newsworks.co.kr/news/articleView.html?idxno=718131\",\n",
    "            \"description\": \"총 4종류의 프로그래밍 언어(C, C++, JAVA, <b>Python</b>) 사용이 가능하며, 제한된 시간 내에 문제를 풀고 소스코드를 제출하는 방식이다. 현대모비스의 사업 특성을 고려한 임베디드(내장형 시스템) 개발에 초점을 맞춰 메모리... \",\n",
    "            \"pubDate\": \"Fri, 16 Jun 2023 11:44:00 +0900\"\n",
    "        },\n",
    "        {\n",
    "            \"title\": \"&apos;SW에 진심&apos; 현대모비스, 알고리즘 경진대회로 숨은 인재 찾는다\",\n",
    "            \"originallink\": \"http://www.goodkyung.com/news/articleView.html?idxno=210022\",\n",
    "            \"link\": \"http://www.goodkyung.com/news/articleView.html?idxno=210022\",\n",
    "            \"description\": \"총 4종류의 프로그래밍 언어(C, C++, JAVA, <b>Python</b>) 사용이 가능하며 제한된 시간 내에 문제를 풀고 소스코드를 제출하는 방식이다. 현대모비스의 사업 특성을 고려한 임베디드(내장형 시스템) 개발에 초점을 맞춰 메모리... \",\n",
    "            \"pubDate\": \"Fri, 16 Jun 2023 11:32:00 +0900\"\n",
    "        },\n",
    "        {\n",
    "            \"title\": \"“SW 인재 발굴” 현대모비스 알고리즘 경진대회\",\n",
    "            \"originallink\": \"http://news.heraldcorp.com/view.php?ud=20230616000337\",\n",
    "            \"link\": \"https://n.news.naver.com/mnews/article/016/0002157151?sid=101\",\n",
    "            \"description\": \"일반부에서 각각 예선을 통과한 상위 50명씩, 총 100명이 본선에 올라 실력을 겨룬다. 모두 4종류의 프로그래밍 언어(C, C++, JAVA, <b>Python</b>) 사용이 가능하며, 제한된 시간 내에 문제를 풀고 소스코드를 제출하는 방식이다.\",\n",
    "            \"pubDate\": \"Fri, 16 Jun 2023 11:27:00 +0900\"\n",
    "        },\n",
    "        {\n",
    "            \"title\": \"현대모비스, 2023 알고리즘 경진대회 열어 숨은 인재 찾는다\",\n",
    "            \"originallink\": \"https://www.megaeconomy.co.kr/news/newsview.php?ncode=1065579252091570\",\n",
    "            \"link\": \"https://www.megaeconomy.co.kr/news/newsview.php?ncode=1065579252091570\",\n",
    "            \"description\": \"총 4종류의 프로그래밍 언어(C, C++, JAVA, <b>Python</b>) 사용이 가능하며, 제한된 시간 내에 문제를 풀고 소스코드를 제출하는 방식이다. 현대모비스의 사업 특성을 고려한 임베디드(내장형 시스템) 개발에 초점을 맞춰 메모리... \",\n",
    "            \"pubDate\": \"Fri, 16 Jun 2023 11:24:00 +0900\"\n",
    "        },\n",
    "        {\n",
    "            \"title\": \"현대모비스, 2023알고리즘 경진대회 개최...SW 우수 인재 발굴\",\n",
    "            \"originallink\": \"https://www.smartfn.co.kr/article/view/sfn202306160026\",\n",
    "            \"link\": \"https://www.smartfn.co.kr/article/view/sfn202306160026\",\n",
    "            \"description\": \"총 4종류의 프로그래밍 언어(C, C++, JAVA, <b>Python</b>) 사용이 가능하며, 제한된 시간 내에 문제를 풀고 소스코드를 제출하는 방식이다. 현대모비스의 사업 특성을 고려한 임베디드(내장형 시스템) 개발에 초점을 맞춰 메모리... \",\n",
    "            \"pubDate\": \"Fri, 16 Jun 2023 11:20:00 +0900\"\n",
    "        }\n",
    "    ]\n",
    "}\n",
    "\"\"\"\n",
    "\n",
    "json_data = json.loads(data)\n",
    "print(json_data['items'][0])\n",
    "# print(json_data['items']['title']) #인덱싱으로 인식하기때문에 문자열이아니라 정수로 인덱싱해야한다.\n",
    "\n"
   ]
  },
  {
   "cell_type": "code",
   "execution_count": 14,
   "metadata": {},
   "outputs": [
    {
     "name": "stdout",
     "output_type": "stream",
     "text": [
      "one\n",
      "two\n",
      "three\n",
      "four\n",
      "five\n"
     ]
    }
   ],
   "source": [
    "numbers = ['one', 'two', 'three', 'four', 'five']\n",
    "   \n",
    "for n in numbers:\n",
    "    print(n)\n"
   ]
  },
  {
   "cell_type": "code",
   "execution_count": 2,
   "metadata": {},
   "outputs": [
    {
     "name": "stdout",
     "output_type": "stream",
     "text": [
      "MHL 케이블 (아이폰, <b>안드로이드</b> 스마트폰 HDMI TV연결)\n",
      "https://search.shopping.naver.com/gate.nhn?id=10782444869\n",
      "10\n"
     ]
    }
   ],
   "source": [
    "import json\n",
    "\n",
    "# 네이버 쇼핑에서, android 라는 키워드로 검색한 상품 리스트 결과\n",
    "data = \"\"\"\n",
    "{\n",
    "    \"lastBuildDate\": \"Sat, 22 Jun 2019 14:57:13 +0900\",\n",
    "    \"total\": 634151,\n",
    "    \"start\": 1,\n",
    "    \"display\": 10,\n",
    "    \"items\": [\n",
    "        {\n",
    "            \"title\": \"MHL 케이블 (아이폰, <b>안드로이드</b> 스마트폰 HDMI TV연결)\",\n",
    "            \"link\": \"https://search.shopping.naver.com/gate.nhn?id=10782444869\",\n",
    "            \"image\": \"https://shopping-phinf.pstatic.net/main_1078244/10782444869.5.jpg\",\n",
    "            \"lprice\": \"16500\",\n",
    "            \"hprice\": \"0\",\n",
    "            \"mallName\": \"투데이샵\",\n",
    "            \"productId\": \"10782444869\",\n",
    "            \"productType\": \"2\"\n",
    "        },\n",
    "        {\n",
    "            \"title\": \"파인디지털 파인드라이브 Q300\",\n",
    "            \"link\": \"https://search.shopping.naver.com/gate.nhn?id=19490416717\",\n",
    "            \"image\": \"https://shopping-phinf.pstatic.net/main_1949041/19490416717.20190527115824.jpg\",\n",
    "            \"lprice\": \"227050\",\n",
    "            \"hprice\": \"359000\",\n",
    "            \"mallName\": \"네이버\",\n",
    "            \"productId\": \"19490416717\",\n",
    "            \"productType\": \"1\"\n",
    "        },\n",
    "        {\n",
    "            \"title\": \"주파집 USB NEW 마그네틱 5핀 <b>안드로이드</b> 자석 고속충전케이블\",\n",
    "            \"link\": \"https://search.shopping.naver.com/gate.nhn?id=16222651410\",\n",
    "            \"image\": \"https://shopping-phinf.pstatic.net/main_1622265/16222651410.20181120154423.jpg\",\n",
    "            \"lprice\": \"6500\",\n",
    "            \"hprice\": \"11900\",\n",
    "            \"mallName\": \"네이버\",\n",
    "            \"productId\": \"16222651410\",\n",
    "            \"productType\": \"1\"\n",
    "        },\n",
    "        {\n",
    "            \"title\": \"MHL 케이블 아이폰 <b>안드로이드</b> HDMI 미러링\",\n",
    "            \"link\": \"https://search.shopping.naver.com/gate.nhn?id=11859583359\",\n",
    "            \"image\": \"https://shopping-phinf.pstatic.net/main_1185958/11859583359.1.jpg\",\n",
    "            \"lprice\": \"12500\",\n",
    "            \"hprice\": \"0\",\n",
    "            \"mallName\": \"가가넷\",\n",
    "            \"productId\": \"11859583359\",\n",
    "            \"productType\": \"2\"\n",
    "        },\n",
    "        {\n",
    "            \"title\": \"아이폰삼각대 / ios&amp;<b>Android</b> 호환 가능\",\n",
    "            \"link\": \"https://search.shopping.naver.com/gate.nhn?id=16341221561\",\n",
    "            \"image\": \"https://shopping-phinf.pstatic.net/main_1634122/16341221561.4.jpg\",\n",
    "            \"lprice\": \"31900\",\n",
    "            \"hprice\": \"0\",\n",
    "            \"mallName\": \"포시즌몰\",\n",
    "            \"productId\": \"16341221561\",\n",
    "            \"productType\": \"2\"\n",
    "        },\n",
    "        {\n",
    "            \"title\": \"뷰잉 (viewing)\",\n",
    "            \"link\": \"https://search.shopping.naver.com/gate.nhn?id=13030462232\",\n",
    "            \"image\": \"https://shopping-phinf.pstatic.net/main_1303046/13030462232.20190306144248.jpg\",\n",
    "            \"lprice\": \"87110\",\n",
    "            \"hprice\": \"180000\",\n",
    "            \"mallName\": \"네이버\",\n",
    "            \"productId\": \"13030462232\",\n",
    "            \"productType\": \"1\"\n",
    "        },\n",
    "        {\n",
    "            \"title\": \"샤오미 Mi Box (TELEBEE)\",\n",
    "            \"link\": \"https://search.shopping.naver.com/gate.nhn?id=12302122742\",\n",
    "            \"image\": \"https://shopping-phinf.pstatic.net/main_1230212/12302122742.20170920112004.jpg\",\n",
    "            \"lprice\": \"54900\",\n",
    "            \"hprice\": \"99000\",\n",
    "            \"mallName\": \"네이버\",\n",
    "            \"productId\": \"12302122742\",\n",
    "            \"productType\": \"1\"\n",
    "        },\n",
    "        {\n",
    "            \"title\": \"MHL 케이블 아이폰 <b>안드로이드</b> HDMI 미러링 TV연결\",\n",
    "            \"link\": \"https://search.shopping.naver.com/gate.nhn?id=8678305242\",\n",
    "            \"image\": \"https://shopping-phinf.pstatic.net/main_8678305/8678305242.5.jpg\",\n",
    "            \"lprice\": \"5500\",\n",
    "            \"hprice\": \"0\",\n",
    "            \"mallName\": \"글로벌텐교\",\n",
    "            \"productId\": \"8678305242\",\n",
    "            \"productType\": \"2\"\n",
    "        },\n",
    "        {\n",
    "            \"title\": \"파인디지털 파인드라이브 Q30\",\n",
    "            \"link\": \"https://search.shopping.naver.com/gate.nhn?id=18711239261\",\n",
    "            \"image\": \"https://shopping-phinf.pstatic.net/main_1871123/18711239261.20190415105108.jpg\",\n",
    "            \"lprice\": \"199000\",\n",
    "            \"hprice\": \"315640\",\n",
    "            \"mallName\": \"네이버\",\n",
    "            \"productId\": \"18711239261\",\n",
    "            \"productType\": \"1\"\n",
    "        },\n",
    "        {\n",
    "            \"title\": \"이노아이오 스마트빔 3\",\n",
    "            \"link\": \"https://search.shopping.naver.com/gate.nhn?id=14032821135\",\n",
    "            \"image\": \"https://shopping-phinf.pstatic.net/main_1403282/14032821135.20180413144450.jpg\",\n",
    "            \"lprice\": \"259870\",\n",
    "            \"hprice\": \"387000\",\n",
    "            \"mallName\": \"네이버\",\n",
    "            \"productId\": \"14032821135\",\n",
    "            \"productType\": \"1\"\n",
    "        }\n",
    "    ]\n",
    "}\n",
    "\"\"\"\n",
    "\n",
    "json_data = json.loads(data) #loads() 에 데이터를 넣으면 json을 파싱한다.\n",
    "print (json_data['items'][0]['title'])\n",
    "print (json_data['items'][0]['link'])\n",
    "print(json_data['display'])\n"
   ]
  },
  {
   "cell_type": "markdown",
   "metadata": {},
   "source": [
    "### 네이버 검색 Open API를 이용한 크롤링 초간단 실습\n",
    " - https://developers.naver.com/main/\n",
    " - [블로그 검색 가이드 문서](https://developers.naver.com/docs/search/blog/)\n",
    "   - 네이버 Open API 이용신청 [참고](http://hnark.tistory.com/135)"
   ]
  },
  {
   "cell_type": "markdown",
   "metadata": {},
   "source": [
    "- postman 설치 (https://www.getpostman.com/downloads/) \n",
    "  - (상세 가이드: http://www.a-mean-blog.com/ko/blog/Node-JS-API/_/API-%ED%85%8C%EC%8A%A4%ED%8A%B8-%ED%94%84%EB%A1%9C%EA%B7%B8%EB%9E%A8-Postman-%EC%84%A4%EC%B9%98%EB%B0%8F-%EA%B0%84%EB%8B%A8-%EC%82%AC%EC%9A%A9%EB%B2%95)\n",
    "\n",
    "- 사용법\n",
    "   1. Sign Up in Postman\n",
    "   2. Insert https://openapi.naver.com/v1/search/news.json?query=스마트 into GET\n",
    "   3. Add X-Naver-Client-Id(key), <font color=\"blue\">CsODwdUTyG9vOI1uIeIf</font>(value) into Headers\n",
    "   4. Add X-Naver-Client-Secret(key), <font color=\"blue\">YmIx0GW8JG</font>(value) into Headers\n",
    "   5. Send\n",
    "   <img src=\"postman.png\" />"
   ]
  },
  {
   "cell_type": "markdown",
   "metadata": {},
   "source": [
    "- [참고: 네이버 Open API HTTP 응답 상태 에러 코드 목록1](https://developers.naver.com/docs/common/openapiguide/#/errorcode.md)\n",
    "- [참고: 일반적인 HTTP 응답 상태 코드](http://ooz.co.kr/260) "
   ]
  },
  {
   "cell_type": "markdown",
   "metadata": {},
   "source": [
    "### 네이버 Open API 사용하기"
   ]
  },
  {
   "cell_type": "code",
   "execution_count": 28,
   "metadata": {},
   "outputs": [
    {
     "name": "stdout",
     "output_type": "stream",
     "text": [
      "1 Apple <b>아이폰</b> 14 프로 256GB [자급제] https://search.shopping.naver.com/gate.nhn?id=34561756621\n",
      "2 Apple <b>아이폰</b> 14 128GB [자급제] https://search.shopping.naver.com/gate.nhn?id=34561821618\n",
      "3 애플 정품 20W 충전기 어댑터 고속 C타입 급속(<b>아이폰</b> 5W 18W 애플워치 에어팟 호환) https://search.shopping.naver.com/gate.nhn?id=83762501308\n",
      "4 Apple <b>아이폰</b> 14 프로 128GB [자급제] https://search.shopping.naver.com/gate.nhn?id=34558906623\n",
      "5 만렙 <b>아이폰</b> 무선충전기 애플워치 에어팟 3in1 호환 https://search.shopping.naver.com/gate.nhn?id=82627738066\n",
      "6 로랜텍 <b>아이폰</b> 충전기 C to 8핀 고속케이블 세트 https://search.shopping.naver.com/gate.nhn?id=33706123618\n",
      "7 로랜텍 맥세이프 고속 무선 충전기 https://search.shopping.naver.com/gate.nhn?id=36928472618\n",
      "8 이쏘코리아 맥세이프 충전기 3in1 무선충전기 <b>아이폰</b> 애플워치 에어팟 https://search.shopping.naver.com/gate.nhn?id=83583712454\n",
      "9 Apple <b>아이폰</b> 13 미니 128GB [자급제] https://search.shopping.naver.com/gate.nhn?id=29030650586\n",
      "10 더블디 <b>아이폰</b> 고속충전기 12W 듀얼 2.4A https://search.shopping.naver.com/gate.nhn?id=21054480157\n"
     ]
    }
   ],
   "source": [
    "import requests #서버에서 데이터를 가져오는 라이브러리\n",
    "import pprint #print를 좀더 구조적으로 보여주는 라이브러리\n",
    "\n",
    "client_key = 'bgpVYzs7UVlAK9_jz93d'\n",
    "client_secret = 'FmRMdVi_UU'\n",
    "\n",
    "naver_open_api = 'https://openapi.naver.com/v1/search/shop.json?query=iphone'\n",
    "\n",
    "#client_key와 client_secret은 header에 담아서 전송해야한다.\n",
    "header_params = {\"X-Naver-Client-Id\":client_key,\"X-Naver-Client-Secret\":client_secret}\n",
    "res = requests.get(naver_open_api, headers= header_params) #header에 default내용 + 추가 데이터를 추가해서 전송\n",
    "\n",
    "if res.status_code == 200:\n",
    "    data = res.json()\n",
    "    #pprint.pprint(data)\n",
    "    for index,item in enumerate(data['items']): #range 보다 조금더 개선된 enumerate\n",
    "        print(index + 1 ,item['title'], item['link'])\n",
    "else:\n",
    "    print(\"error code:\" , res.statud_code)\n"
   ]
  },
  {
   "cell_type": "code",
   "execution_count": 48,
   "metadata": {
    "scrolled": true
   },
   "outputs": [
    {
     "name": "stdout",
     "output_type": "stream",
     "text": [
      "1 삼성전자 갤럭시탭10.1 SHW-M380S/K/W <b>갤럭시노트10</b>. https://search.shopping.naver.com/gate.nhn?id=15705550514\n",
      "2 삼성 <b>Galaxy Note 10</b>.1 GT-N8010EAADBT WiFi only (25,7 cm (10,1 Zoll) 태블릿 (Quad-core, 1,4GHz, 16GB inter https://search.shopping.naver.com/gate.nhn?id=15816182521\n",
      "3 삼성 <b>Galaxy Note 10</b>.1 GT-N8010ZWADBT WiFi only (25,7 cm (10,1 Zoll) 태블릿 (Quad-core, 1,4GHz, 16GB inter https://search.shopping.naver.com/gate.nhn?id=15815943909\n",
      "4 [헤븐엠]<b>10</b> 1 <b>Galaxy NOTE</b> 32 GB (GT-N8013EAVXAR) - https://search.shopping.naver.com/gate.nhn?id=7922959881\n",
      "5 삼성 <b>갤럭시 노트</b> 프로 12.2 SM-P900 SM-P901 SM-905 태블릿에 대 한 <b>10</b>FT USB 3.0 마이크로 B 데이터 동기화 충전기 케이블 코드 https://search.shopping.naver.com/gate.nhn?id=17620695866\n",
      "6 C19560 TD019560 <b>갤럭시노트 10</b> 1LTE E230 태블릿 방탄필름 https://search.shopping.naver.com/gate.nhn?id=19249611936\n",
      "7 삼성전자 <b>갤럭시 노트 10</b>.1 (2014년형) 16G https://search.shopping.naver.com/gate.nhn?id=16958447459\n",
      "8 Samsung SAM-EP-TA<b>10</b>JWE 삼성 전자 갤럭시 S5, <b>갤럭시 노트</b> 3 용 Universal OEM 2.0 Amp, 5.3V 휴대용 충전기 어댑터 - 백색 https://search.shopping.naver.com/gate.nhn?id=17620722278\n",
      "9 <b>갤럭시노트 10</b> 1LTE E230 태블릿 방탄필름 https://search.shopping.naver.com/gate.nhn?id=18453091202\n",
      "10 JNL734729<b>갤럭시노트 10</b> 1LTE E230 태블릿 방탄필름 https://search.shopping.naver.com/gate.nhn?id=19503829633\n"
     ]
    }
   ],
   "source": [
    "import requests\n",
    "import pprint\n",
    "\n",
    "client_id = 'BTMVavws8Is7jmVpUcSL'\n",
    "client_secret = 'sDgiapg86l'\n",
    "\n",
    "naver_open_api = 'https://openapi.naver.com/v1/search/shop.json?query=갤럭시노트10'\n",
    "header_params = {\"X-Naver-Client-Id\":client_id, \"X-Naver-Client-Secret\":client_secret}\n",
    "res = requests.get(naver_open_api, headers=header_params)\n",
    "\n",
    "if res.status_code == 200:\n",
    "    data = res.json()\n",
    "    for index, item in enumerate(data['items']):\n",
    "        print (index + 1, item['title'], item['link'])\n",
    "else:\n",
    "    print (\"Error Code:\", res.status_code)\n",
    "\n"
   ]
  },
  {
   "cell_type": "code",
   "execution_count": 73,
   "metadata": {},
   "outputs": [],
   "source": [
    "import requests\n",
    "import openpyxl\n",
    "\n",
    "client_id = 'BTMVavws8Is7jmVpUcSL'\n",
    "client_secret = 'sDgiapg86l'\n",
    "start, num = 1, 0\n",
    "\n",
    "excel_file = openpyxl.Workbook()\n",
    "excel_sheet = excel_file.active\n",
    "excel_sheet.column_dimensions['B'].width = 100\n",
    "excel_sheet.column_dimensions['C'].width = 100\n",
    "excel_sheet.append(['랭킹', '제목', '링크'])\n",
    "\n",
    "for index in range(10):\n",
    "    start_number = start + (index * 100)\n",
    "    naver_open_api = 'https://openapi.naver.com/v1/search/shop.json?query=샤오미&display=100&start=' + str(start_number)\n",
    "    header_params = {\"X-Naver-Client-Id\":client_id, \"X-Naver-Client-Secret\":client_secret}\n",
    "    res = requests.get(naver_open_api, headers=header_params)\n",
    "    if res.status_code == 200:\n",
    "        data = res.json()\n",
    "        for item in data['items']:\n",
    "            num += 1\n",
    "            excel_sheet.append([num, item['title'], item['link']])\n",
    "    else:\n",
    "        print (\"Error Code:\", res.status_code)\n",
    "\n",
    "excel_file.save('IT.xlsx')\n",
    "excel_file.close()"
   ]
  },
  {
   "cell_type": "markdown",
   "metadata": {},
   "source": [
    "##  네이버쇼핑에서 원하는 데이터를 가져와서 엑셀화하여 보고서 작성하기\n"
   ]
  },
  {
   "cell_type": "code",
   "execution_count": 35,
   "metadata": {},
   "outputs": [],
   "source": [
    "import requests \n",
    "import openpyxl\n",
    "\n",
    "client_key = 'bgpVYzs7UVlAK9_jz93d'\n",
    "client_secret = 'FmRMdVi_UU'\n",
    "\n",
    "#client_key와 client_secret은 header에 담아서 전송해야한다.\n",
    "header_params = {\"X-Naver-Client-Id\":client_key,\"X-Naver-Client-Secret\":client_secret}\n",
    "res = requests.get(naver_open_api, headers= header_params) #header에 default내용 + 추가 데이터를 추가해서 전송\n",
    "\n",
    "excel_file = openpyxl.Workbook()\n",
    "excel_sheet = excel_file.active\n",
    "excel_sheet.column_dimensions['B'].width = 100\n",
    "excel_sheet.column_dimensions['C'].width = 100\n",
    "excel_sheet.append(['랭킹','제목','링크'])\n",
    "\n",
    "\n",
    "#검색결과를 1000개까지 가져오기위해 for문 사용\n",
    "start,num = 1, 0 #tuple자료형으로 인식\n",
    "for index in range(10):\n",
    "    start_num = start +(index * 100)\n",
    "    naver_open_api = 'https://openapi.naver.com/v1/search/shop.json?query=iphone&display=100&start=' + str(start_num)\n",
    "    if res.status_code == 200:\n",
    "        data = res.json()\n",
    "        #pprint.pprint(data)\n",
    "        for item in data['items']: #range 보다 조금더 개선된 enumerate\n",
    "            num += 1\n",
    "            excel_sheet.append([num ,item['title'], item['link']])\n",
    "    else:\n",
    "        print(\"error code:\" , res.statud_code)\n",
    "\n",
    "        \n",
    "excel_file.save('shopping_with_iphone.xlsx')\n",
    "excel_file.close()"
   ]
  },
  {
   "cell_type": "code",
   "execution_count": null,
   "metadata": {},
   "outputs": [],
   "source": []
  }
 ],
 "metadata": {
  "kernelspec": {
   "display_name": "Python 3 (ipykernel)",
   "language": "python",
   "name": "python3"
  },
  "language_info": {
   "codemirror_mode": {
    "name": "ipython",
    "version": 3
   },
   "file_extension": ".py",
   "mimetype": "text/x-python",
   "name": "python",
   "nbconvert_exporter": "python",
   "pygments_lexer": "ipython3",
   "version": "3.9.13"
  },
  "nbTranslate": {
   "displayLangs": [
    "*"
   ],
   "hotkey": "alt-t",
   "langInMainMenu": true,
   "sourceLang": "en",
   "targetLang": "fr",
   "useGoogleTranslate": true
  }
 },
 "nbformat": 4,
 "nbformat_minor": 1
}
