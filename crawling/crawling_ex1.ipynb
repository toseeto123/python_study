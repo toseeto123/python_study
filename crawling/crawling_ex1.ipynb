{
 "cells": [
  {
   "cell_type": "code",
   "execution_count": 5,
   "id": "49a45a81",
   "metadata": {},
   "outputs": [
    {
     "name": "stdout",
     "output_type": "stream",
     "text": [
      "(왕초보) - 클래스 소개\n",
      "(왕초보) - 블로그 개발 필요한 준비물 준비하기\n",
      "(왕초보) - Github pages 설정해서 블로그 첫 페이지 만들어보기\n",
      "(왕초보) - 초간단 페이지 만들어보기\n",
      "(왕초보) - 이쁘게 테마 적용해보기\n",
      "(왕초보) - 마크다운 기초 이해하고, 실제 나만의 블로그 페이지 만들기\n",
      "(왕초보) - 다양한 마크다운 기법 익혀보며, 나만의 블로그 페이지 꾸며보기\n",
      "(초급) - 강사가 실제 사용하는 자동 프로그램 소개 [2]\n",
      "(초급) - 필요한 프로그램 설치 시연 [5]\n",
      "(초급) - 데이터를 엑셀 파일로 만들기 [9]\n",
      "(초급) -     엑셀 파일 이쁘게! 이쁘게! [8]\n",
      "(초급) -     나대신 주기적으로 파이썬 프로그램 실행하기 [7]\n",
      "(초급) - 파이썬으로 슬랙(slack) 메신저에 글쓰기 [40]\n",
      "(초급) - 웹사이트 변경사항 주기적으로 체크해서, 메신저로 알람주기 [12]\n",
      "(초급) - 네이버 API 사용해서, 블로그에 글쓰기 [42]\n",
      "(중급) - 자동으로 쿠팡파트너스 API 로 가져온 상품 정보, 네이버 블로그/트위터에 홍보하기 [412]\n"
     ]
    }
   ],
   "source": [
    "import requests\n",
    "from bs4 import BeautifulSoup\n",
    "\n",
    "res = requests.get('https://davelee-fun.github.io/blog/crawl_test')\n",
    "soup = BeautifulSoup(res.content,'html.parser')\n",
    "titles = soup.find_all('li','course') \n",
    "\n",
    "for title in titles: \n",
    "    print(title.get_text())"
   ]
  },
  {
   "cell_type": "code",
   "execution_count": 19,
   "id": "71935ba5",
   "metadata": {},
   "outputs": [
    {
     "name": "stdout",
     "output_type": "stream",
     "text": [
      "강사가 실제 사용하는 자동 프로그램 소개\n",
      "필요한 프로그램 설치 시연\n",
      "데이터를 엑셀 파일로 만들기\n",
      "엑셀 파일 이쁘게! 이쁘게!\n",
      "나대신 주기적으로 파이썬 프로그램 실행하기\n",
      "파이썬으로 슬랙(slack) 메신저에 글쓰기\n",
      "웹사이트 변경사항 주기적으로 체크해서, 메신저로 알람주기\n",
      "네이버 API 사용해서, 블로그에 글쓰기\n",
      "자동으로 쿠팡파트너스 API 로 가져온 상품 정보, 네이버 블로그/트위터에 홍보하기\n"
     ]
    }
   ],
   "source": [
    "import requests\n",
    "from bs4 import BeautifulSoup\n",
    "\n",
    "res = requests.get('https://davelee-fun.github.io/blog/crawl_test')\n",
    "soup = BeautifulSoup(res.content,'html.parser')\n",
    "\n",
    "section = soup.find(\"ul\", id=\"dev_course_list\") #추출된 데이터들은 object(객체)\n",
    "titles = section.find_all(\"li\", \"course\") #titles라는 변수명으로 만든 객체\n",
    "\n",
    "for item in titles:\n",
    "    #print(item.get_text().split('[')) #split()결과값 리스트형태로 출력\n",
    "    print(item.get_text().split('[')[0].split('-')[1].strip()) #문자열로 출력되는 결과값을 strip()을 사용하여 공백제거"
   ]
  },
  {
   "cell_type": "markdown",
   "id": "5fe5acd0",
   "metadata": {},
   "source": [
    "## 문자열 함수를 추가하여 사용하는 크롤링"
   ]
  },
  {
   "cell_type": "code",
   "execution_count": 30,
   "id": "954dfe0f",
   "metadata": {},
   "outputs": [
    {
     "data": {
      "text/plain": [
       "str"
      ]
     },
     "execution_count": 30,
     "metadata": {},
     "output_type": "execute_result"
    }
   ],
   "source": [
    "import requests\n",
    "from bs4 import BeautifulSoup\n",
    "\n",
    "res = requests.get('https://davelee-fun.github.io/blog/crawl_test_css')\n",
    "soup = BeautifulSoup(res.content,'html.parser')\n",
    "\n",
    "#css selector를 활용한 크롤링\n",
    "items = soup.select('.course.paid') #여러 class이름을 가진경우 .을 붙여서 사용\n",
    "# items = soup.select_one('ul#dev_course_list > li.course.paid') #여러 class이름을 가진경우 .을 붙여서 사용하고 select_one으로\n",
    "# 리스트 자료형이아닌 string으로 받음\n",
    "\n",
    "for item in items:\n",
    "    print(item.get_text())"
   ]
  },
  {
   "cell_type": "code",
   "execution_count": 36,
   "id": "2f71ff96",
   "metadata": {},
   "outputs": [
    {
     "name": "stdout",
     "output_type": "stream",
     "text": [
      "일정, 커리큘럼 타이틀, 난이도\n",
      "5.1 ~ 6.15, 나만의 엣지있는 블로그 사이트 만들기 (취미로 익히는 IT), 초급\n",
      "6.16 ~ 7.31, 파이썬과 데이터과학 첫걸음 (IT 기본기 익히기), 중급\n"
     ]
    }
   ],
   "source": [
    "#find_all 과 select는 호환이 가능하다\n",
    "import requests\n",
    "from bs4 import BeautifulSoup\n",
    "\n",
    "res = requests.get('https://davelee-fun.github.io/blog/crawl_html_css')\n",
    "soup = BeautifulSoup(res.content,'html.parser')\n",
    "items = soup.select('tr') \n",
    "\n",
    "\n",
    "for item in items:\n",
    "    columns = item.select('td')\n",
    "    row_str=''\n",
    "    for column in columns:\n",
    "         row_str += ', ' + column.get_text()\n",
    "    print(row_str[2:])"
   ]
  },
  {
   "cell_type": "code",
   "execution_count": null,
   "id": "a44718e5",
   "metadata": {},
   "outputs": [],
   "source": []
  }
 ],
 "metadata": {
  "kernelspec": {
   "display_name": "Python 3 (ipykernel)",
   "language": "python",
   "name": "python3"
  },
  "language_info": {
   "codemirror_mode": {
    "name": "ipython",
    "version": 3
   },
   "file_extension": ".py",
   "mimetype": "text/x-python",
   "name": "python",
   "nbconvert_exporter": "python",
   "pygments_lexer": "ipython3",
   "version": "3.9.13"
  }
 },
 "nbformat": 4,
 "nbformat_minor": 5
}
