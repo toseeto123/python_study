{
 "cells": [
  {
   "cell_type": "code",
   "execution_count": 1,
   "id": "c898d19a",
   "metadata": {},
   "outputs": [],
   "source": [
    "import requests"
   ]
  },
  {
   "cell_type": "code",
   "execution_count": 2,
   "id": "ed5168ad",
   "metadata": {},
   "outputs": [],
   "source": [
    "from bs4 import BeautifulSoup"
   ]
  },
  {
   "cell_type": "code",
   "execution_count": 14,
   "id": "a8d8b8df",
   "metadata": {},
   "outputs": [
    {
     "name": "stdout",
     "output_type": "stream",
     "text": [
      "[fn마감시황]코스피, 외국인·기관·금투 순매수세에 2630선 상승세\n"
     ]
    }
   ],
   "source": [
    "res = requests.get('https://v.daum.net/v/3alHOA1izv')\n",
    "soup = BeautifulSoup(res.content, 'html.parser')\n",
    "mydata = soup.find('title')\n",
    "print(mydata.get_text())"
   ]
  },
  {
   "cell_type": "code",
   "execution_count": null,
   "id": "59b5aaf2",
   "metadata": {},
   "outputs": [],
   "source": [
    "res.text #string형태의 출력\n",
    "res.content #byte형태의 출력"
   ]
  },
  {
   "cell_type": "code",
   "execution_count": 16,
   "id": "63ab8557",
   "metadata": {},
   "outputs": [],
   "source": [
    "data = soup.find(id='body')\n",
    "data1 = soup.find('p', class_='cssstyle')\n",
    "data2 = soup.find('p', 'cssstyle') #클래스속성이 default이다.\n",
    "data3 = soup.find('p', attr = {'align':'center'})\n",
    "data4 = soup.find(id ='body')\n",
    "\n",
    "data5 = soup.find_all('p') #p태그로 지정된 전체를 가져와서 리스트자료형으로 건네줌.\n",
    "for item in data5:\n",
    "    print(item.string) #리스트형태로 넘어온 data5를 for문을 통하여 하나씩 출력한다."
   ]
  },
  {
   "cell_type": "code",
   "execution_count": 24,
   "id": "93a68690",
   "metadata": {},
   "outputs": [
    {
     "name": "stdout",
     "output_type": "stream",
     "text": [
      "[fn마감시황]코스피, 외국인·기관·금투 순매수세에 2630선 상승세\n",
      "강구귀\n",
      "입력 2023. 6. 13. 15:51\n",
      "\n",
      "\n",
      "코스피에서 외국인, 기관, 금융투자의 순매수세에 힘입어 2630선에서 상승세다.\n",
      "13일 코스피는 전거래일 대비 0.33%오른 2637.95에 마감했다.\n",
      "이날 코스피는 전거래일 대비 0.57%오른 2644.43으로 출발했다.\n",
      "시가총액 상위종목별로 삼성전자(1.4%), SK하이닉스(4.0%) 등은 상승세다.\n",
      "\n"
     ]
    }
   ],
   "source": [
    "import requests \n",
    "from bs4 import BeautifulSoup\n",
    "\n",
    "res = requests.get('https://v.daum.net/v/3alHOA1izv')\n",
    "soup = BeautifulSoup(res.content, 'html.parser')\n",
    "\n",
    "data = soup.find('h3', class_='tit_view')\n",
    "data2 = soup.find_all('span', 'txt_info')\n",
    "data3 = soup.find('div', 'layer_body')\n",
    "\n",
    "print(data.get_text())\n",
    "\n",
    "for item in data2:\n",
    "    print(item.get_text())\n",
    "print(data3.get_text())"
   ]
  },
  {
   "cell_type": "code",
   "execution_count": null,
   "id": "34b750a0",
   "metadata": {},
   "outputs": [],
   "source": []
  }
 ],
 "metadata": {
  "kernelspec": {
   "display_name": "Python 3 (ipykernel)",
   "language": "python",
   "name": "python3"
  },
  "language_info": {
   "codemirror_mode": {
    "name": "ipython",
    "version": 3
   },
   "file_extension": ".py",
   "mimetype": "text/x-python",
   "name": "python",
   "nbconvert_exporter": "python",
   "pygments_lexer": "ipython3",
   "version": "3.9.13"
  }
 },
 "nbformat": 4,
 "nbformat_minor": 5
}
