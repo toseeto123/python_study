{
 "cells": [
  {
   "cell_type": "markdown",
   "metadata": {},
   "source": [
    "### Exercise 64.  함수\n",
    "Fun Coding 을 출력하는 funcoding() 함수를 만들어보고, 호출해보세요."
   ]
  },
  {
   "cell_type": "code",
   "execution_count": 2,
   "metadata": {},
   "outputs": [
    {
     "name": "stdout",
     "output_type": "stream",
     "text": [
      "Fun coding\n"
     ]
    }
   ],
   "source": [
    "def funcoding():\n",
    "    print(\"Fun coding\")\n",
    "\n",
    "funcoding()"
   ]
  },
  {
   "cell_type": "code",
   "execution_count": 2,
   "metadata": {},
   "outputs": [
    {
     "name": "stdout",
     "output_type": "stream",
     "text": [
      "Fun Coding\n"
     ]
    }
   ],
   "source": [
    "def funcoding():\n",
    "    print (\"Fun Coding\")\n",
    "\n",
    "funcoding()"
   ]
  },
  {
   "cell_type": "markdown",
   "metadata": {
    "collapsed": true
   },
   "source": [
    "### Exercise 65.  함수\n",
    "임의의 문자열을 넣으면 해당 문자열을 출력하는 funcoding() 함수를 만들어보고, 호출해보세요.\n",
    "```python\n",
    "출력 예:\n",
    "funcoding(\"Fun Coding\")\n",
    "\n",
    "Fun Coding\n",
    "```\n"
   ]
  },
  {
   "cell_type": "code",
   "execution_count": 3,
   "metadata": {},
   "outputs": [
    {
     "name": "stdout",
     "output_type": "stream",
     "text": [
      "성공\n"
     ]
    }
   ],
   "source": [
    "def funcoding(message):\n",
    "    print(message)\n",
    "\n",
    "funcoding(\"성공\")"
   ]
  },
  {
   "cell_type": "code",
   "execution_count": 4,
   "metadata": {},
   "outputs": [
    {
     "name": "stdout",
     "output_type": "stream",
     "text": [
      "Dave Lee\n"
     ]
    }
   ],
   "source": [
    "def funcoding(argument1):\n",
    "    print (argument1)\n",
    "\n",
    "funcoding(\"Dave Lee\")"
   ]
  },
  {
   "cell_type": "markdown",
   "metadata": {},
   "source": [
    "### Exercise 66. 함수\n",
    "임의의 세 개의 숫자를 인자로 넣으면 세 숫자를 더한 값을 출력해주는 함수를 만들어보고, 호출해보세요.\n",
    "```python\n",
    "출력 예:\n",
    "plus(1, 2, 3)\n",
    "\n",
    "6\n",
    "```"
   ]
  },
  {
   "cell_type": "code",
   "execution_count": 4,
   "metadata": {},
   "outputs": [
    {
     "name": "stdout",
     "output_type": "stream",
     "text": [
      "15\n"
     ]
    }
   ],
   "source": [
    "def plus(a,b,c):\n",
    "    print(a+b+c)\n",
    "\n",
    "plus(4,5,6)"
   ]
  },
  {
   "cell_type": "code",
   "execution_count": 5,
   "metadata": {},
   "outputs": [
    {
     "name": "stdout",
     "output_type": "stream",
     "text": [
      "6\n"
     ]
    }
   ],
   "source": [
    "def plus(data1, data2, data3):\n",
    "    print (data1 + data2 + data3)\n",
    "\n",
    "plus(1, 2, 3)\n",
    "    "
   ]
  },
  {
   "cell_type": "markdown",
   "metadata": {},
   "source": [
    "### Exercise 67. 함수 \n",
    "임의의 두 개의 숫자를 인자로 넣으면 두 개의 숫자를 곱한 값을 리턴해주는 함수를 만들어보고, 특정 변수에 해당 리턴값을 넣고, 호출해보세요.\n",
    "```python\n",
    "출력 예:\n",
    "data = multiply(2, 3)\n",
    "print (data)\n",
    "\n",
    "6\n",
    "```"
   ]
  },
  {
   "cell_type": "code",
   "execution_count": 6,
   "metadata": {},
   "outputs": [
    {
     "name": "stdout",
     "output_type": "stream",
     "text": [
      "25\n"
     ]
    }
   ],
   "source": [
    "def multiply(a,b):\n",
    "    return a * b\n",
    "\n",
    "result = multiply(5,5)\n",
    "print(result)"
   ]
  },
  {
   "cell_type": "code",
   "execution_count": 6,
   "metadata": {},
   "outputs": [
    {
     "name": "stdout",
     "output_type": "stream",
     "text": [
      "6\n"
     ]
    }
   ],
   "source": [
    "def multiply(data1, data2):\n",
    "    return data1 * data2\n",
    "\n",
    "data = multiply(2, 3)\n",
    "print (data)"
   ]
  },
  {
   "cell_type": "markdown",
   "metadata": {},
   "source": [
    "### Exercise 68. 함수\n",
    "사칙연산을 지원하는 함수를 다음과 같이 만들고, 특정 변수에 해당 리턴값을 넣고, 호출해보세요.\n",
    "\n",
    "```python\n",
    "첫번째 인자: 숫자\n",
    "두번째 인자: 숫자\n",
    "세번째 인자: \"*\" 또는 \"+\"\n",
    "\n",
    "세번째 인자에 따라 첫번째 인자와 두번째 인자를 곱하거나, 더한 값을 리턴\n",
    "만약, 세번째 인자가 \"*\" 또는 \"+\" 가 아니라면, 0을 리턴\n",
    "출력 예1:\n",
    "data = cal(2, 3, \"*\")\n",
    "print (data)\n",
    "\n",
    "6\n",
    "\n",
    "출력 예2:\n",
    "data = cal(2, 3, \"+\")\n",
    "print (data)\n",
    "\n",
    "5\n",
    "\n",
    "출력 예3:\n",
    "data = cal(2, 3, \"-\")\n",
    "print (data)\n",
    "\n",
    "0\n",
    "```"
   ]
  },
  {
   "cell_type": "code",
   "execution_count": 8,
   "metadata": {},
   "outputs": [
    {
     "name": "stdout",
     "output_type": "stream",
     "text": [
      "10 25 0\n"
     ]
    }
   ],
   "source": [
    "def func(a,b,c): #java와 다르게 파라미터의 데이터형을 지정할 필요 없음\n",
    "    if c == \"*\":\n",
    "        return a * b\n",
    "    elif c == \"+\":\n",
    "        return a + b\n",
    "    else :\n",
    "        return 0\n",
    "    \n",
    "data1 = func(5,5,\"+\")\n",
    "data2 = func(5,5,\"*\")\n",
    "data3 = func(5,5,\"-\")\n",
    "\n",
    "print(data1,data2,data3)"
   ]
  },
  {
   "cell_type": "code",
   "execution_count": 9,
   "metadata": {},
   "outputs": [
    {
     "name": "stdout",
     "output_type": "stream",
     "text": [
      "3\n",
      "2\n",
      "0\n"
     ]
    }
   ],
   "source": [
    "def cal(data1, data2, way):\n",
    "    if way == \"+\":\n",
    "        return data1 + data2\n",
    "    elif way == \"*\":\n",
    "        return data1 * data2\n",
    "    else:\n",
    "        return 0\n",
    "    \n",
    "data = cal(1, 2, \"+\")\n",
    "print (data)\n",
    "\n",
    "data = cal(1, 2, \"*\")\n",
    "print (data)\n",
    "\n",
    "data = cal(1, 2, \"/\")\n",
    "print (data)\n"
   ]
  },
  {
   "cell_type": "markdown",
   "metadata": {},
   "source": [
    "### Exercise 69. 함수\n",
    "Exercise 68에서 작성한 함수에 사칙연산 기능을 \"-\" (빼기) 와 \"/\" (나누기) 도 지원하도록 추가해서, 호출해보세요.<br>\n",
    "단, \"/\" 일 경우, 두번째 인자가 0이면, -1 을 리턴하도록 작성하세요."
   ]
  },
  {
   "cell_type": "code",
   "execution_count": 20,
   "metadata": {},
   "outputs": [
    {
     "name": "stdout",
     "output_type": "stream",
     "text": [
      "0 3 3 -1 1.5\n",
      "<class 'NoneType'>\n"
     ]
    }
   ],
   "source": [
    "def func(a,b,c): #java와 다르게 파라미터의 데이터형을 지정할 필요 없음\n",
    "    if c == \"*\":\n",
    "        return a * b\n",
    "    elif c == \"+\":\n",
    "        return a + b\n",
    "    elif c == \"-\":\n",
    "        return a - b\n",
    "    elif c == \"/\":\n",
    "        if b == 0:\n",
    "            return -1\n",
    "        else:\n",
    "            return a / b\n",
    "    else :\n",
    "        return 0\n",
    "\n",
    "data1 = func(3,0,\"*\")\n",
    "data2 = func(3,0,\"+\")\n",
    "data3 = func(3,0,\"-\")\n",
    "data4 = func(3,0,\"/\")\n",
    "data5 = func(3,2,\"/\")\n",
    "\n",
    "print(data1,data2,data3,data4,data5)\n",
    "print(type(None))"
   ]
  },
  {
   "cell_type": "code",
   "execution_count": 10,
   "metadata": {},
   "outputs": [
    {
     "name": "stdout",
     "output_type": "stream",
     "text": [
      "3\n",
      "2\n",
      "-1\n",
      "-1\n",
      "0.5\n"
     ]
    }
   ],
   "source": [
    "def cal(data1, data2, way):\n",
    "    if way == \"+\":\n",
    "        return data1 + data2\n",
    "    elif way == \"*\":\n",
    "        return data1 * data2\n",
    "    elif way == \"-\":\n",
    "        return data1 - data2\n",
    "    elif way == \"/\":\n",
    "        if data2 == 0:\n",
    "            return -1\n",
    "        else:\n",
    "            return data1 / data2\n",
    "    else:\n",
    "        return 0\n",
    "    \n",
    "data = cal(1, 2, \"+\")\n",
    "print (data)\n",
    "\n",
    "data = cal(1, 2, \"*\")\n",
    "print (data)\n",
    "\n",
    "data = cal(1, 2, \"-\")\n",
    "print (data)\n",
    "\n",
    "data = cal(1, 0, \"/\")\n",
    "print (data)\n",
    "\n",
    "data = cal(1, 2, \"/\")\n",
    "print (data)"
   ]
  },
  {
   "cell_type": "markdown",
   "metadata": {},
   "source": [
    "### Exercise 70. 함수\n",
    "다음과 같은 기능을 하는 함수를 작성하고, 호출해보세요.\n",
    "```python\n",
    "첫번째 인자: 문자열\n",
    "두번째 인자: 숫자\n",
    "리턴값: 문자열을 숫자만큼 넣은 리스트\n",
    "출력 예1:\n",
    "print_string(\"Fun\", 3)\n",
    "\n",
    "[\"Fun\", \"Fun\", \"Fun\"]\n",
    "```"
   ]
  },
  {
   "cell_type": "code",
   "execution_count": 24,
   "metadata": {},
   "outputs": [
    {
     "data": {
      "text/plain": [
       "['성', '공']"
      ]
     },
     "execution_count": 24,
     "metadata": {},
     "output_type": "execute_result"
    }
   ],
   "source": [
    "def func(a,b):\n",
    "    data = list()\n",
    "    if \n",
    "    return list(a)\n",
    "\n",
    "func(\"성공\",3)"
   ]
  },
  {
   "cell_type": "code",
   "execution_count": 12,
   "metadata": {},
   "outputs": [
    {
     "name": "stdout",
     "output_type": "stream",
     "text": [
      "['Fun', 'Fun', 'Fun']\n"
     ]
    }
   ],
   "source": [
    "def print_string(string, digit):\n",
    "    data = list()\n",
    "    for index in range(digit):\n",
    "        data.append(string)\n",
    "    return data\n",
    "\n",
    "print_string(\"Fun\", 3)"
   ]
  },
  {
   "cell_type": "code",
   "execution_count": null,
   "metadata": {},
   "outputs": [],
   "source": []
  }
 ],
 "metadata": {
  "kernelspec": {
   "display_name": "Python 3 (ipykernel)",
   "language": "python",
   "name": "python3"
  },
  "language_info": {
   "codemirror_mode": {
    "name": "ipython",
    "version": 3
   },
   "file_extension": ".py",
   "mimetype": "text/x-python",
   "name": "python",
   "nbconvert_exporter": "python",
   "pygments_lexer": "ipython3",
   "version": "3.9.13"
  },
  "nbTranslate": {
   "displayLangs": [
    "*"
   ],
   "hotkey": "alt-t",
   "langInMainMenu": true,
   "sourceLang": "en",
   "targetLang": "fr",
   "useGoogleTranslate": true
  }
 },
 "nbformat": 4,
 "nbformat_minor": 2
}
