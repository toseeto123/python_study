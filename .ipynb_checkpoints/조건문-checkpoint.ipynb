{
 "cells": [
  {
   "cell_type": "code",
   "execution_count": 1,
   "id": "50492438",
   "metadata": {},
   "outputs": [],
   "source": [
    "#나이를 입력받아서 나이가 19이상이면 당신은 성인입니다 출력하기"
   ]
  },
  {
   "cell_type": "code",
   "execution_count": 7,
   "id": "97c524ec",
   "metadata": {},
   "outputs": [
    {
     "name": "stdout",
     "output_type": "stream",
     "text": [
      "20\n",
      "성인\n"
     ]
    }
   ],
   "source": [
    "age = int(input())\n",
    "if age >= 19:\n",
    "    print('성인')\n",
    "else:\n",
    "    print('미성년자')"
   ]
  },
  {
   "cell_type": "code",
   "execution_count": 8,
   "id": "4534509b",
   "metadata": {},
   "outputs": [
    {
     "name": "stdout",
     "output_type": "stream",
     "text": [
      "철수의 나이는?21\n",
      "영희의 나이는?22\n",
      "19금\n"
     ]
    }
   ],
   "source": [
    "age1 = input(\"철수의 나이는?\")\n",
    "age_digit1 = int(age1)\n",
    "\n",
    "age2 = input(\"영희의 나이는?\")\n",
    "age_digit2 = int(age2)\n",
    "\n",
    "if(age_digit1) >= 19 and age_digit2 >=19:\n",
    "    print(\"19금\")"
   ]
  },
  {
   "cell_type": "code",
   "execution_count": 9,
   "id": "75eb78f9",
   "metadata": {},
   "outputs": [
    {
     "name": "stdout",
     "output_type": "stream",
     "text": [
      "철수의 나이는?15\n",
      "영희의 나이는?20\n",
      "19금\n"
     ]
    }
   ],
   "source": [
    "age1 = input(\"철수의 나이는?\")\n",
    "age_digit1 = int(age1)\n",
    "\n",
    "age2 = input(\"영희의 나이는?\")\n",
    "age_digit2 = int(age2)\n",
    "\n",
    "if(age_digit1) >= 19 or age_digit2 >=19:\n",
    "    print(\"19금\")"
   ]
  },
  {
   "cell_type": "code",
   "execution_count": 12,
   "id": "e1653f42",
   "metadata": {},
   "outputs": [
    {
     "name": "stdout",
     "output_type": "stream",
     "text": [
      "철수의 나이는?18\n",
      "영희의 나이는?20\n",
      "19금\n"
     ]
    }
   ],
   "source": [
    "age1 = input(\"철수의 나이는?\")\n",
    "age_digit1 = int(age1)\n",
    "\n",
    "age2 = input(\"영희의 나이는?\")\n",
    "age_digit2 = int(age2)\n",
    "\n",
    "if not age_digit1 >= 19:\n",
    "    print(\"19금\")"
   ]
  },
  {
   "cell_type": "code",
   "execution_count": 16,
   "id": "10f2a189",
   "metadata": {},
   "outputs": [
    {
     "name": "stdout",
     "output_type": "stream",
     "text": [
      "현금은?99999\n",
      "더 벌어오세요\n"
     ]
    }
   ],
   "source": [
    "cash = int(input(\"현금은?\"))\n",
    "if cash > 100000:\n",
    "    print(\"레스토랑갑니다\")\n",
    "else:\n",
    "    print(\"더 벌어오세요\")"
   ]
  },
  {
   "cell_type": "code",
   "execution_count": 20,
   "id": "f1d60ea5",
   "metadata": {},
   "outputs": [
    {
     "name": "stdout",
     "output_type": "stream",
     "text": [
      "나이는?21\n",
      "성인\n"
     ]
    }
   ],
   "source": [
    "age = int(input(\"나이는?\"))\n",
    "if age >= 19:\n",
    "    print(\"성인\")\n",
    "else :\n",
    "    print(\"청소년\")\n",
    "    "
   ]
  },
  {
   "cell_type": "code",
   "execution_count": 40,
   "id": "0dbdacb4",
   "metadata": {},
   "outputs": [
    {
     "name": "stdout",
     "output_type": "stream",
     "text": [
      "나이는?18\n",
      "당신은 청소년\n"
     ]
    }
   ],
   "source": [
    "age = int(input(\"나이는?\"))\n",
    "if age >= 19:\n",
    "    print(\"당신은 성인입니다.\")\n",
    "elif age >= 13 and age < 19:\n",
    "    print(\"당신은 청소년\")\n",
    "else:\n",
    "    print(\"당신은 아동\")"
   ]
  },
  {
   "cell_type": "code",
   "execution_count": 41,
   "id": "a994ba75",
   "metadata": {},
   "outputs": [],
   "source": [
    "#조건문 안에 조건문"
   ]
  },
  {
   "cell_type": "code",
   "execution_count": 46,
   "id": "4efb876a",
   "metadata": {},
   "outputs": [
    {
     "name": "stdout",
     "output_type": "stream",
     "text": [
      "가지고 있는 현금은?30000\n",
      "집에서 라면이나먹자\n"
     ]
    }
   ],
   "source": [
    "cash = int(input(\"가지고 있는 현금은?\"))\n",
    "if cash > 100000:\n",
    "    print(\"레스토랑가기\")\n",
    "else:\n",
    "    if cash > 50000:\n",
    "        print(\"백반집\")\n",
    "    else :\n",
    "        print(\"집에서 라면이나먹자\")"
   ]
  },
  {
   "cell_type": "code",
   "execution_count": null,
   "id": "23d7cb30",
   "metadata": {},
   "outputs": [],
   "source": []
  }
 ],
 "metadata": {
  "kernelspec": {
   "display_name": "Python 3 (ipykernel)",
   "language": "python",
   "name": "python3"
  },
  "language_info": {
   "codemirror_mode": {
    "name": "ipython",
    "version": 3
   },
   "file_extension": ".py",
   "mimetype": "text/x-python",
   "name": "python",
   "nbconvert_exporter": "python",
   "pygments_lexer": "ipython3",
   "version": "3.9.13"
  }
 },
 "nbformat": 4,
 "nbformat_minor": 5
}
