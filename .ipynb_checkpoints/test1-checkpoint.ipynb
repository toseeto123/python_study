{
 "cells": [
  {
   "cell_type": "code",
   "execution_count": 1,
   "id": "0fc28563",
   "metadata": {},
   "outputs": [
    {
     "name": "stdout",
     "output_type": "stream",
     "text": [
      "hello jupyternotebook\n"
     ]
    }
   ],
   "source": [
    "print ('hello jupyternotebook')"
   ]
  },
  {
   "cell_type": "code",
   "execution_count": 18,
   "id": "ba8ed571",
   "metadata": {},
   "outputs": [],
   "source": [
    "digit1 = 1\n",
    "digit2 = 10\n",
    "age = 24\n",
    "name = \"Dave\""
   ]
  },
  {
   "cell_type": "code",
   "execution_count": 21,
   "id": "d7929bb1",
   "metadata": {},
   "outputs": [
    {
     "name": "stdout",
     "output_type": "stream",
     "text": [
      "34\n"
     ]
    }
   ],
   "source": [
    "print(digit2 + age)"
   ]
  },
  {
   "cell_type": "code",
   "execution_count": null,
   "id": "07ba0ae7",
   "metadata": {},
   "outputs": [],
   "source": [
    "num = True\n",
    "num2 = False"
   ]
  },
  {
   "cell_type": "code",
   "execution_count": 23,
   "id": "a5148f10",
   "metadata": {},
   "outputs": [
    {
     "name": "stdout",
     "output_type": "stream",
     "text": [
      "True\n",
      "False\n",
      "True\n",
      "True\n",
      "True\n",
      "False\n",
      "True\n"
     ]
    }
   ],
   "source": [
    "print(3 < 7)\n",
    "print(10 < 3)\n",
    "print(15 > 7)\n",
    "print( 3 >= 3)\n",
    "print( 3<=10)\n",
    "print(34 == 100)\n",
    "print(34 != 100)"
   ]
  },
  {
   "cell_type": "code",
   "execution_count": 27,
   "id": "a38c6879",
   "metadata": {},
   "outputs": [
    {
     "name": "stdout",
     "output_type": "stream",
     "text": [
      "지름 20\n",
      "둘레 62.830000000000005\n",
      "넓이 314.15000000000003\n"
     ]
    }
   ],
   "source": [
    "radius = 10\n",
    "pi = 3.1415\n",
    "print(\"지름\", radius * 2)\n",
    "print(\"둘레\", radius * 2 * pi)\n",
    "print(\"넓이\", (radius ** 2) * pi)"
   ]
  },
  {
   "cell_type": "code",
   "execution_count": 31,
   "id": "7f227fb0",
   "metadata": {},
   "outputs": [
    {
     "name": "stdout",
     "output_type": "stream",
     "text": [
      "what is your name?aaa\n",
      "hi aaa\n"
     ]
    }
   ],
   "source": [
    "name = input(\"what is your name?\")\n",
    "print(\"hi\",name)"
   ]
  },
  {
   "cell_type": "code",
   "execution_count": 32,
   "id": "1e595fa4",
   "metadata": {},
   "outputs": [
    {
     "name": "stdout",
     "output_type": "stream",
     "text": [
      "2\n"
     ]
    }
   ],
   "source": [
    "digit = input()"
   ]
  },
  {
   "cell_type": "code",
   "execution_count": 33,
   "id": "995a364c",
   "metadata": {},
   "outputs": [
    {
     "data": {
      "text/plain": [
       "'2'"
      ]
     },
     "execution_count": 33,
     "metadata": {},
     "output_type": "execute_result"
    }
   ],
   "source": [
    "digit"
   ]
  },
  {
   "cell_type": "code",
   "execution_count": 34,
   "id": "de5ace00",
   "metadata": {},
   "outputs": [
    {
     "data": {
      "text/plain": [
       "3.0"
      ]
     },
     "execution_count": 34,
     "metadata": {},
     "output_type": "execute_result"
    }
   ],
   "source": [
    "float(3)"
   ]
  },
  {
   "cell_type": "code",
   "execution_count": 35,
   "id": "b8e121ce",
   "metadata": {},
   "outputs": [
    {
     "data": {
      "text/plain": [
       "3"
      ]
     },
     "execution_count": 35,
     "metadata": {},
     "output_type": "execute_result"
    }
   ],
   "source": [
    "int(3.6)"
   ]
  },
  {
   "cell_type": "code",
   "execution_count": 39,
   "id": "a954666d",
   "metadata": {},
   "outputs": [
    {
     "data": {
      "text/plain": [
       "12"
      ]
     },
     "execution_count": 39,
     "metadata": {},
     "output_type": "execute_result"
    }
   ],
   "source": [
    "int(\"12\")"
   ]
  },
  {
   "cell_type": "code",
   "execution_count": 44,
   "id": "9f3b8d5a",
   "metadata": {},
   "outputs": [
    {
     "data": {
      "text/plain": [
       "123.0"
      ]
     },
     "execution_count": 44,
     "metadata": {},
     "output_type": "execute_result"
    }
   ],
   "source": [
    "float(123)"
   ]
  },
  {
   "cell_type": "code",
   "execution_count": 45,
   "id": "e36fa3b6",
   "metadata": {},
   "outputs": [
    {
     "name": "stdout",
     "output_type": "stream",
     "text": [
      "123.0\n"
     ]
    }
   ],
   "source": [
    "print(float(123))"
   ]
  },
  {
   "cell_type": "code",
   "execution_count": 47,
   "id": "04dc2bab",
   "metadata": {},
   "outputs": [
    {
     "name": "stdout",
     "output_type": "stream",
     "text": [
      "<class 'float'>\n"
     ]
    }
   ],
   "source": [
    "digit = \"123\"\n",
    "print(type(float(digit)))"
   ]
  },
  {
   "cell_type": "code",
   "execution_count": 48,
   "id": "eb5bd122",
   "metadata": {},
   "outputs": [
    {
     "name": "stdout",
     "output_type": "stream",
     "text": [
      "How old are you?24\n"
     ]
    },
    {
     "data": {
      "text/plain": [
       "24"
      ]
     },
     "execution_count": 48,
     "metadata": {},
     "output_type": "execute_result"
    }
   ],
   "source": [
    "int(input(\"How old are you?\")) # 입력과 Typecasting"
   ]
  },
  {
   "cell_type": "code",
   "execution_count": 49,
   "id": "c038e9e2",
   "metadata": {},
   "outputs": [
    {
     "name": "stdout",
     "output_type": "stream",
     "text": [
      "3\n",
      "4\n",
      "12\n"
     ]
    }
   ],
   "source": [
    "digit1 = int(input())\n",
    "digit2 = int(input())\n",
    "\n",
    "print(digit1 * digit2)"
   ]
  },
  {
   "cell_type": "code",
   "execution_count": 50,
   "id": "b1794469",
   "metadata": {},
   "outputs": [],
   "source": [
    "article = \"\"\"Joe Abbess, 17, from Southampton, and 12-year-old Sunnah Khan, from Buckinghamshire, both died in hospital after the incident on Wednesday.\n",
    "\n",
    "An inquest opening at Dorset Coroner's Court heard there was a \"suggestion\" a riptide had led to the pair drowning.\n",
    "\n",
    "Dorset Police said it was keeping an \"open mind\" about the circumstances that led to the deaths.\n",
    "\n",
    "The force said it was considering causes including the impact of weather conditions and the state of the water.\n",
    "\n",
    "It has dismissed speculation the pair had jumped from the pier.\"\"\""
   ]
  },
  {
   "cell_type": "code",
   "execution_count": 57,
   "id": "0b6cffbf",
   "metadata": {},
   "outputs": [
    {
     "name": "stdout",
     "output_type": "stream",
     "text": [
      "1\n",
      "532\n",
      "-1\n",
      "Joe Abbess, 17, from Southampton, and 12-year-old Sunnah Khan, from Buckinghamshire, both died in hospital after the incident on Wednesday.\n",
      "\n",
      "An inquest opening at Dorset Coroner's Court heard there was a \"suggestion\" a riptide had led to the pair drowning.\n",
      "\n",
      "Dorset Police said it was keeping an \"open mind\" about the circumstances that led to the deaths.\n",
      "\n",
      "The namsu said it was considering causes including the impact of weather conditions and the state of the water.\n",
      "\n",
      "It has dismissed speculation the pair had jumped from the pier.\n",
      "J\n",
      ".\n",
      "A\n"
     ]
    }
   ],
   "source": [
    "print(article.count(\"Joe\"))\n",
    "print(len(article))\n",
    "print(article.find(\"coroner\"))\n",
    "print(article.replace(\"force\",\"namsu\"))\n",
    "print(article[0])\n",
    "print(article[-1])\n",
    "print(article[4])"
   ]
  },
  {
   "cell_type": "code",
   "execution_count": 61,
   "id": "b08e9147",
   "metadata": {},
   "outputs": [],
   "source": [
    "string1 = \"python\"\n",
    "string2 = \"c++\""
   ]
  },
  {
   "cell_type": "code",
   "execution_count": 62,
   "id": "39ee2cec",
   "metadata": {},
   "outputs": [
    {
     "name": "stdout",
     "output_type": "stream",
     "text": [
      "th\n"
     ]
    }
   ],
   "source": [
    "print(string1[2:4])"
   ]
  },
  {
   "cell_type": "code",
   "execution_count": 68,
   "id": "339893bf",
   "metadata": {},
   "outputs": [
    {
     "name": "stdout",
     "output_type": "stream",
     "text": [
      "    ,,,computer   \n"
     ]
    },
    {
     "data": {
      "text/plain": [
       "'computer'"
      ]
     },
     "execution_count": 68,
     "metadata": {},
     "output_type": "execute_result"
    }
   ],
   "source": [
    "some_string = \"    ,,,computer   \"\n",
    "print(some_string)\n",
    "some_string.replace(\",\",\"\").strip()"
   ]
  },
  {
   "cell_type": "code",
   "execution_count": 72,
   "id": "b5d9f466",
   "metadata": {},
   "outputs": [
    {
     "name": "stdout",
     "output_type": "stream",
     "text": [
      "i have a apple, I have an pen\n"
     ]
    }
   ],
   "source": [
    "print(\"i have a {1}, I have an {0}\".format(\"pen\",\"apple\"))"
   ]
  },
  {
   "cell_type": "code",
   "execution_count": null,
   "id": "785f0bf1",
   "metadata": {},
   "outputs": [],
   "source": []
  }
 ],
 "metadata": {
  "kernelspec": {
   "display_name": "Python 3 (ipykernel)",
   "language": "python",
   "name": "python3"
  },
  "language_info": {
   "codemirror_mode": {
    "name": "ipython",
    "version": 3
   },
   "file_extension": ".py",
   "mimetype": "text/x-python",
   "name": "python",
   "nbconvert_exporter": "python",
   "pygments_lexer": "ipython3",
   "version": "3.9.13"
  }
 },
 "nbformat": 4,
 "nbformat_minor": 5
}
