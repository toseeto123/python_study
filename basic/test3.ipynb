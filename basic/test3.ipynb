{
 "cells": [
  {
   "cell_type": "code",
   "execution_count": 2,
   "id": "801d0bc3",
   "metadata": {},
   "outputs": [],
   "source": [
    "location = ['서울시','경기도','인천시']"
   ]
  },
  {
   "cell_type": "code",
   "execution_count": 6,
   "id": "f25063c6",
   "metadata": {},
   "outputs": [
    {
     "name": "stdout",
     "output_type": "stream",
     "text": [
      "['서울시', '경기도', '인천시']\n"
     ]
    }
   ],
   "source": [
    "print(location)"
   ]
  },
  {
   "cell_type": "code",
   "execution_count": 7,
   "id": "f19b9041",
   "metadata": {},
   "outputs": [],
   "source": [
    "location.append('부산시') #append()로는 하나의 값을 추가할수있음 다수값 추가는안됨"
   ]
  },
  {
   "cell_type": "code",
   "execution_count": 8,
   "id": "950b0610",
   "metadata": {},
   "outputs": [
    {
     "data": {
      "text/plain": [
       "['서울시', '경기도', '인천시', '부산시']"
      ]
     },
     "execution_count": 8,
     "metadata": {},
     "output_type": "execute_result"
    }
   ],
   "source": [
    "location"
   ]
  },
  {
   "cell_type": "code",
   "execution_count": 65,
   "id": "099dcc4d",
   "metadata": {},
   "outputs": [
    {
     "data": {
      "text/plain": [
       "['부산시', 3]"
      ]
     },
     "execution_count": 65,
     "metadata": {},
     "output_type": "execute_result"
    }
   ],
   "source": [
    "location[1:3] #1이상,3미만"
   ]
  },
  {
   "cell_type": "code",
   "execution_count": 10,
   "id": "68e8347b",
   "metadata": {},
   "outputs": [],
   "source": [
    "location.remove('경기도')"
   ]
  },
  {
   "cell_type": "code",
   "execution_count": 11,
   "id": "724e04ca",
   "metadata": {},
   "outputs": [
    {
     "data": {
      "text/plain": [
       "['서울시', '인천시', '부산시']"
      ]
     },
     "execution_count": 11,
     "metadata": {},
     "output_type": "execute_result"
    }
   ],
   "source": [
    "location"
   ]
  },
  {
   "cell_type": "code",
   "execution_count": 12,
   "id": "52ecd4f4",
   "metadata": {},
   "outputs": [],
   "source": [
    "del location[0]"
   ]
  },
  {
   "cell_type": "code",
   "execution_count": 13,
   "id": "a56147cb",
   "metadata": {},
   "outputs": [
    {
     "data": {
      "text/plain": [
       "['인천시', '부산시']"
      ]
     },
     "execution_count": 13,
     "metadata": {},
     "output_type": "execute_result"
    }
   ],
   "source": [
    "location"
   ]
  },
  {
   "cell_type": "code",
   "execution_count": 16,
   "id": "5396c112",
   "metadata": {},
   "outputs": [],
   "source": [
    "location.insert(1, '경기도') #index 1번에 경기도 삽입"
   ]
  },
  {
   "cell_type": "code",
   "execution_count": 19,
   "id": "a32fd99e",
   "metadata": {},
   "outputs": [
    {
     "data": {
      "text/plain": [
       "['인천시', '경기도', '부산시']"
      ]
     },
     "execution_count": 19,
     "metadata": {},
     "output_type": "execute_result"
    }
   ],
   "source": [
    "location"
   ]
  },
  {
   "cell_type": "code",
   "execution_count": 20,
   "id": "5cd32dea",
   "metadata": {},
   "outputs": [],
   "source": [
    "location = []"
   ]
  },
  {
   "cell_type": "code",
   "execution_count": 21,
   "id": "d35bbfe8",
   "metadata": {},
   "outputs": [],
   "source": [
    "location.append('서울시')\n",
    "location.append('경기도')"
   ]
  },
  {
   "cell_type": "code",
   "execution_count": 22,
   "id": "d1254fb8",
   "metadata": {},
   "outputs": [
    {
     "data": {
      "text/plain": [
       "['서울시', '경기도']"
      ]
     },
     "execution_count": 22,
     "metadata": {},
     "output_type": "execute_result"
    }
   ],
   "source": [
    "location"
   ]
  },
  {
   "cell_type": "code",
   "execution_count": 26,
   "id": "570b31fe",
   "metadata": {},
   "outputs": [],
   "source": [
    "location = list() # [] = list()"
   ]
  },
  {
   "cell_type": "code",
   "execution_count": 31,
   "id": "000b3ed9",
   "metadata": {},
   "outputs": [],
   "source": [
    "location.append('인천시')"
   ]
  },
  {
   "cell_type": "code",
   "execution_count": 32,
   "id": "df012423",
   "metadata": {},
   "outputs": [
    {
     "data": {
      "text/plain": [
       "['인천시']"
      ]
     },
     "execution_count": 32,
     "metadata": {},
     "output_type": "execute_result"
    }
   ],
   "source": [
    "location"
   ]
  },
  {
   "cell_type": "markdown",
   "id": "a5145c1d",
   "metadata": {},
   "source": [
    "## 리스트 변수\n",
    "1. 리스트 선언\n",
    "```\n",
    "    -리스트변수 = []\n",
    "    -리스트변수 = list()\n",
    "    -리스트변수 = [데이터1,데이터2,...]\n",
    "```\n",
    "2.리스트 추가\n",
    "```\n",
    "    -리스트변수.append(데이터)\n",
    "    -리스트변수.insert(인덱스번호,데이터)\n",
    "```\n",
    "3.리스트 삭제\n",
    "```\n",
    "    -리스트변수.remove(데이터)\n",
    "    -del 리스트변수[인덱스번호]\n",
    "```\n",
    "4.리스트 데이터 수정\n",
    "```\n",
    "    -리스트변수[인덱스번호] = 수정할 데이터\n",
    "```"
   ]
  },
  {
   "cell_type": "code",
   "execution_count": 37,
   "id": "444ed240",
   "metadata": {},
   "outputs": [],
   "source": [
    "location = []"
   ]
  },
  {
   "cell_type": "code",
   "execution_count": 38,
   "id": "bfb5603d",
   "metadata": {},
   "outputs": [],
   "source": [
    "location = ['서울시','부산시',3,3.15]"
   ]
  },
  {
   "cell_type": "code",
   "execution_count": 39,
   "id": "b4859e27",
   "metadata": {},
   "outputs": [
    {
     "data": {
      "text/plain": [
       "['서울시', '부산시', 3, 3.15]"
      ]
     },
     "execution_count": 39,
     "metadata": {},
     "output_type": "execute_result"
    }
   ],
   "source": [
    "location"
   ]
  },
  {
   "cell_type": "code",
   "execution_count": 40,
   "id": "042b1308",
   "metadata": {},
   "outputs": [],
   "source": [
    "lang = [\"java\",\"c\",\"c++\"]"
   ]
  },
  {
   "cell_type": "code",
   "execution_count": 43,
   "id": "9e78d706",
   "metadata": {},
   "outputs": [],
   "source": [
    "lang.append(\"golang\")"
   ]
  },
  {
   "cell_type": "code",
   "execution_count": 47,
   "id": "898ef715",
   "metadata": {},
   "outputs": [
    {
     "data": {
      "text/plain": [
       "['java', 'c', 'c++', 'golang']"
      ]
     },
     "execution_count": 47,
     "metadata": {},
     "output_type": "execute_result"
    }
   ],
   "source": [
    "lang"
   ]
  },
  {
   "cell_type": "code",
   "execution_count": 48,
   "id": "bc919b23",
   "metadata": {},
   "outputs": [],
   "source": [
    "del lang[3]"
   ]
  },
  {
   "cell_type": "code",
   "execution_count": 49,
   "id": "fa4bd0dc",
   "metadata": {},
   "outputs": [
    {
     "data": {
      "text/plain": [
       "['java', 'c', 'c++']"
      ]
     },
     "execution_count": 49,
     "metadata": {},
     "output_type": "execute_result"
    }
   ],
   "source": [
    "lang"
   ]
  },
  {
   "cell_type": "code",
   "execution_count": 50,
   "id": "0b219f90",
   "metadata": {},
   "outputs": [],
   "source": [
    "digit_set = [1,5,3,2,4]"
   ]
  },
  {
   "cell_type": "code",
   "execution_count": 51,
   "id": "f09b2ed8",
   "metadata": {},
   "outputs": [],
   "source": [
    "digit_set.sort()"
   ]
  },
  {
   "cell_type": "code",
   "execution_count": 54,
   "id": "ab48333f",
   "metadata": {},
   "outputs": [
    {
     "data": {
      "text/plain": [
       "[1, 2, 3, 4, 5]"
      ]
     },
     "execution_count": 54,
     "metadata": {},
     "output_type": "execute_result"
    }
   ],
   "source": [
    "digit_set # sort(),reverse()는 값이 그대로 변환된다"
   ]
  },
  {
   "cell_type": "code",
   "execution_count": 55,
   "id": "7f813dd6",
   "metadata": {},
   "outputs": [],
   "source": [
    "digit_set.reverse()"
   ]
  },
  {
   "cell_type": "code",
   "execution_count": 56,
   "id": "5937385c",
   "metadata": {},
   "outputs": [
    {
     "data": {
      "text/plain": [
       "[5, 4, 3, 2, 1]"
      ]
     },
     "execution_count": 56,
     "metadata": {},
     "output_type": "execute_result"
    }
   ],
   "source": [
    "digit_set"
   ]
  },
  {
   "cell_type": "code",
   "execution_count": 57,
   "id": "4704752b",
   "metadata": {},
   "outputs": [],
   "source": [
    "#split() 함수 형태 결과 값은 리스트로 출력된다"
   ]
  },
  {
   "cell_type": "code",
   "execution_count": 58,
   "id": "d9fef886",
   "metadata": {},
   "outputs": [],
   "source": [
    "python_is_easy = \"python is easy\""
   ]
  },
  {
   "cell_type": "code",
   "execution_count": 63,
   "id": "44ad4353",
   "metadata": {},
   "outputs": [],
   "source": [
    "string_list = python_is_easy.split() #split()함수를 통해 스페이스값을 가지고 잘라내어 출력하고 본래 변수=python_is_easy의 값은 바뀌지않는다."
   ]
  },
  {
   "cell_type": "code",
   "execution_count": 61,
   "id": "b9c53bbe",
   "metadata": {},
   "outputs": [
    {
     "data": {
      "text/plain": [
       "'python is easy'"
      ]
     },
     "execution_count": 61,
     "metadata": {},
     "output_type": "execute_result"
    }
   ],
   "source": [
    "python_is_easy"
   ]
  },
  {
   "cell_type": "code",
   "execution_count": 64,
   "id": "42a3984a",
   "metadata": {},
   "outputs": [
    {
     "data": {
      "text/plain": [
       "['python', 'is', 'easy']"
      ]
     },
     "execution_count": 64,
     "metadata": {},
     "output_type": "execute_result"
    }
   ],
   "source": [
    "string_list"
   ]
  },
  {
   "cell_type": "code",
   "execution_count": null,
   "id": "47024e72",
   "metadata": {},
   "outputs": [],
   "source": []
  }
 ],
 "metadata": {
  "kernelspec": {
   "display_name": "Python 3 (ipykernel)",
   "language": "python",
   "name": "python3"
  },
  "language_info": {
   "codemirror_mode": {
    "name": "ipython",
    "version": 3
   },
   "file_extension": ".py",
   "mimetype": "text/x-python",
   "name": "python",
   "nbconvert_exporter": "python",
   "pygments_lexer": "ipython3",
   "version": "3.9.13"
  }
 },
 "nbformat": 4,
 "nbformat_minor": 5
}
