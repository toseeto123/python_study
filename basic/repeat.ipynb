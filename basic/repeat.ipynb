{
 "cells": [
  {
   "cell_type": "code",
   "execution_count": 2,
   "id": "bdfb7760",
   "metadata": {},
   "outputs": [
    {
     "name": "stdout",
     "output_type": "stream",
     "text": [
      "0\n",
      "1\n",
      "4\n",
      "9\n",
      "16\n",
      "25\n",
      "36\n",
      "49\n",
      "64\n",
      "81\n"
     ]
    }
   ],
   "source": [
    "for i in range(10):\n",
    "    print(i*i)"
   ]
  },
  {
   "cell_type": "code",
   "execution_count": 3,
   "id": "853d9c2f",
   "metadata": {},
   "outputs": [
    {
     "data": {
      "text/plain": [
       "range(0, 3)"
      ]
     },
     "execution_count": 3,
     "metadata": {},
     "output_type": "execute_result"
    }
   ],
   "source": [
    "range(3) # = [0,1,2]"
   ]
  },
  {
   "cell_type": "code",
   "execution_count": 7,
   "id": "b083977c",
   "metadata": {},
   "outputs": [
    {
     "name": "stdout",
     "output_type": "stream",
     "text": [
      "안녕\n",
      "안녕\n",
      "안녕\n"
     ]
    }
   ],
   "source": [
    "for index in [\"list1\",\"list2\",\"list3\"]:\n",
    "    print(\"안녕\")"
   ]
  },
  {
   "cell_type": "markdown",
   "id": "7038f2bb",
   "metadata": {},
   "source": [
    "```\n",
    "for data in 리스트변수:\n",
    "    실행코드\n",
    "    \n",
    "for data in range(반복횟수):\n",
    "    실행코드\n",
    "```"
   ]
  },
  {
   "cell_type": "code",
   "execution_count": 8,
   "id": "5385f61a",
   "metadata": {},
   "outputs": [],
   "source": [
    "# 1부터 10까지의 합한 값"
   ]
  },
  {
   "cell_type": "code",
   "execution_count": 17,
   "id": "3fdb7d96",
   "metadata": {},
   "outputs": [
    {
     "name": "stdout",
     "output_type": "stream",
     "text": [
      "1\n",
      "3\n",
      "6\n",
      "10\n",
      "15\n",
      "21\n",
      "28\n",
      "36\n",
      "45\n",
      "55\n"
     ]
    }
   ],
   "source": [
    "sum = 0;\n",
    "for i in range(1,11): #1부터 11미만까지\n",
    "    sum = sum + i\n",
    "    print(sum)"
   ]
  },
  {
   "cell_type": "code",
   "execution_count": 20,
   "id": "38a6f0c3",
   "metadata": {},
   "outputs": [
    {
     "name": "stdout",
     "output_type": "stream",
     "text": [
      "0\n",
      "1\n",
      "2\n",
      "3\n"
     ]
    }
   ],
   "source": [
    "i = 0\n",
    "while i <= 3:\n",
    "    print(i)\n",
    "    i = i+ 1"
   ]
  },
  {
   "cell_type": "code",
   "execution_count": 27,
   "id": "b68006b0",
   "metadata": {},
   "outputs": [
    {
     "name": "stdout",
     "output_type": "stream",
     "text": [
      "영어로 이름을 입력해보세요a\n",
      "HiaSo, where is foo bar?\n",
      "영어로 이름을 입력해보세요nam\n",
      "HinamSo, where is foo bar?\n",
      "영어로 이름을 입력해보세요foo bar\n",
      "Hifoo barSo, where is foo bar?\n"
     ]
    }
   ],
   "source": [
    "name = \"\"\n",
    "while name != \"foo bar\":\n",
    "    name = input(\"영어로 이름을 입력해보세요\")\n",
    "    print(\"Hi\" + name + \"So, where is foo bar?\")"
   ]
  },
  {
   "cell_type": "code",
   "execution_count": null,
   "id": "010aa4e0",
   "metadata": {},
   "outputs": [],
   "source": []
  }
 ],
 "metadata": {
  "kernelspec": {
   "display_name": "Python 3 (ipykernel)",
   "language": "python",
   "name": "python3"
  },
  "language_info": {
   "codemirror_mode": {
    "name": "ipython",
    "version": 3
   },
   "file_extension": ".py",
   "mimetype": "text/x-python",
   "name": "python",
   "nbconvert_exporter": "python",
   "pygments_lexer": "ipython3",
   "version": "3.9.13"
  }
 },
 "nbformat": 4,
 "nbformat_minor": 5
}
