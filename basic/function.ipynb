{
 "cells": [
  {
   "cell_type": "code",
   "execution_count": 2,
   "id": "7d3c8a2c",
   "metadata": {},
   "outputs": [],
   "source": [
    "def func1():\n",
    "    print(\"hello\")"
   ]
  },
  {
   "cell_type": "code",
   "execution_count": 3,
   "id": "37f29383",
   "metadata": {},
   "outputs": [
    {
     "name": "stdout",
     "output_type": "stream",
     "text": [
      "hello\n"
     ]
    }
   ],
   "source": [
    "func1()"
   ]
  },
  {
   "cell_type": "code",
   "execution_count": 14,
   "id": "79d924cb",
   "metadata": {},
   "outputs": [],
   "source": [
    "def func2(parameter,param):\n",
    "    print(\"Hello\",parameter)"
   ]
  },
  {
   "cell_type": "code",
   "execution_count": 15,
   "id": "e1feda54",
   "metadata": {},
   "outputs": [
    {
     "name": "stdout",
     "output_type": "stream",
     "text": [
      "Hello python\n"
     ]
    }
   ],
   "source": [
    "func2(\"python\",\"java\")"
   ]
  },
  {
   "cell_type": "code",
   "execution_count": 33,
   "id": "f0dcde97",
   "metadata": {},
   "outputs": [],
   "source": [
    "def func3(data1,data2):\n",
    "   \n",
    "    return (data1 + data2) ** data2"
   ]
  },
  {
   "cell_type": "code",
   "execution_count": 34,
   "id": "2e503352",
   "metadata": {
    "scrolled": true
   },
   "outputs": [
    {
     "name": "stdout",
     "output_type": "stream",
     "text": [
      "9\n"
     ]
    }
   ],
   "source": [
    "y = func3(1,2)\n",
    "print(y)"
   ]
  },
  {
   "cell_type": "markdown",
   "id": "b39c9975",
   "metadata": {},
   "source": [
    "### 용어\n",
    "```\n",
    " -인풋(input),인자(argument,parameter)\n",
    "````\n"
   ]
  },
  {
   "cell_type": "code",
   "execution_count": 40,
   "id": "136a3047",
   "metadata": {},
   "outputs": [
    {
     "name": "stdout",
     "output_type": "stream",
     "text": [
      "9\n"
     ]
    },
    {
     "ename": "NameError",
     "evalue": "name 'c' is not defined",
     "output_type": "error",
     "traceback": [
      "\u001b[0;31m---------------------------------------------------------------------------\u001b[0m",
      "\u001b[0;31mNameError\u001b[0m                                 Traceback (most recent call last)",
      "\u001b[0;32m/var/folders/3w/3fgbsfvd3vz0f0ybpdxgm0f40000gn/T/ipykernel_12278/573922608.py\u001b[0m in \u001b[0;36m<module>\u001b[0;34m\u001b[0m\n\u001b[1;32m      6\u001b[0m \u001b[0mb\u001b[0m \u001b[0;34m=\u001b[0m \u001b[0;36m3\u001b[0m\u001b[0;34m\u001b[0m\u001b[0;34m\u001b[0m\u001b[0m\n\u001b[1;32m      7\u001b[0m \u001b[0mprint\u001b[0m\u001b[0;34m(\u001b[0m\u001b[0mawe_sum\u001b[0m\u001b[0;34m(\u001b[0m\u001b[0;36m4\u001b[0m\u001b[0;34m,\u001b[0m\u001b[0;36m5\u001b[0m\u001b[0;34m)\u001b[0m\u001b[0;34m)\u001b[0m\u001b[0;34m\u001b[0m\u001b[0;34m\u001b[0m\u001b[0m\n\u001b[0;32m----> 8\u001b[0;31m \u001b[0mprint\u001b[0m\u001b[0;34m(\u001b[0m\u001b[0mc\u001b[0m\u001b[0;34m)\u001b[0m\u001b[0;34m\u001b[0m\u001b[0;34m\u001b[0m\u001b[0m\n\u001b[0m",
      "\u001b[0;31mNameError\u001b[0m: name 'c' is not defined"
     ]
    }
   ],
   "source": [
    "def awe_sum(a,b):\n",
    "    c = 1 # 함수안에 존재하는 지역변수 전역변수와 수명주기가 차이난다\n",
    "    result = a + b\n",
    "    return result\n",
    "#전역변수 a,b\n",
    "a = 2 \n",
    "b = 3 \n",
    "print(awe_sum(4,5))\n",
    "print(c)"
   ]
  },
  {
   "cell_type": "code",
   "execution_count": 41,
   "id": "c8782dd1",
   "metadata": {},
   "outputs": [
    {
     "name": "stdout",
     "output_type": "stream",
     "text": [
      "hello\n"
     ]
    }
   ],
   "source": [
    "def print_hello():\n",
    "    return \"hello\"\n",
    "result_hello = print_hello()\n",
    "print(result_hello)"
   ]
  },
  {
   "cell_type": "code",
   "execution_count": 46,
   "id": "0f44a8ad",
   "metadata": {},
   "outputs": [
    {
     "name": "stdout",
     "output_type": "stream",
     "text": [
      "This is funciion widout return for 1 times.\n",
      "This is funciion widout return for  1  times.\n"
     ]
    }
   ],
   "source": [
    "def func_wo_return(a):\n",
    "    print(\"This is funciion widout return for \" + str(a) + \" times.\")\n",
    "    print(\"This is funciion widout return for \",a,\" times.\")\n",
    "func_wo_return(1)"
   ]
  },
  {
   "cell_type": "code",
   "execution_count": 47,
   "id": "9bb9d059",
   "metadata": {},
   "outputs": [],
   "source": [
    "def mul_return(a):\n",
    "    b = a + 1\n",
    "    return a,b\n"
   ]
  },
  {
   "cell_type": "code",
   "execution_count": 48,
   "id": "37e96d67",
   "metadata": {},
   "outputs": [
    {
     "data": {
      "text/plain": [
       "(3, 4)"
      ]
     },
     "execution_count": 48,
     "metadata": {},
     "output_type": "execute_result"
    }
   ],
   "source": [
    "mul_return(3) # 튜플형 결과값 출력함 (변수는 하나긴하지만 자료형이 다름)"
   ]
  },
  {
   "cell_type": "code",
   "execution_count": 49,
   "id": "f3a14ae3",
   "metadata": {},
   "outputs": [],
   "source": [
    "def id_check(id):\n",
    "    if id == \"admin\":\n",
    "        print(\"invalid id : admin\")\n",
    "        return #return 이후 함수는 종료\n",
    "    print(\"valid id\", id)\n"
   ]
  },
  {
   "cell_type": "code",
   "execution_count": 52,
   "id": "2a018244",
   "metadata": {},
   "outputs": [
    {
     "name": "stdout",
     "output_type": "stream",
     "text": [
      "valid id asd\n"
     ]
    }
   ],
   "source": [
    "id_check(\"asd\")"
   ]
  },
  {
   "cell_type": "code",
   "execution_count": null,
   "id": "a6eb8012",
   "metadata": {},
   "outputs": [],
   "source": []
  }
 ],
 "metadata": {
  "kernelspec": {
   "display_name": "Python 3 (ipykernel)",
   "language": "python",
   "name": "python3"
  },
  "language_info": {
   "codemirror_mode": {
    "name": "ipython",
    "version": 3
   },
   "file_extension": ".py",
   "mimetype": "text/x-python",
   "name": "python",
   "nbconvert_exporter": "python",
   "pygments_lexer": "ipython3",
   "version": "3.9.13"
  }
 },
 "nbformat": 4,
 "nbformat_minor": 5
}
