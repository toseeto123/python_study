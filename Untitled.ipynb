{
 "cells": [
  {
   "cell_type": "code",
   "execution_count": 1,
   "id": "c82d7c4d",
   "metadata": {},
   "outputs": [
    {
     "data": {
      "text/plain": [
       "('fun-coding2', 'fun-coding3', 'fun-coding4', 'fun-coding5')"
      ]
     },
     "execution_count": 1,
     "metadata": {},
     "output_type": "execute_result"
    }
   ],
   "source": [
    "tupledata = ('fun-coding1', 'fun-coding2', 'fun-coding3', 'fun-coding4', 'fun-coding5')\n",
    "data = list(tupledata) #리스트 자료형으로 변경하여 수정이 가능하도록 한다.\n",
    "del data[0] #del 함수를 사용하여 0번째 인덱스를 지운다.\n",
    "tuple(data)"
   ]
  },
  {
   "cell_type": "code",
   "execution_count": 3,
   "id": "33c3ef23",
   "metadata": {},
   "outputs": [
    {
     "data": {
      "text/plain": [
       "('fun-coding1', 'fun-coding2', 'fun-coding3', 'fun-coding4')"
      ]
     },
     "execution_count": 3,
     "metadata": {},
     "output_type": "execute_result"
    }
   ],
   "source": [
    "tuple_data = ('fun-coding1', 'fun-coding2', 'fun-coding3')\n",
    "\n",
    "new_data = list(tuple_data)\n",
    "new_data.append('fun-coding4')\n",
    "\n",
    "tuple(new_data)\n"
   ]
  },
  {
   "cell_type": "code",
   "execution_count": null,
   "id": "4cb9188f",
   "metadata": {},
   "outputs": [],
   "source": []
  }
 ],
 "metadata": {
  "kernelspec": {
   "display_name": "Python 3 (ipykernel)",
   "language": "python",
   "name": "python3"
  },
  "language_info": {
   "codemirror_mode": {
    "name": "ipython",
    "version": 3
   },
   "file_extension": ".py",
   "mimetype": "text/x-python",
   "name": "python",
   "nbconvert_exporter": "python",
   "pygments_lexer": "ipython3",
   "version": "3.9.13"
  }
 },
 "nbformat": 4,
 "nbformat_minor": 5
}
