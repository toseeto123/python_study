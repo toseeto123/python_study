{
 "cells": [
  {
   "cell_type": "markdown",
   "id": "b9595343",
   "metadata": {},
   "source": [
    "# 데이터구조 : 튜플\n",
    "```\n",
    "    Tuple은 소괄호를 사용하여 선언\n",
    "    튜플은 수정이 불가능하다\n",
    "    \n",
    " * 선언 + 입력 : 변수명 = (1,2,3,4)\n",
    " * 읽기 : 변수명[인덱스번호]\n",
    " * 추가 : 블가\n",
    " * 삭제 : 불가\n",
    " * 수정 : 블가\n",
    " \n",
    " **하지만 튜플끼리 더하거나 반복하는것은 가능하다\n",
    " tuple1 = (3,4)\n",
    " tuple2 = (5,4)\n",
    " print(tuple1+ tuple2) = (3,4,4,5)\n",
    " print(tuple1 * 3) = (3,4,3,4,3,4)\n",
    "```"
   ]
  },
  {
   "cell_type": "code",
   "execution_count": 2,
   "id": "1c917a2a",
   "metadata": {},
   "outputs": [
    {
     "data": {
      "text/plain": [
       "tuple"
      ]
     },
     "execution_count": 2,
     "metadata": {},
     "output_type": "execute_result"
    }
   ],
   "source": [
    "data_tuple =() #하지만 수정이 불가능하기때문에 이런형태로 선언하는경우는 없다.\n",
    "type(data_tuple)"
   ]
  },
  {
   "cell_type": "code",
   "execution_count": 6,
   "id": "05a8c095",
   "metadata": {},
   "outputs": [],
   "source": [
    "data_tuple = (1,2,3,4)\n",
    "data_tuple2 = (4,5,6)"
   ]
  },
  {
   "cell_type": "code",
   "execution_count": 9,
   "id": "85404e42",
   "metadata": {},
   "outputs": [
    {
     "data": {
      "text/plain": [
       "(1, 2, 3, 4, 1, 2, 3, 4, 1, 2, 3, 4)"
      ]
     },
     "execution_count": 9,
     "metadata": {},
     "output_type": "execute_result"
    }
   ],
   "source": [
    "data_tuple * 3"
   ]
  },
  {
   "cell_type": "code",
   "execution_count": 10,
   "id": "51f99669",
   "metadata": {},
   "outputs": [],
   "source": [
    "x = 1\n",
    "y = 2"
   ]
  },
  {
   "cell_type": "code",
   "execution_count": 11,
   "id": "b3746e94",
   "metadata": {},
   "outputs": [],
   "source": [
    "temp = x \n",
    "x = y\n",
    "y = temp"
   ]
  },
  {
   "cell_type": "code",
   "execution_count": 12,
   "id": "bb0a4168",
   "metadata": {},
   "outputs": [
    {
     "data": {
      "text/plain": [
       "2"
      ]
     },
     "execution_count": 12,
     "metadata": {},
     "output_type": "execute_result"
    }
   ],
   "source": [
    "x"
   ]
  },
  {
   "cell_type": "code",
   "execution_count": 13,
   "id": "a3198095",
   "metadata": {},
   "outputs": [
    {
     "data": {
      "text/plain": [
       "1"
      ]
     },
     "execution_count": 13,
     "metadata": {},
     "output_type": "execute_result"
    }
   ],
   "source": [
    "y"
   ]
  },
  {
   "cell_type": "code",
   "execution_count": 14,
   "id": "47572e25",
   "metadata": {},
   "outputs": [],
   "source": [
    "x,y = y,x"
   ]
  },
  {
   "cell_type": "code",
   "execution_count": 15,
   "id": "41b92551",
   "metadata": {},
   "outputs": [
    {
     "data": {
      "text/plain": [
       "1"
      ]
     },
     "execution_count": 15,
     "metadata": {},
     "output_type": "execute_result"
    }
   ],
   "source": [
    "x"
   ]
  },
  {
   "cell_type": "code",
   "execution_count": 27,
   "id": "7d8a4d7d",
   "metadata": {
    "scrolled": true
   },
   "outputs": [],
   "source": [
    "def quot_and_rem(x,y):\n",
    "    quot = x // y\n",
    "    rem = x % y\n",
    "    add = x + y\n",
    "    return quot, rem,add #(quot, rem)라는 튜플로 생각하기에 가능한 출력 파이썬만 가지고있음\n",
    "quot, rem, add = quot_and_rem(3,10) #return 할 변수값과 받는 값의 갯수는 일치해야한다."
   ]
  },
  {
   "cell_type": "code",
   "execution_count": 23,
   "id": "1decbd15",
   "metadata": {},
   "outputs": [
    {
     "data": {
      "text/plain": [
       "0"
      ]
     },
     "execution_count": 23,
     "metadata": {},
     "output_type": "execute_result"
    }
   ],
   "source": [
    "quot"
   ]
  },
  {
   "cell_type": "code",
   "execution_count": 24,
   "id": "ecb29b6c",
   "metadata": {},
   "outputs": [
    {
     "data": {
      "text/plain": [
       "13"
      ]
     },
     "execution_count": 24,
     "metadata": {},
     "output_type": "execute_result"
    }
   ],
   "source": [
    "add"
   ]
  },
  {
   "cell_type": "code",
   "execution_count": 28,
   "id": "10518b6a",
   "metadata": {},
   "outputs": [],
   "source": [
    "data1 = (1,2,3)"
   ]
  },
  {
   "cell_type": "code",
   "execution_count": 29,
   "id": "428c994e",
   "metadata": {},
   "outputs": [
    {
     "data": {
      "text/plain": [
       "tuple"
      ]
     },
     "execution_count": 29,
     "metadata": {},
     "output_type": "execute_result"
    }
   ],
   "source": [
    "type(data1)"
   ]
  },
  {
   "cell_type": "code",
   "execution_count": 30,
   "id": "09e46498",
   "metadata": {},
   "outputs": [
    {
     "data": {
      "text/plain": [
       "[1, 2, 3]"
      ]
     },
     "execution_count": 30,
     "metadata": {},
     "output_type": "execute_result"
    }
   ],
   "source": [
    "list(data1) #튜플 자료형을 list형태로 변환"
   ]
  },
  {
   "cell_type": "code",
   "execution_count": 31,
   "id": "56d2d88a",
   "metadata": {},
   "outputs": [],
   "source": [
    "data1_list = list(data1)"
   ]
  },
  {
   "cell_type": "code",
   "execution_count": 32,
   "id": "a0977345",
   "metadata": {},
   "outputs": [
    {
     "data": {
      "text/plain": [
       "list"
      ]
     },
     "execution_count": 32,
     "metadata": {},
     "output_type": "execute_result"
    }
   ],
   "source": [
    "type(data1_list)"
   ]
  },
  {
   "cell_type": "code",
   "execution_count": 33,
   "id": "c87255da",
   "metadata": {},
   "outputs": [],
   "source": [
    "data1_tuple = tuple(data1_list) #List<->Tuple 의 자료변환이 가능하다"
   ]
  },
  {
   "cell_type": "code",
   "execution_count": 35,
   "id": "9d3ce5db",
   "metadata": {},
   "outputs": [
    {
     "data": {
      "text/plain": [
       "tuple"
      ]
     },
     "execution_count": 35,
     "metadata": {},
     "output_type": "execute_result"
    }
   ],
   "source": [
    "type(data1_tuple)"
   ]
  },
  {
   "cell_type": "markdown",
   "id": "6811c641",
   "metadata": {},
   "source": [
    "# dictionary\n",
    "```\n",
    " * 선언 + 입력: 변수명 ={} 또는 dict{},초기값과 함께 선언해야한다. 변수명 = {키:값}\n",
    " * 읽기: 변수명[키]\n",
    " * 추기: 변수명[새로운키] = 새로운값\n",
    " * 삭제: del 변수명[삭제할키]\n",
    " * 수정: 변수명[수정할키] = 수정할값\n",
    "```"
   ]
  },
  {
   "cell_type": "code",
   "execution_count": 36,
   "id": "e9547160",
   "metadata": {},
   "outputs": [],
   "source": [
    "data_list =list() # []\n",
    "data_tuple = tuple() #()\n",
    "data_dict = dict() #{}"
   ]
  },
  {
   "cell_type": "code",
   "execution_count": 37,
   "id": "e9115882",
   "metadata": {},
   "outputs": [],
   "source": [
    "data_dict = {'한국':'KR','일본':'JP'} # key:value로 이루어져있는 자료구조"
   ]
  },
  {
   "cell_type": "code",
   "execution_count": 38,
   "id": "2abd2730",
   "metadata": {},
   "outputs": [
    {
     "data": {
      "text/plain": [
       "'KR'"
      ]
     },
     "execution_count": 38,
     "metadata": {},
     "output_type": "execute_result"
    }
   ],
   "source": [
    "data_dict['한국'] #[key]값을 통해 value를 출력함"
   ]
  },
  {
   "cell_type": "code",
   "execution_count": 39,
   "id": "a85ae3b6",
   "metadata": {},
   "outputs": [],
   "source": [
    "data_dict['중국'] = 'CN' "
   ]
  },
  {
   "cell_type": "code",
   "execution_count": 40,
   "id": "73820adc",
   "metadata": {},
   "outputs": [
    {
     "data": {
      "text/plain": [
       "{'한국': 'KR', '일본': 'JP', '중국': 'CN'}"
      ]
     },
     "execution_count": 40,
     "metadata": {},
     "output_type": "execute_result"
    }
   ],
   "source": [
    "data_dict"
   ]
  },
  {
   "cell_type": "code",
   "execution_count": 41,
   "id": "f28cee06",
   "metadata": {},
   "outputs": [],
   "source": [
    "del data_dict['한국']"
   ]
  },
  {
   "cell_type": "code",
   "execution_count": 42,
   "id": "19055467",
   "metadata": {},
   "outputs": [
    {
     "data": {
      "text/plain": [
       "{'일본': 'JP', '중국': 'CN'}"
      ]
     },
     "execution_count": 42,
     "metadata": {},
     "output_type": "execute_result"
    }
   ],
   "source": [
    "data_dict"
   ]
  },
  {
   "cell_type": "code",
   "execution_count": 43,
   "id": "9ad26f4d",
   "metadata": {},
   "outputs": [],
   "source": [
    "data_dict['중국'] = 'China'"
   ]
  },
  {
   "cell_type": "code",
   "execution_count": 44,
   "id": "839e101f",
   "metadata": {},
   "outputs": [
    {
     "data": {
      "text/plain": [
       "{'일본': 'JP', '중국': 'China'}"
      ]
     },
     "execution_count": 44,
     "metadata": {},
     "output_type": "execute_result"
    }
   ],
   "source": [
    "data_dict"
   ]
  },
  {
   "cell_type": "code",
   "execution_count": 45,
   "id": "1cd38c99",
   "metadata": {},
   "outputs": [
    {
     "data": {
      "text/plain": [
       "dict_keys(['일본', '중국'])"
      ]
     },
     "execution_count": 45,
     "metadata": {},
     "output_type": "execute_result"
    }
   ],
   "source": [
    "data_dict.keys() #key만 출력 -> 리스트형태로 출력"
   ]
  },
  {
   "cell_type": "code",
   "execution_count": 48,
   "id": "369b0fd2",
   "metadata": {},
   "outputs": [
    {
     "name": "stdout",
     "output_type": "stream",
     "text": [
      "일본\n",
      "중국\n"
     ]
    }
   ],
   "source": [
    "for keys in data_dict.keys():\n",
    "    print(keys)"
   ]
  },
  {
   "cell_type": "code",
   "execution_count": 49,
   "id": "c3ef5846",
   "metadata": {},
   "outputs": [
    {
     "data": {
      "text/plain": [
       "dict_values(['JP', 'China'])"
      ]
     },
     "execution_count": 49,
     "metadata": {},
     "output_type": "execute_result"
    }
   ],
   "source": [
    "data_dict.values() # 값만 출력 -> 리스트형태로 출력"
   ]
  },
  {
   "cell_type": "code",
   "execution_count": 50,
   "id": "292be2e8",
   "metadata": {},
   "outputs": [
    {
     "name": "stdout",
     "output_type": "stream",
     "text": [
      "JP\n",
      "China\n"
     ]
    }
   ],
   "source": [
    "for values in data_dict.values():\n",
    "    print(values)"
   ]
  },
  {
   "cell_type": "code",
   "execution_count": 51,
   "id": "3cd594c7",
   "metadata": {},
   "outputs": [
    {
     "name": "stdout",
     "output_type": "stream",
     "text": [
      "('일본', 'JP')\n",
      "('중국', 'China')\n"
     ]
    }
   ],
   "source": [
    "for data in data_dict.items():\n",
    "    print(data) # 튜플형태로 출력"
   ]
  },
  {
   "cell_type": "code",
   "execution_count": 53,
   "id": "06308b6a",
   "metadata": {},
   "outputs": [
    {
     "name": "stdout",
     "output_type": "stream",
     "text": [
      "JP\n",
      "China\n"
     ]
    }
   ],
   "source": [
    "for keys in data_dict.keys():\n",
    "    print(data_dict[keys])"
   ]
  },
  {
   "cell_type": "code",
   "execution_count": 54,
   "id": "84f442d5",
   "metadata": {},
   "outputs": [
    {
     "name": "stdout",
     "output_type": "stream",
     "text": [
      "일본\n",
      "중국\n"
     ]
    }
   ],
   "source": [
    "for keys in data_dict.keys():\n",
    "    print(keys)"
   ]
  },
  {
   "cell_type": "code",
   "execution_count": null,
   "id": "a44a4b3d",
   "metadata": {},
   "outputs": [],
   "source": []
  }
 ],
 "metadata": {
  "kernelspec": {
   "display_name": "Python 3 (ipykernel)",
   "language": "python",
   "name": "python3"
  },
  "language_info": {
   "codemirror_mode": {
    "name": "ipython",
    "version": 3
   },
   "file_extension": ".py",
   "mimetype": "text/x-python",
   "name": "python",
   "nbconvert_exporter": "python",
   "pygments_lexer": "ipython3",
   "version": "3.9.13"
  }
 },
 "nbformat": 4,
 "nbformat_minor": 5
}
