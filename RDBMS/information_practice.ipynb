{
 "cells": [
  {
   "cell_type": "code",
   "execution_count": 3,
   "id": "a98395f9",
   "metadata": {},
   "outputs": [
    {
     "name": "stdout",
     "output_type": "stream",
     "text": [
      "51\n",
      "26\n",
      "26\n"
     ]
    }
   ],
   "source": [
    "a = 100\n",
    "i=0\n",
    "result =0\n",
    "for i in range(1,3):\n",
    "    result = a >> i\n",
    "    result += 1\n",
    "    print(result)\n",
    "print(result)"
   ]
  },
  {
   "cell_type": "code",
   "execution_count": 4,
   "id": "454547da",
   "metadata": {},
   "outputs": [
    {
     "name": "stdout",
     "output_type": "stream",
     "text": [
      "a= 20 b= 2\n"
     ]
    }
   ],
   "source": [
    "def func(num1,num2=2):\n",
    "    print('a=',num1,'b=',num2)\n",
    "func(20)"
   ]
  },
  {
   "cell_type": "code",
   "execution_count": null,
   "id": "3e914fcb",
   "metadata": {},
   "outputs": [],
   "source": []
  }
 ],
 "metadata": {
  "kernelspec": {
   "display_name": "Python 3 (ipykernel)",
   "language": "python",
   "name": "python3"
  },
  "language_info": {
   "codemirror_mode": {
    "name": "ipython",
    "version": 3
   },
   "file_extension": ".py",
   "mimetype": "text/x-python",
   "name": "python",
   "nbconvert_exporter": "python",
   "pygments_lexer": "ipython3",
   "version": "3.9.13"
  }
 },
 "nbformat": 4,
 "nbformat_minor": 5
}
