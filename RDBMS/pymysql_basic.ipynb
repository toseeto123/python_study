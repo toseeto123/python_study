{
 "cells": [
  {
   "cell_type": "markdown",
   "metadata": {},
   "source": [
    "<div class=\"alert alert-block\" style=\"border: 1px solid #455A64;background-color:#ECEFF1;padding:5px;font-size:0.9em;\">\n",
    "  본 자료와 관련 영상 컨텐츠는 저작권법 제25조 2항에 의해 보호를 받습니다. <br>본 컨텐츠 및 컨텐츠 일부 문구 등을 외부에 공개하거나, 요약해서 게시하지 말아주세요.<br>Copyright <a href=\"https://www.fun-coding.org\">잔재미코딩</a> Dave Lee\n",
    "</div>"
   ]
  },
  {
   "cell_type": "markdown",
   "metadata": {
    "collapsed": true
   },
   "source": [
    "## pymysql 모듈 이해 및 실습\n",
    "\n",
    "### pymysql 라이브러리 소개 및 설치\n",
    "* mysql을 python에서 사용할 수 있는 라이브러리 \n",
    "   - pymysql 라이브러리 이외에도 MySQLdb(Mysql-pytion), MySQL connector 등 다양한 라이브러리 존재\n",
    "   - 이 중에서 가장 쉽고 많이 사용하는 라이브러리임\n",
    "### pymysql 설치"
   ]
  },
  {
   "cell_type": "code",
   "execution_count": 3,
   "metadata": {
    "scrolled": true
   },
   "outputs": [
    {
     "name": "stdout",
     "output_type": "stream",
     "text": [
      "Defaulting to user installation because normal site-packages is not writeable\n",
      "Collecting pymysql\n",
      "  Downloading PyMySQL-1.1.0-py3-none-any.whl (44 kB)\n",
      "\u001b[2K     \u001b[90m━━━━━━━━━━━━━━━━━━━━━━━━━━━━━━━━━━━━━━━━\u001b[0m \u001b[32m44.8/44.8 kB\u001b[0m \u001b[31m3.9 MB/s\u001b[0m eta \u001b[36m0:00:00\u001b[0m\n",
      "\u001b[?25hInstalling collected packages: pymysql\n",
      "Successfully installed pymysql-1.1.0\n",
      "\n",
      "\u001b[1m[\u001b[0m\u001b[34;49mnotice\u001b[0m\u001b[1;39;49m]\u001b[0m\u001b[39;49m A new release of pip available: \u001b[0m\u001b[31;49m22.3.1\u001b[0m\u001b[39;49m -> \u001b[0m\u001b[32;49m23.1.2\u001b[0m\n",
      "\u001b[1m[\u001b[0m\u001b[34;49mnotice\u001b[0m\u001b[1;39;49m]\u001b[0m\u001b[39;49m To update, run: \u001b[0m\u001b[32;49m/Library/Developer/CommandLineTools/usr/bin/python3 -m pip install --upgrade pip\u001b[0m\n"
     ]
    }
   ],
   "source": [
    "!pip3 install pymysql"
   ]
  },
  {
   "cell_type": "code",
   "execution_count": 5,
   "metadata": {
    "scrolled": true
   },
   "outputs": [
    {
     "name": "stdout",
     "output_type": "stream",
     "text": [
      "Requirement already satisfied: pip in /opt/anaconda3/lib/python3.9/site-packages (22.2.2)\n",
      "Collecting pip\n",
      "  Downloading pip-23.1.2-py3-none-any.whl (2.1 MB)\n",
      "\u001b[2K     \u001b[90m━━━━━━━━━━━━━━━━━━━━━━━━━━━━━━━━━━━━━━━━\u001b[0m \u001b[32m2.1/2.1 MB\u001b[0m \u001b[31m32.9 MB/s\u001b[0m eta \u001b[36m0:00:00\u001b[0ma \u001b[36m0:00:01\u001b[0m\n",
      "\u001b[?25hInstalling collected packages: pip\n",
      "  Attempting uninstall: pip\n",
      "    Found existing installation: pip 22.2.2\n",
      "    Uninstalling pip-22.2.2:\n",
      "      Successfully uninstalled pip-22.2.2\n",
      "Successfully installed pip-23.1.2\n",
      "Note: you may need to restart the kernel to use updated packages.\n"
     ]
    }
   ],
   "source": [
    "pip install --upgrade pip"
   ]
  },
  {
   "cell_type": "code",
   "execution_count": 6,
   "metadata": {},
   "outputs": [
    {
     "name": "stdout",
     "output_type": "stream",
     "text": [
      "Collecting pymysql\n",
      "  Using cached PyMySQL-1.1.0-py3-none-any.whl (44 kB)\n",
      "Installing collected packages: pymysql\n",
      "Successfully installed pymysql-1.1.0\n",
      "Note: you may need to restart the kernel to use updated packages.\n"
     ]
    }
   ],
   "source": [
    "pip install pymysql"
   ]
  },
  {
   "cell_type": "markdown",
   "metadata": {},
   "source": [
    "### 1. pymysql 기본 코드 패턴\n",
    "- PyMySql 모듈 import\n",
    "- pymysql.connect() 메소드를 사용하여 MySQL에 연결\n",
    "     - 호스트명, 포트, 로그인, 암호, 접속할 DB 등을 파라미터로 지정\n",
    "- MySQL 접속이 성공하면, Connection 객체로부터 cursor() 메서드를 호출하여 Cursor 객체를 가져옴\n",
    "- Cursor 객체의 execute() 메서드를 사용하여 SQL 문장을 DB 서버에 전송\n",
    "- SQL 쿼리의 경우 Cursor 객체의 fetchall(), fetchone(), fetchmany() 등의 메서드를 사용하여 서버로부터 가져온 데이타를 코드에서 활용\n",
    "- 삽입, 갱신, 삭제 등의 DML(Data Manipulation Language) 문장을 실행하는 경우, INSERT/UPDATE/DELETE 후 Connection 객체의 commit() 메서드를 사용하여 데이타를 확정\n",
    "- Connection 객체의 close() 메서드를 사용하여 DB 연결을 닫음"
   ]
  },
  {
   "cell_type": "markdown",
   "metadata": {},
   "source": [
    "#### [1] PyMySql 모듈 import"
   ]
  },
  {
   "cell_type": "code",
   "execution_count": 7,
   "metadata": {
    "scrolled": true
   },
   "outputs": [],
   "source": [
    "import pymysql"
   ]
  },
  {
   "cell_type": "markdown",
   "metadata": {},
   "source": [
    "#### [2] pymysql.connect() 메소드를 사용하여 MySQL에 연결\n",
    "     - 호스트명, 포트, 로그인, 암호, 접속할 DB 등을 파라미터로 지정\n",
    "     - 주요 파라미터\n",
    "       - host : 접속할 mysql server 주소\n",
    "       - port : 접속할 mysql server 의 포트 번호\n",
    "       - user : mysql ID\n",
    "       - passwd : mysql ID의 암호\n",
    "       - db : 접속할 데이터베이스\n",
    "       - charset='utf8' : mysql에서 select하여 데이타를 가져올 때 한글이 깨질 수 있으므로 연결 설정에 넣어줌"
   ]
  },
  {
   "cell_type": "code",
   "execution_count": 9,
   "metadata": {},
   "outputs": [],
   "source": [
    "db = pymysql.connect(\n",
    "    host='localhost', # 127.0.0.1 , 0.0.0.0 >> localhost를 의미\n",
    "    port=3306, \n",
    "    user='root', # root\n",
    "    passwd='1234', \n",
    "    db='ecommerce',   #접속할 databasename 지정\n",
    "    charset='utf8')"
   ]
  },
  {
   "cell_type": "code",
   "execution_count": 10,
   "metadata": {},
   "outputs": [
    {
     "data": {
      "text/plain": [
       "<pymysql.connections.Connection at 0x7fae90875100>"
      ]
     },
     "execution_count": 10,
     "metadata": {},
     "output_type": "execute_result"
    }
   ],
   "source": [
    "db"
   ]
  },
  {
   "cell_type": "markdown",
   "metadata": {},
   "source": [
    "#### [3] MySQL 접속이 성공하면, Connection 객체로부터 cursor() 메서드를 호출하여 Cursor 객체를 가져옴\n",
    "#### [4] Cursor 객체의 execute() 메서드를 사용하여 SQL 문장을 DB 서버에 전송"
   ]
  },
  {
   "cell_type": "markdown",
   "metadata": {},
   "source": [
    "#### [5] 테이블 생성\n",
    "  - Cursor Object 가져오기: cursor = db.cursor()  \n",
    "  - SQL 실행하기: cursor.execute(SQL)\n",
    "  - 실행 mysql 서버에 확정 반영하기: db.commit()"
   ]
  },
  {
   "cell_type": "code",
   "execution_count": 11,
   "metadata": {},
   "outputs": [],
   "source": [
    "ecommerce = db.cursor()"
   ]
  },
  {
   "cell_type": "code",
   "execution_count": 12,
   "metadata": {},
   "outputs": [
    {
     "data": {
      "text/plain": [
       "<pymysql.cursors.Cursor at 0x7fae908754c0>"
      ]
     },
     "execution_count": 12,
     "metadata": {},
     "output_type": "execute_result"
    }
   ],
   "source": [
    "ecommerce"
   ]
  },
  {
   "cell_type": "markdown",
   "metadata": {},
   "source": [
    "#### [6] cursor 는 control structure of database 입니다. (연결된 객체로 보셔도 좋습니다.)"
   ]
  },
  {
   "cell_type": "code",
   "execution_count": 24,
   "metadata": {},
   "outputs": [],
   "source": [
    "drop_sql = \"\"\"\n",
    "    drop table product;\n",
    "\"\"\""
   ]
  },
  {
   "cell_type": "code",
   "execution_count": 25,
   "metadata": {},
   "outputs": [
    {
     "data": {
      "text/plain": [
       "0"
      ]
     },
     "execution_count": 25,
     "metadata": {},
     "output_type": "execute_result"
    }
   ],
   "source": [
    "ecommerce.execute(drop_sql)"
   ]
  },
  {
   "cell_type": "code",
   "execution_count": 21,
   "metadata": {},
   "outputs": [],
   "source": [
    "sql = \"\"\"\n",
    "    CREATE TABLE product (\n",
    "        PRODUCT_CODE VARCHAR(20) NOT NULL,\n",
    "        TITLE VARCHAR(200) NOT NULL,\n",
    "        ORI_PRICE INT,\n",
    "        DISCOUNT_PRICE INT,\n",
    "        DISCOUNT_PERCENT INT,\n",
    "        DELIVERY VARCHAR(2),\n",
    "        PRIMARY KEY(PRODUCT_CODE)\n",
    "    );\n",
    "\"\"\""
   ]
  },
  {
   "cell_type": "markdown",
   "metadata": {},
   "source": [
    "#### [7]  SQL 실행 (Cursor 객체의 execute() 메서드를 사용하여 INSERT, UPDATE 혹은 DELETE 문장을 DB 서버에 보냄)"
   ]
  },
  {
   "cell_type": "code",
   "execution_count": 26,
   "metadata": {},
   "outputs": [
    {
     "data": {
      "text/plain": [
       "0"
      ]
     },
     "execution_count": 26,
     "metadata": {},
     "output_type": "execute_result"
    }
   ],
   "source": [
    "ecommerce.execute(sql)"
   ]
  },
  {
   "cell_type": "markdown",
   "metadata": {},
   "source": [
    "#### [8] 삽입, 갱신, 삭제 등이 모두 끝났으면 Connection 객체의 commit() 메서드를 사용하여 데이타를 Commit"
   ]
  },
  {
   "cell_type": "code",
   "execution_count": 27,
   "metadata": {},
   "outputs": [],
   "source": [
    "db.commit()"
   ]
  },
  {
   "cell_type": "markdown",
   "metadata": {},
   "source": [
    "#### [9] Connection 객체의 close() 메서드를 사용하여 DB 연결을 닫음"
   ]
  },
  {
   "cell_type": "code",
   "execution_count": 28,
   "metadata": {},
   "outputs": [],
   "source": [
    "db.close()"
   ]
  },
  {
   "cell_type": "markdown",
   "metadata": {
    "collapsed": true
   },
   "source": [
    "### 2. 패턴으로 익히는 pymysql\n",
    "\n",
    "### 기본 패턴 코드\n",
    "> ecommerce 데이터베이스에서 product 테이블을 삭제한 후 실행해야 함"
   ]
  },
  {
   "cell_type": "code",
   "execution_count": null,
   "metadata": {},
   "outputs": [],
   "source": [
    "# 1. 라이브러리 가져오기\n",
    "import pymysql\n",
    "\n",
    "# 2. 접속하기\n",
    "db = pymysql.connect(\n",
    "    host='localhost', \n",
    "    port=3306, \n",
    "    user='root', \n",
    "    passwd='1234', \n",
    "    db='ecommerce', \n",
    "    charset='utf8')\n",
    "\n",
    "# 3. 커서 가져오기\n",
    "cursor = db.cursor()\n",
    "\n",
    "# 4. SQL 구문 만들기 (CRUD SQL 구문 등)\n",
    "sql = '''\n",
    "    CREATE TABLE product (\n",
    "        PRODUCT_CODE VARCHAR(20) NOT NULL,\n",
    "        TITLE VARCHAR(200) NOT NULL,\n",
    "        ORI_PRICE INT,\n",
    "        DISCOUNT_PRICE INT,\n",
    "        DISCOUNT_PERCENT INT,\n",
    "        DELIVERY VARCHAR(2),\n",
    "        PRIMARY KEY(PRODUCT_CODE)\n",
    "    );\n",
    "'''\n",
    "\n",
    "# 5. SQL 구문 실행하기\n",
    "cursor.execute(sql)\n",
    "\n",
    "# 6. DB에 Complete 하기\n",
    "db.commit()\n",
    "\n",
    "# 7. DB 연결 닫기\n",
    "db.close()"
   ]
  },
  {
   "cell_type": "markdown",
   "metadata": {},
   "source": [
    "### 데이터 삽입(INSERT) 패턴 코드\n",
    "  - Cursor Object 가져오기: cursor = db.cursor()  \n",
    "  - SQL 실행하기: cursor.execute(SQL)\n",
    "  - 실행 mysql 서버에 확정 반영하기: db.commit()"
   ]
  },
  {
   "cell_type": "code",
   "execution_count": 29,
   "metadata": {},
   "outputs": [
    {
     "name": "stdout",
     "output_type": "stream",
     "text": [
      "INSERT INTO product VALUES('215673141',\n",
      "    '스위트바니 여름신상59000원~롱원피스티셔츠/긴팔/반팔', 53000, 15900, 30, 'F'\n",
      "    );\n",
      "    \n",
      "INSERT INTO product VALUES('215673142',\n",
      "    '스위트바니 여름신상59000원~롱원피스티셔츠/긴팔/반팔', 53000, 15900, 30, 'F'\n",
      "    );\n",
      "    \n",
      "INSERT INTO product VALUES('215673143',\n",
      "    '스위트바니 여름신상59000원~롱원피스티셔츠/긴팔/반팔', 53000, 15900, 30, 'F'\n",
      "    );\n",
      "    \n",
      "INSERT INTO product VALUES('215673144',\n",
      "    '스위트바니 여름신상59000원~롱원피스티셔츠/긴팔/반팔', 53000, 15900, 30, 'F'\n",
      "    );\n",
      "    \n",
      "INSERT INTO product VALUES('215673145',\n",
      "    '스위트바니 여름신상59000원~롱원피스티셔츠/긴팔/반팔', 53000, 15900, 30, 'F'\n",
      "    );\n",
      "    \n",
      "INSERT INTO product VALUES('215673146',\n",
      "    '스위트바니 여름신상59000원~롱원피스티셔츠/긴팔/반팔', 53000, 15900, 30, 'F'\n",
      "    );\n",
      "    \n",
      "INSERT INTO product VALUES('215673147',\n",
      "    '스위트바니 여름신상59000원~롱원피스티셔츠/긴팔/반팔', 53000, 15900, 30, 'F'\n",
      "    );\n",
      "    \n",
      "INSERT INTO product VALUES('215673148',\n",
      "    '스위트바니 여름신상59000원~롱원피스티셔츠/긴팔/반팔', 53000, 15900, 30, 'F'\n",
      "    );\n",
      "    \n",
      "INSERT INTO product VALUES('215673149',\n",
      "    '스위트바니 여름신상59000원~롱원피스티셔츠/긴팔/반팔', 53000, 15900, 30, 'F'\n",
      "    );\n",
      "    \n",
      "INSERT INTO product VALUES('215673150',\n",
      "    '스위트바니 여름신상59000원~롱원피스티셔츠/긴팔/반팔', 53000, 15900, 30, 'F'\n",
      "    );\n",
      "    \n"
     ]
    }
   ],
   "source": [
    "# 1. 라이브러리 가져오기\n",
    "import pymysql\n",
    "\n",
    "# 2. 접속하기\n",
    "db = pymysql.connect(\n",
    "    host='localhost', \n",
    "    port=3306, \n",
    "    user='root', \n",
    "    passwd='1234', \n",
    "    db='ecommerce', \n",
    "    charset='utf8')\n",
    "\n",
    "# 3. 커서 가져오기\n",
    "cursor = db.cursor()\n",
    "\n",
    "for index in range(10):\n",
    "    product_code = 215673140 + index + 1\n",
    "    SQL = \"\"\"INSERT INTO product VALUES('\"\"\" + str(product_code) + \"\"\"',\n",
    "    '스위트바니 여름신상59000원~롱원피스티셔츠/긴팔/반팔', 53000, 15900, 30, 'F'\n",
    "    );\n",
    "    \"\"\"\n",
    "    print(SQL)\n",
    "    cursor.execute(SQL)\n",
    "\n",
    "\n",
    "# 6. DB에 Complete 하기\n",
    "db.commit()\n",
    "\n",
    "# 7. DB 연결 닫기\n",
    "db.close()"
   ]
  },
  {
   "cell_type": "markdown",
   "metadata": {},
   "source": [
    "### 데이터 조회(SELECT) 패턴 코드\n",
    "  - Cursor Object 가져오기: cursor = db.cursor()  \n",
    "  - SQL 실행하기: cursor.execute(SQL)\n",
    "  - mysql 서버로부터 데이터 가져오기: 다음과 같은 fetch 관련 메서드 사용\n",
    "\n",
    "   1. **fetchall()** : 이 메소드는 쿼리 결과의 모든 행을 가져옵니다. 결과는 튜플의 튜플로 반환됩니다. 각 내부 튜플은 하나의 레코드를 나타냅니다.\n",
    "\n",
    "```python\n",
    "cursor.execute(\"SELECT * FROM MyTable\")\n",
    "rows = cursor.fetchall()\n",
    "for row in rows:\n",
    "    print(row)\n",
    "```\n",
    "    \n",
    "    위 코드에서 `fetchall()`은 테이블의 모든 행을 반환합니다. \n",
    "\n",
    "2. **fetchone()** : 이 메소드는 쿼리 결과의 다음 행을 가져옵니다. 결과는 하나의 튜플로 반환되며, 튜플의 각 요소는 각 필드를 나타냅니다. 더 이상 가져올 행이 없으면 None을 반환합니다.\n",
    "\n",
    "```python\n",
    "cursor.execute(\"SELECT * FROM MyTable\")\n",
    "row = cursor.fetchone()\n",
    "while row is not None:\n",
    "    print(row)\n",
    "    row = cursor.fetchone()\n",
    "```\n",
    "    위 코드에서 `fetchone()`은 테이블의 한 행씩 순차적으로 반환합니다.\n",
    "\n",
    "3. **fetchmany(size)** : 이 메소드는 쿼리 결과의 다음 행들을 가져옵니다. 'size'는 가져올 행의 수를 지정합니다. 결과는 튜플의 튜플로 반환됩니다.\n",
    "\n",
    "```python\n",
    "cursor.execute(\"SELECT * FROM MyTable\")\n",
    "rows = cursor.fetchmany(5)\n",
    "while rows:\n",
    "    print(rows)\n",
    "    rows = cursor.fetchmany(5)\n",
    "```\n",
    "    위 코드에서 `fetchmany(5)`는 테이블의 다섯 행씩 순차적으로 반환합니다."
   ]
  },
  {
   "cell_type": "code",
   "execution_count": 32,
   "metadata": {},
   "outputs": [
    {
     "name": "stdout",
     "output_type": "stream",
     "text": [
      "('215673141', '스위트바니 여름신상59000원~롱원피스티셔츠/긴팔/반팔', 53000, 15900, 30, 'F')\n"
     ]
    }
   ],
   "source": [
    "# 1. 라이브러리 가져오기\n",
    "import pymysql\n",
    "\n",
    "# 2. 접속하기\n",
    "db = pymysql.connect(\n",
    "    host='localhost', \n",
    "    port=3306, \n",
    "    user='root', \n",
    "    passwd='1234', \n",
    "    db='ecommerce', \n",
    "    charset='utf8')\n",
    "\n",
    "# 3. 커서 가져오기\n",
    "cursor = db.cursor()\n",
    "SQL = \"SELECT * FROM product\"\n",
    "cursor.execute(SQL)\n",
    "rows = cursor.fetchone()\n",
    "print(rows)\n",
    "\n",
    "# 7. DB 연결 닫기\n",
    "db.close()"
   ]
  },
  {
   "cell_type": "code",
   "execution_count": 34,
   "metadata": {},
   "outputs": [
    {
     "name": "stdout",
     "output_type": "stream",
     "text": [
      "(('215673141', '스위트바니 여름신상59000원~롱원피스티셔츠/긴팔/반팔', 53000, 15900, 30, 'F'), ('215673142', '스위트바니 여름신상59000원~롱원피스티셔츠/긴팔/반팔', 53000, 15900, 30, 'F'), ('215673143', '스위트바니 여름신상59000원~롱원피스티셔츠/긴팔/반팔', 53000, 15900, 30, 'F'), ('215673144', '스위트바니 여름신상59000원~롱원피스티셔츠/긴팔/반팔', 53000, 15900, 30, 'F'), ('215673145', '스위트바니 여름신상59000원~롱원피스티셔츠/긴팔/반팔', 53000, 15900, 30, 'F'))\n"
     ]
    }
   ],
   "source": [
    "# 1. 라이브러리 가져오기\n",
    "import pymysql\n",
    "\n",
    "# 2. 접속하기\n",
    "db = pymysql.connect(\n",
    "    host='localhost', \n",
    "    port=3306, \n",
    "    user='root', \n",
    "    passwd='1234', \n",
    "    db='ecommerce', \n",
    "    charset='utf8')\n",
    "\n",
    "# 3. 커서 가져오기\n",
    "cursor = db.cursor()\n",
    "SQL = \"SELECT * FROM product\"\n",
    "cursor.execute(SQL)\n",
    "rows = cursor.fetchmany(5)\n",
    "print(rows)\n",
    "\n",
    "# 7. DB 연결 닫기\n",
    "db.close()"
   ]
  },
  {
   "cell_type": "code",
   "execution_count": 30,
   "metadata": {
    "scrolled": true
   },
   "outputs": [
    {
     "name": "stdout",
     "output_type": "stream",
     "text": [
      "('215673141', '스위트바니 여름신상59000원~롱원피스티셔츠/긴팔/반팔', 53000, 15900, 30, 'F')\n",
      "('215673142', '스위트바니 여름신상59000원~롱원피스티셔츠/긴팔/반팔', 53000, 15900, 30, 'F')\n",
      "('215673143', '스위트바니 여름신상59000원~롱원피스티셔츠/긴팔/반팔', 53000, 15900, 30, 'F')\n",
      "('215673144', '스위트바니 여름신상59000원~롱원피스티셔츠/긴팔/반팔', 53000, 15900, 30, 'F')\n",
      "('215673145', '스위트바니 여름신상59000원~롱원피스티셔츠/긴팔/반팔', 53000, 15900, 30, 'F')\n",
      "('215673146', '스위트바니 여름신상59000원~롱원피스티셔츠/긴팔/반팔', 53000, 15900, 30, 'F')\n",
      "('215673147', '스위트바니 여름신상59000원~롱원피스티셔츠/긴팔/반팔', 53000, 15900, 30, 'F')\n",
      "('215673148', '스위트바니 여름신상59000원~롱원피스티셔츠/긴팔/반팔', 53000, 15900, 30, 'F')\n",
      "('215673149', '스위트바니 여름신상59000원~롱원피스티셔츠/긴팔/반팔', 53000, 15900, 30, 'F')\n",
      "('215673150', '스위트바니 여름신상59000원~롱원피스티셔츠/긴팔/반팔', 53000, 15900, 30, 'F')\n"
     ]
    }
   ],
   "source": [
    "# 1. 라이브러리 가져오기\n",
    "import pymysql\n",
    "\n",
    "# 2. 접속하기\n",
    "db = pymysql.connect(\n",
    "    host='localhost', \n",
    "    port=3306, \n",
    "    user='root', \n",
    "    passwd='1234', \n",
    "    db='ecommerce', \n",
    "    charset='utf8')\n",
    "\n",
    "# 3. 커서 가져오기\n",
    "cursor = db.cursor()\n",
    "SQL = \"SELECT * FROM product\"\n",
    "cursor.execute(SQL)\n",
    "rows = cursor.fetchall()\n",
    "for row in rows:\n",
    "    print (row)\n",
    "\n",
    "# 7. DB 연결 닫기\n",
    "db.close()"
   ]
  },
  {
   "cell_type": "markdown",
   "metadata": {},
   "source": [
    "### 데이터 수정(UPDATE)\n",
    "  - Cursor Object 가져오기: cursor = db.cursor()  \n",
    "  - SQL 실행하기: cursor.execute(SQL)\n",
    "  - 실행 mysql 서버에 확정 반영하기: db.commit()"
   ]
  },
  {
   "cell_type": "code",
   "execution_count": 37,
   "metadata": {
    "scrolled": false
   },
   "outputs": [
    {
     "name": "stdout",
     "output_type": "stream",
     "text": [
      "\n",
      "    CREATE TABLE product (\n",
      "        PRODUCT_CODE VARCHAR(20) NOT NULL,\n",
      "        TITLE VARCHAR(200) NOT NULL,\n",
      "        ORI_PRICE INT,\n",
      "        DISCOUNT_PRICE INT,\n",
      "        DISCOUNT_PERCENT INT,\n",
      "        DELIVERY VARCHAR(2),\n",
      "        PRIMARY KEY(PRODUCT_CODE)\n",
      "    );\n",
      "\n"
     ]
    },
    {
     "data": {
      "text/plain": [
       "1"
      ]
     },
     "execution_count": 37,
     "metadata": {},
     "output_type": "execute_result"
    }
   ],
   "source": [
    "# 1. 라이브러리 가져오기\n",
    "import pymysql\n",
    "\n",
    "# 2. 접속하기\n",
    "db = pymysql.connect(\n",
    "    host='localhost', \n",
    "    port=3306, \n",
    "    user='root', \n",
    "    passwd='1234', \n",
    "    db='ecommerce', \n",
    "    charset='utf8')\n",
    "\n",
    "# 3. 커서 가져오기\n",
    "cursor = db.cursor()\n",
    "SQL = \"\"\"\n",
    "    update product set\n",
    "    title = '한여름 쿨링 티셔츠',\n",
    "    ori_price = 29000,\n",
    "    discount_price=9000,\n",
    "    discount_percent=30\n",
    "    where product_code='215673141'\n",
    "\"\"\"\n",
    "print(sql)\n",
    "cursor.execute(SQL)"
   ]
  },
  {
   "cell_type": "code",
   "execution_count": 40,
   "metadata": {},
   "outputs": [],
   "source": [
    "#완료후 commit()으로 업데이트 commit\n",
    "db.commit()\n",
    "db.close()"
   ]
  },
  {
   "cell_type": "code",
   "execution_count": 12,
   "metadata": {},
   "outputs": [],
   "source": [
    "# 1. 라이브러리 가져오기\n",
    "import pymysql\n",
    "\n",
    "# 2. 접속하기\n",
    "db = pymysql.connect(\n",
    "    host='localhost', \n",
    "    port=3306, \n",
    "    user='funcoding', \n",
    "    passwd='funcoding', \n",
    "    db='ecommerce', \n",
    "    charset='utf8')\n",
    "\n",
    "# 3. 커서 가져오기\n",
    "cursor = db.cursor()\n",
    "\n",
    "SQL = \"\"\"\n",
    "    UPDATE product SET\n",
    "        TITLE ='달리샵린넨원피스 뷔스티에 썸머 가디건 코디전',\n",
    "        ORI_PRICE=33000,\n",
    "        DISCOUNT_PRICE=9900,\n",
    "        DISCOUNT_PERCENT=70\n",
    "    WHERE PRODUCT_CODE = '215673141'\n",
    "\"\"\"\n",
    "print(SQL)\n",
    "\n",
    "cursor.execute(SQL)\n",
    "db.commit()\n",
    "db.close()"
   ]
  },
  {
   "cell_type": "markdown",
   "metadata": {},
   "source": [
    "### 데이터 삭제(DELETE)\n",
    "  - Cursor Object 가져오기: cursor = db.cursor()  \n",
    "  - SQL 실행하기: cursor.execute(SQL)\n",
    "  - 실행 mysql 서버에 확정 반영하기: db.commit()"
   ]
  },
  {
   "cell_type": "code",
   "execution_count": 41,
   "metadata": {},
   "outputs": [
    {
     "name": "stdout",
     "output_type": "stream",
     "text": [
      "\n",
      "    CREATE TABLE product (\n",
      "        PRODUCT_CODE VARCHAR(20) NOT NULL,\n",
      "        TITLE VARCHAR(200) NOT NULL,\n",
      "        ORI_PRICE INT,\n",
      "        DISCOUNT_PRICE INT,\n",
      "        DISCOUNT_PERCENT INT,\n",
      "        DELIVERY VARCHAR(2),\n",
      "        PRIMARY KEY(PRODUCT_CODE)\n",
      "    );\n",
      "\n"
     ]
    },
    {
     "data": {
      "text/plain": [
       "1"
      ]
     },
     "execution_count": 41,
     "metadata": {},
     "output_type": "execute_result"
    }
   ],
   "source": [
    "# 1. 라이브러리 가져오기\n",
    "import pymysql\n",
    "\n",
    "# 2. 접속하기\n",
    "db = pymysql.connect(\n",
    "    host='localhost', \n",
    "    port=3306, \n",
    "    user='root', \n",
    "    passwd='1234', \n",
    "    db='ecommerce', \n",
    "    charset='utf8')\n",
    "\n",
    "# 3. 커서 가져오기\n",
    "cursor = db.cursor()\n",
    "SQL = \"\"\"\n",
    "    delete from product\n",
    "    where product_code='215673141'\n",
    "\"\"\"\n",
    "print(sql)\n",
    "cursor.execute(SQL)"
   ]
  },
  {
   "cell_type": "code",
   "execution_count": 42,
   "metadata": {},
   "outputs": [],
   "source": [
    "db.commit()\n",
    "db.close()"
   ]
  },
  {
   "cell_type": "code",
   "execution_count": 13,
   "metadata": {},
   "outputs": [
    {
     "name": "stdout",
     "output_type": "stream",
     "text": [
      "DELETE FROM product WHERE PRODUCT_CODE = '215673142'; \n"
     ]
    }
   ],
   "source": [
    "import pymysql\n",
    "\n",
    "db = pymysql.connect(\n",
    "    host='localhost', \n",
    "    port=3306, \n",
    "    user='funcoding', \n",
    "    passwd='funcoding', \n",
    "    db='ecommerce', \n",
    "    charset='utf8')\n",
    "cursor = db.cursor()\n",
    "\n",
    "SQL = \"\"\"DELETE FROM product WHERE PRODUCT_CODE = '215673142'; \"\"\"\n",
    "print(SQL)\n",
    "\n",
    "cursor.execute(SQL)\n",
    "db.commit()\n",
    "db.close()"
   ]
  },
  {
   "cell_type": "markdown",
   "metadata": {},
   "source": [
    "<div class=\"alert alert-block\" style=\"border: 1px solid #455A64;background-color:#ECEFF1;padding:5px;font-size:0.9em;\">\n",
    "  본 자료와 관련 영상 컨텐츠는 저작권법 제25조 2항에 의해 보호를 받습니다. <br>본 컨텐츠 및 컨텐츠 일부 문구 등을 외부에 공개하거나, 요약해서 게시하지 말아주세요.<br>Copyright <a href=\"https://www.fun-coding.org\">잔재미코딩</a> Dave Lee\n",
    "</div>"
   ]
  }
 ],
 "metadata": {
  "kernelspec": {
   "display_name": "Python 3 (ipykernel)",
   "language": "python",
   "name": "python3"
  },
  "language_info": {
   "codemirror_mode": {
    "name": "ipython",
    "version": 3
   },
   "file_extension": ".py",
   "mimetype": "text/x-python",
   "name": "python",
   "nbconvert_exporter": "python",
   "pygments_lexer": "ipython3",
   "version": "3.9.13"
  },
  "nbTranslate": {
   "displayLangs": [
    "*"
   ],
   "hotkey": "alt-t",
   "langInMainMenu": true,
   "sourceLang": "en",
   "targetLang": "fr",
   "useGoogleTranslate": true
  }
 },
 "nbformat": 4,
 "nbformat_minor": 2
}
